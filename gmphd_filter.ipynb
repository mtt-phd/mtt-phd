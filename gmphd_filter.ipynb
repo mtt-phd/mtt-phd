{
 "cells": [
  {
   "cell_type": "code",
   "execution_count": 1,
   "metadata": {},
   "outputs": [],
   "source": [
    "import numpy as np \n",
    "import pandas as pd"
   ]
  },
  {
   "cell_type": "code",
   "execution_count": null,
   "metadata": {},
   "outputs": [],
   "source": [
    "\"\"\"\n",
    "\n",
    "\n",
    "\n",
    "Based on the pseudocode here: https://ieeexplore-ieee-org.eres.library.manoa.hawaii.edu/document/1710358\n",
    "\"\"\"\n",
    "\n",
    "class mtt_phd:\n",
    "\n",
    "    \"\"\"\n",
    "    declare all variables use as basis\n",
    "    \"\"\"\n",
    "    def __init__(self, weights, means, p_cov, target_set):\n",
    "        self.birth_weights = weights\n",
    "        self.birth_gaussian_means = means\n",
    "        self.birth_conv_matrix = p_cov\n",
    "        # self.measurement_set = z_k\n",
    "        self.birth_target_set = target_set\n",
    "    \n",
    "    \"\"\"\n",
    "    step 1\n",
    "    prediction for birth targets\n",
    "    \"\"\"\n",
    "    def predict_birth(): \n",
    "        i = 0\n",
    "        for j in len():\n",
    "            print()\n",
    "    \n",
    "    \"\"\"\n",
    "    step 2\n",
    "    prediction for existing targets\n",
    "    \"\"\"\n",
    "    def predict_exist():\n",
    "        i = 0\n",
    "    \n",
    "    \"\"\"\n",
    "    step 3\n",
    "    construction of PHD update components\n",
    "    \"\"\"\n",
    "    def phd_components_update(): \n",
    "        i = 0\n",
    "    \n",
    "    \"\"\"\n",
    "    step 4 \n",
    "    update\n",
    "    \"\"\"\n",
    "\n",
    "    def update(): \n",
    "         i = 0\n",
    "    \n",
    "    \"\"\"\n",
    "    step pruning \n",
    "\n",
    "    retrains the best components\n",
    "    \"\"\"\n",
    "    def prune_alg(): \n",
    "        i = 0\n",
    "    \n",
    "    \"\"\"\n",
    "    step 5\n",
    "    output of doing PHD filter\n",
    "    \"\"\"\n",
    "\n",
    "    def return_findings(): \n",
    "        i = 0\n",
    "\n"
   ]
  }
 ],
 "metadata": {
  "kernelspec": {
   "display_name": "base",
   "language": "python",
   "name": "python3"
  },
  "language_info": {
   "codemirror_mode": {
    "name": "ipython",
    "version": 3
   },
   "file_extension": ".py",
   "mimetype": "text/x-python",
   "name": "python",
   "nbconvert_exporter": "python",
   "pygments_lexer": "ipython3",
   "version": "3.9.13"
  }
 },
 "nbformat": 4,
 "nbformat_minor": 2
}
