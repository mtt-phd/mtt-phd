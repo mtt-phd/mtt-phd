{
 "cells": [
  {
   "cell_type": "code",
   "execution_count": 1,
   "metadata": {},
   "outputs": [],
   "source": [
    "import numpy as np\n",
    "import scipy.stats as sc\n",
    "from matplotlib import colormaps\n",
    "import matplotlib.pyplot as plt\n",
    "import matplotlib.cm as cm\n",
    "from time import time"
   ]
  },
  {
   "cell_type": "code",
   "execution_count": 2,
   "metadata": {},
   "outputs": [
    {
     "data": {
      "text/plain": [
       "array([[[ -8.07218076,  -4.49125581,  -0.91033086,   2.67059409,\n",
       "           6.25151904,   9.83244399,  13.41336894,  16.99429389,\n",
       "          20.57521884,  24.15614379],\n",
       "        [ -0.8844742 ,  -2.77044353,  -4.65641285,  -6.54238217,\n",
       "          -8.4283515 , -10.31432082, -12.20029014, -14.08625947,\n",
       "         -15.97222879, -17.85819811],\n",
       "        [ -3.88086752,  -2.92152956,  -1.96219159,  -1.00285363,\n",
       "          -0.04351567,   0.91582229,   1.87516025,   2.83449821,\n",
       "           3.79383618,   4.75317414]],\n",
       "\n",
       "       [[ -6.46454434,  -3.36883308,  -0.27312181,   2.82258945,\n",
       "           5.91830072,   9.01401198,  12.10972325,  15.20543452,\n",
       "          18.30114578,  21.39685705],\n",
       "        [  5.1703906 ,   6.05898913,   6.94758765,   7.83618618,\n",
       "           8.72478471,   9.61338324,  10.50198177,  11.3905803 ,\n",
       "          12.27917883,  13.16777736],\n",
       "        [ -1.3581392 ,  -0.35850924,   0.64112072,   1.64075068,\n",
       "           2.64038064,   3.6400106 ,   4.63964056,   5.63927052,\n",
       "           6.63890048,   7.63853044]],\n",
       "\n",
       "       [[  1.68195938,   2.49405235,   3.30614531,   4.11823828,\n",
       "           4.93033125,   5.74242422,   6.55451719,   7.36661016,\n",
       "           8.17870312,   8.99079609],\n",
       "        [ -8.31111358,  -7.9489405 ,  -7.58676742,  -7.22459434,\n",
       "          -6.86242126,  -6.50024818,  -6.13807511,  -5.77590203,\n",
       "          -5.41372895,  -5.05155587],\n",
       "        [ -9.16771652,  -8.18914256,  -7.21056859,  -6.23199463,\n",
       "          -5.25342067,  -4.2748467 ,  -3.29627274,  -2.31769877,\n",
       "          -1.33912481,  -0.36055085]]])"
      ]
     },
     "execution_count": 2,
     "metadata": {},
     "output_type": "execute_result"
    }
   ],
   "source": [
    "# ground truth data\n",
    "ground_truths = np.load('mt_trajectories.npy')\n",
    "ground_truths"
   ]
  },
  {
   "cell_type": "markdown",
   "metadata": {},
   "source": [
    "## Background"
   ]
  },
  {
   "cell_type": "markdown",
   "metadata": {},
   "source": [
    "### Motion model"
   ]
  },
  {
   "cell_type": "code",
   "execution_count": 3,
   "metadata": {},
   "outputs": [],
   "source": [
    "# # utility functions\n",
    "# this is the version for [x, dx, y, dy]\n",
    "# def create_state_matrix(dt:float= 1.0, dim:int = 2):\n",
    "#     mat = []\n",
    "#     for i in range(dim):\n",
    "#         row = []\n",
    "#         for j in range(dim):\n",
    "#             if i == j:\n",
    "#                 row.append(np.array([[1, dt], [0, 1]]))\n",
    "#             else:\n",
    "#                 row.append(np.zeros((2, 2)))\n",
    "#         mat.append(row)\n",
    "#     return np.block(mat)\n",
    "\n",
    "def create_state_matrix(dt:float = 1.0, dim:int = 2)->np.ndarray:\n",
    "    \"\"\"Creates a state transition matrix for an n-dimensional constant velocity model.\n",
    "\n",
    "    The matrix is composed of four (dim x dim) blocks:\n",
    "\n",
    "        [ I   I*dt ]\n",
    "        [ 0     I  ]\n",
    "\n",
    "    where:\n",
    "        - I is the identity matrix\n",
    "        - 0 is the zero matrix\n",
    "        - dt is the timestep length\n",
    "\n",
    "    Args:\n",
    "        dt (float, optional): Length of a single timestep. Defaults to 1.0.\n",
    "        dim (int, optional): Number of spatial dimensions. Set to 2 for 2D (x, y) motion, 3 for 3D (x, y, z) motion, etc. Defaults to 2.\n",
    "\n",
    "    Returns:\n",
    "        np.ndarray: The state transition matrix.\n",
    "    \"\"\"\n",
    "    return np.vstack((\n",
    "        np.hstack((np.identity(dim), np.identity(dim) * dt)),\n",
    "        np.hstack((np.zeros((dim, dim)), np.identity(dim)))\n",
    "    ))\n",
    "\n",
    "\n",
    "def create_measurement_matrix(dim:int = 2)->np.ndarray:\n",
    "    \"\"\"Creates a measurement matrix for an n-dimensional constant velocity model.\n",
    "\n",
    "    The matrix H maps the full state to position measurements only:\n",
    "\n",
    "        [ I  0 ]\n",
    "\n",
    "    where:\n",
    "        - I is the identity matrix (measures position)\n",
    "        - 0 is the zero matrix (ignores velocity)\n",
    "\n",
    "    Args:\n",
    "        dim (int, optional): Number of spatial dimensions. Set to 2 for 2D (x, y) motion, 3 for 3D (x, y, z) motion, etc. Defaults to 2.\n",
    "\n",
    "    Returns:\n",
    "        np.ndarray: The measurement matrix.\n",
    "    \"\"\"\n",
    "    return np.hstack((np.identity(dim), np.zeros((dim, dim))))"
   ]
  },
  {
   "cell_type": "markdown",
   "metadata": {},
   "source": [
    "The motion model describes how objects of a system move. Define the motion model as $$x_{k+1} = F \\times x_{k} + w_{k}$$ where\n",
    "\\begin{gather*}\n",
    "    \\text{$x_{k+1}$: next state} \\\\\n",
    "    \\text{$F$: state transition matrix} \\\\\n",
    "    \\text{$x_{k}$: current state} \\\\\n",
    "    \\text{$w_{k}$: process noise.} \\\\\n",
    "\\end{gather*}\n",
    "\n",
    "Assume motion is constant velocity in 2 dimensions, where state is represented by $[x, y, v_{x}, v_{y}]$ (i.e., x-pos, y-pos, x-vel, y-vel). Then, $F$ is defined by\n",
    "$$ F = \\begin{bmatrix}\n",
    "    1 & 0 & dt & 0 \\\\\n",
    "    0 & 1 & 0 & dt \\\\\n",
    "    0 & 0 & 1 & 0 \\\\\n",
    "    0 & 0 & 0 & 1 \\\\\n",
    "\\end{bmatrix}.$$"
   ]
  },
  {
   "cell_type": "code",
   "execution_count": 4,
   "metadata": {},
   "outputs": [
    {
     "data": {
      "text/plain": [
       "array([[1., 0., 1., 0.],\n",
       "       [0., 1., 0., 1.],\n",
       "       [0., 0., 1., 0.],\n",
       "       [0., 0., 0., 1.]])"
      ]
     },
     "execution_count": 4,
     "metadata": {},
     "output_type": "execute_result"
    }
   ],
   "source": [
    "# dimensions\n",
    "dim = 2\n",
    "# timestep (1s)\n",
    "dt = 1.0\n",
    "# state transition matrix\n",
    "F = create_state_matrix(dt, dim)\n",
    "F"
   ]
  },
  {
   "cell_type": "markdown",
   "metadata": {},
   "source": [
    "Assume $w_{k}$ has 0 mean and 0.25 variance. Sampled from a multivariate Gaussian, its covariance $Q$ is defined by\n",
    "$$ Q = \\begin{bmatrix}\n",
    "    0.25 & 0 & 0 & 0 \\\\\n",
    "    0 & 0.25 & 0 & 0 \\\\\n",
    "    0 & 0 & 0.25 & 0 \\\\\n",
    "    0 & 0 & 0 & 0.25 \\\\\n",
    "\\end{bmatrix}.$$"
   ]
  },
  {
   "cell_type": "code",
   "execution_count": 5,
   "metadata": {},
   "outputs": [
    {
     "data": {
      "text/plain": [
       "array([[0.25, 0.  , 0.  , 0.  ],\n",
       "       [0.  , 0.25, 0.  , 0.  ],\n",
       "       [0.  , 0.  , 0.25, 0.  ],\n",
       "       [0.  , 0.  , 0.  , 0.25]])"
      ]
     },
     "execution_count": 5,
     "metadata": {},
     "output_type": "execute_result"
    }
   ],
   "source": [
    "# process noise covariance\n",
    "Q = np.identity(F.shape[0]) * 0.25\n",
    "Q"
   ]
  },
  {
   "cell_type": "code",
   "execution_count": 6,
   "metadata": {},
   "outputs": [],
   "source": [
    "def simulate_motion_basic(num_steps:int=10, init_truths:int=3)->dict[int, list[np.ndarray]]:\n",
    "    \"\"\"Simulates simple motion of multiple objects in an n-dimensional space.\n",
    "\n",
    "    Args:\n",
    "        num_steps (int, optional): Number of timesteps to simulate. Defaults to 10.\n",
    "        init_truths (int, optional): Number of initial objects. Defaults to 3.\n",
    "\n",
    "    Returns:  \n",
    "        dict[int, list[np.ndarray]]: Dictionary containing the states of each object at each timestep. Each key is the object index (0, 1, 2, ...). Each value is a list of state vectors with shape (4,) representing (x, y, dx, dy). \n",
    "    \"\"\"\n",
    "    all_states = {}\n",
    "    # initial truths\n",
    "    for i in range(init_truths):\n",
    "        state = np.array([\n",
    "            # initial position (x, y) ~ U(-30, 30) x U(-30, 30)\n",
    "            *np.random.uniform(-30, 30, 2),\n",
    "            # initial velocity (dx, dy) ~ U(-2, 2) x U(-2, 2)\n",
    "            *np.random.uniform(-2, 2, 2),\n",
    "        ])\n",
    "\n",
    "        all_states[i] = [state.copy()]\n",
    "\n",
    "    for step in range(1, num_steps + 1):\n",
    "        \n",
    "        # propagate state for each object\n",
    "        for i in all_states.keys():\n",
    "            # get previous state\n",
    "            state = all_states[i][-1]\n",
    "\n",
    "            # propagate state with noise\n",
    "            new_state = F @ state + np.random.multivariate_normal(np.zeros(Q[0].size), Q)\n",
    "            \n",
    "            all_states[i].append(new_state.copy())\n",
    "\n",
    "    return all_states\n"
   ]
  },
  {
   "cell_type": "code",
   "execution_count": 7,
   "metadata": {},
   "outputs": [
    {
     "data": {
      "image/png": "[encoded data removed]",
      "text/plain": [
       "<Figure size 640x480 with 1 Axes>"
      ]
     },
     "metadata": {},
     "output_type": "display_data"
    }
   ],
   "source": [
    "# generate ground truths (i.e., true motion)\n",
    "# assume 3 components\n",
    "%matplotlib inline\n",
    "num_components = 3\n",
    "ground_truths = simulate_motion_basic(num_steps=30, init_truths=num_components)\n",
    "for i, state in ground_truths.items():\n",
    "    pos = np.array([s[:2] for s in state])\n",
    "    plt.plot(*pos[:,:2].T, label=f'Component {i + 1}')\n",
    "    plt.legend()\n",
    "plt.show()"
   ]
  },
  {
   "cell_type": "markdown",
   "metadata": {},
   "source": [
    "Now, assume objects have a specific birth and death probability. Birth refers to the spontaneous introduction of an object into a scene, whereas death refers to the spontaneous removal of an object from a scene."
   ]
  },
  {
   "cell_type": "code",
   "execution_count": 8,
   "metadata": {},
   "outputs": [],
   "source": [
    "def simulate_motion(F:np.ndarray, Q:np.ndarray, num_steps:int = 10, init_truths:int = 3, birth_prob:float = 0.2, death_prob:float = 0.05)->dict[int, list[np.ndarray]]:\n",
    "    \"\"\"Simulates the motion of multiple objects in an n-dimensional space with birth and death probabilities. A generalized form of the previous method to include birth and death probabilities.   \n",
    "\n",
    "    Args:\n",
    "        F (np.ndarray): State transition matrix. Must match the dimensions of the state vector.\n",
    "        Q (np.ndarray): Process noise covariance matrix. Must match the dimensions of the state vector.\n",
    "        num_steps (int, optional): Number of timesteps to simulate. Defaults to 10.\n",
    "        init_truths (int, optional): Number of initial objects. Defaults to 3.\n",
    "        birth_prob (float, optional): Probability that a new object is born. Defaults to 0.2.\n",
    "        death_prob (float, optional): Probability that an existing object dies. Defaults to 0.05.\n",
    "\n",
    "    Returns:  \n",
    "        dict[int, list[np.ndarray]]: Dictionary containing the states of each object at each timestep. Each key is the object index (0, 1, 2, ...). Each value is a list of state vectors with shape (4,) representing (x, y, dx, dy). \n",
    "    \"\"\"\n",
    "    \n",
    "    all_states = {}\n",
    "    # initial truths\n",
    "    for i in range(init_truths):\n",
    "        state = np.array([\n",
    "            # initial position (x, y) ~ U(-30, 30) x U(-30, 30)\n",
    "            *np.random.uniform(-30, 30, 2),\n",
    "            # initial velocity (dx, dy) ~ U(-2, 2) x U(-2, 2)\n",
    "            *np.random.uniform(-2, 2, 2),\n",
    "        ])\n",
    "\n",
    "        # initial state at t=0\n",
    "        all_states[i] = [state.copy()]\n",
    "\n",
    "    # next id for new objects that are born\n",
    "    next_id = init_truths\n",
    "\n",
    "    for step in range(1, num_steps + 1):\n",
    "        \n",
    "        for i in all_states.keys():\n",
    "            # get i's previous (t-1) state\n",
    "            state = all_states[i][-1]\n",
    "\n",
    "            # if dead, stay dead\n",
    "            if state is None:\n",
    "                # None is used to indicate that the object is dead at this timestep\n",
    "                all_states[i].append(None)\n",
    "                continue\n",
    "\n",
    "            # death\n",
    "            if np.random.rand() <= death_prob:\n",
    "                # None is used to indicate that the object is dead at this timestep\n",
    "                all_states[i].append(None)\n",
    "                continue\n",
    "\n",
    "            # propagate state (with noise) for each object\n",
    "            new_state = F @ state + np.random.multivariate_normal(np.zeros(Q[0].size), Q)\n",
    "\n",
    "            all_states[i].append(new_state.copy())\n",
    "\n",
    "        # birth\n",
    "        if np.random.rand() <= birth_prob:\n",
    "            state = np.array([\n",
    "                *np.random.uniform(-30, 30, 2),\n",
    "                *np.random.uniform(-2, 2, 2),\n",
    "            ])\n",
    "            # since we are adding a new object, we need to set its state to None for all previous timesteps\n",
    "            all_states[next_id] = [None] * step + [state.copy()]\n",
    "\n",
    "            # increment id for the next new object\n",
    "            next_id += 1\n",
    "\n",
    "    return all_states"
   ]
  },
  {
   "cell_type": "code",
   "execution_count": 9,
   "metadata": {},
   "outputs": [
    {
     "data": {
      "text/plain": [
       "<matplotlib.legend.Legend at 0x139c4bb90>"
      ]
     },
     "execution_count": 9,
     "metadata": {},
     "output_type": "execute_result"
    },
    {
     "data": {
      "image/png": "[encoded data removed]",
      "text/plain": [
       "<Figure size 640x480 with 1 Axes>"
      ]
     },
     "metadata": {},
     "output_type": "display_data"
    }
   ],
   "source": [
    "birth_death_truths = simulate_motion(F, Q, num_steps=30, birth_prob=0.05, death_prob=0.005)\n",
    "for i, state in birth_death_truths.items():\n",
    "    pos = np.array([s[:2] if s is not None else [np.nan, np.nan] for s in state])\n",
    "    plt.plot(*pos[:,:2].T, label=f'Component {i + 1}')\n",
    "plt.legend()"
   ]
  },
  {
   "cell_type": "markdown",
   "metadata": {},
   "source": [
    "### Measurement model"
   ]
  },
  {
   "cell_type": "markdown",
   "metadata": {},
   "source": [
    "The measurement model describes what the sensor sees. Define the measurement model as $$ z_{k} = Hx_{k} + v_{k}$$ where\n",
    "\\begin{gather*}\n",
    "    \\text{$z_{k}$: observed measurement} \\\\\n",
    "    \\text{$H$: measurement matrix} \\\\\n",
    "    \\text{$v_{k}$: measurement noise.} \\\\\n",
    "\\end{gather*}\n",
    "\n",
    "Assume a sensor only measures position. Then, $H$ is defined by\n",
    "$$ H = \\begin{bmatrix}\n",
    "    1 & 0 & 0 & 0 \\\\\n",
    "    0 & 1 & 0 & 0 \\\\\n",
    "\\end{bmatrix}.$$\n"
   ]
  },
  {
   "cell_type": "code",
   "execution_count": 10,
   "metadata": {},
   "outputs": [
    {
     "data": {
      "text/plain": [
       "array([[1., 0., 0., 0.],\n",
       "       [0., 1., 0., 0.]])"
      ]
     },
     "execution_count": 10,
     "metadata": {},
     "output_type": "execute_result"
    }
   ],
   "source": [
    "# measurement matrix\n",
    "H = create_measurement_matrix(dim)\n",
    "H"
   ]
  },
  {
   "cell_type": "markdown",
   "metadata": {},
   "source": [
    "Assume $v_{k}$ has 0 mean and 0.75 variance. Its covariance R is defined by\n",
    "$$ R = \\begin{bmatrix}\n",
    "    0.75 & 0 \\\\\n",
    "    0 & 0.75 \\\\\n",
    "\\end{bmatrix}.$$"
   ]
  },
  {
   "cell_type": "code",
   "execution_count": 11,
   "metadata": {},
   "outputs": [
    {
     "data": {
      "text/plain": [
       "array([[0.75, 0.  ],\n",
       "       [0.  , 0.75]])"
      ]
     },
     "execution_count": 11,
     "metadata": {},
     "output_type": "execute_result"
    }
   ],
   "source": [
    "# measurement noise covariance\n",
    "R = np.identity(H.shape[0]) * 0.75\n",
    "R"
   ]
  },
  {
   "cell_type": "markdown",
   "metadata": {},
   "source": [
    "Assume the sensors have a certain detection rate. Sensors frequently detect objects that are not targets of interest. These objects are referred to as clutter, which have to be filtered out from predictions."
   ]
  },
  {
   "cell_type": "code",
   "execution_count": 12,
   "metadata": {},
   "outputs": [],
   "source": [
    "def simulate_measurement(ground_truths:dict[int, list[np.ndarray]], H:np.ndarray, R:np.ndarray, num_steps:int=10, det_prob:float=0.9, clutter_rate:float=3.0)->dict[int, list[tuple[int, np.ndarray]]]:\n",
    "    \"\"\"Simulates the measurement process for multiple objects in an n-dimensional space.\n",
    "\n",
    "    Args:\n",
    "        ground_truths (dict[int, list[np.ndarray]]): \n",
    "            Dictionary containing the states of each object at each timestep. Each key is the object index (0, 1, 2, ...). Each value is a list of state vectors with shape (4,) representing (x, y, dx, dy).\n",
    "            \n",
    "        H (np.ndarray): \n",
    "            Measurement matrix. Must match the dimensions of the state vector.\n",
    "\n",
    "        R (np.ndarray): \n",
    "            Measurement noise covariance matrix. Must match the dimensions of the measurement vector. \n",
    "\n",
    "        num_steps (int, optional): \n",
    "            Number of timesteps to simulate. Defaults to 10.\n",
    "\n",
    "        det_prob (float, optional): \n",
    "            Probability of correctly detecting an object at each timestep. Defaults to 0.9.\n",
    "\n",
    "        clutter_rate (float, optional): \n",
    "            Rate at which clutter (false measurements) appears in the measurement process, modeled by a Poisson distribution. Defaults to 3.0.\n",
    "\n",
    "    Returns:\n",
    "        dict[int, list[tuple[int, np.ndarray]]]: \n",
    "            Dictionary containing the measurements at each timestep, where:\n",
    "                - Each key is the timestep index (0, 1, 2, ...). \n",
    "                - Each value is a list of tuples, where each tuple contains\n",
    "                    - the object index (or None for clutter) \n",
    "                    - the corresponding measurement vector.\n",
    "    \"\"\"\n",
    "    \n",
    "    # all measurements\n",
    "    all_measurements = {}\n",
    "\n",
    "    for step in range(num_steps):\n",
    "        measurements = []\n",
    "\n",
    "        # real measurement\n",
    "        for i, states in ground_truths.items():\n",
    "            # if step exceeds the number of true states, continue\n",
    "            if step >= len(states):\n",
    "                continue\n",
    "\n",
    "            # get the state at the current timestep\n",
    "            state = states[step]\n",
    "\n",
    "            # if an item is dead at the current timestep, continue\n",
    "            if state is None:\n",
    "                continue\n",
    "            \n",
    "            # detect an object with detection probability\n",
    "            # if the object is detected, add the measurement\n",
    "            if np.random.rand() <= det_prob:\n",
    "                measurement = H @ state + np.random.multivariate_normal(np.zeros(R[0].size), R)\n",
    "                measurements.append((i, measurement.copy()))\n",
    "\n",
    "        # clutter\n",
    "        for _ in range(np.random.poisson(clutter_rate)):\n",
    "            # clutter (x, y) ~ U(-100, 100) x U(-100, 100)\n",
    "            clutter = np.array([\n",
    "                np.random.uniform(-100, 100), \n",
    "                np.random.uniform(-100, 100)\n",
    "            ])\n",
    "            measurements.append((None, clutter.copy()))\n",
    "        \n",
    "        # the measurements for this timestep consist of the real measurements (obj_id, pos) and clutter (None, pos)\n",
    "        all_measurements[step] = measurements\n",
    "\n",
    "    return all_measurements\n"
   ]
  },
  {
   "cell_type": "code",
   "execution_count": 13,
   "metadata": {},
   "outputs": [
    {
     "data": {
      "text/plain": [
       "<matplotlib.legend.Legend at 0x139d16690>"
      ]
     },
     "execution_count": 13,
     "metadata": {},
     "output_type": "execute_result"
    },
    {
     "data": {
      "image/png": "[encoded data removed]",
      "text/plain": [
       "<Figure size 640x480 with 1 Axes>"
      ]
     },
     "metadata": {},
     "output_type": "display_data"
    }
   ],
   "source": [
    "# generate measurements\n",
    "all_measurements = simulate_measurement(birth_death_truths, H=H, R=R, num_steps=30)\n",
    "\n",
    "component_ids = sorted({i for measurements in all_measurements.values() for i, _ in measurements if i is not None})\n",
    "\n",
    "# matplotlib.colormaps\n",
    "cmap = colormaps['viridis']\n",
    "colors = [cmap(i / max(len(component_ids) - 1, 1)) for i in range(len(component_ids))]\n",
    "color_map = {comp: colors[idx] for idx, comp in enumerate(sorted(component_ids))}\n",
    "# color_map = {comp: colors(idx) for idx, comp in enumerate(sorted(component_ids))}\n",
    "\n",
    "\n",
    "for measurements in all_measurements.values():\n",
    "    for i, measurement in measurements:\n",
    "        if i is None:\n",
    "            plt.scatter(measurement[0], measurement[1], c='red', marker='x', label='Clutter')\n",
    "        else:\n",
    "            # color = color_map[i]\n",
    "            # plt.scatter(measurement[0], measurement[1], color=color, marker='o', label=f'Component {i + 1}')\n",
    "            plt.scatter(measurement[0], measurement[1], color='black', marker='o', label=f'Target')\n",
    "    \n",
    "for i, state in birth_death_truths.items():\n",
    "    pos = np.array([s[:2] if s is not None else [np.nan, np.nan] for s in state])\n",
    "    # print(pos)\n",
    "    plt.plot(*pos[:,:2].T, label=f'Ground truth {i + 1}', linestyle='dashed')\n",
    "\n",
    "# ignore duplicates\n",
    "handles, labels = plt.gca().get_legend_handles_labels()\n",
    "unique = dict(zip(labels, handles))\n",
    "order = np.argsort(list(unique.keys()))\n",
    "plt.legend([list(unique.values())[i] for i in order], [list(unique.keys())[i] for i in order])"
   ]
  },
  {
   "cell_type": "code",
   "execution_count": 14,
   "metadata": {},
   "outputs": [
    {
     "data": {
      "text/plain": [
       "{0: [array([ 1.3002011 , 18.77185139,  1.19432366, -1.68507522]),\n",
       "  array([ 3.27518028, 16.39896512,  0.84374235, -0.68169377]),\n",
       "  array([ 3.81201672, 15.37134586,  0.26495148, -0.26977236]),\n",
       "  array([ 4.13679347, 14.30593526,  0.49970258, -0.50813147]),\n",
       "  array([ 4.61974009, 13.49696245, -0.06368158, -0.61496401]),\n",
       "  array([ 4.6941965 , 13.16846261, -0.74861326, -0.02495876]),\n",
       "  array([ 4.08396399, 13.32181495, -0.39337801,  0.22942414]),\n",
       "  array([ 3.10884336, 12.62342214, -0.38527883,  0.29707989]),\n",
       "  array([ 1.86220351, 12.93149109,  0.30791485,  0.48856506]),\n",
       "  array([ 1.6507211 , 14.12721479, -0.18201116,  0.99453752]),\n",
       "  array([ 0.72750067, 15.06130584, -0.02416039,  0.63340564]),\n",
       "  array([ 1.00359023, 16.61817578,  0.55113454,  0.47529842]),\n",
       "  array([ 0.85433368, 17.31136063,  0.68505144,  0.46842567]),\n",
       "  array([ 1.55462396, 17.89074122,  0.45376676, -0.19763479]),\n",
       "  array([ 1.63092177, 17.68653426,  1.31000506, -1.71717191]),\n",
       "  array([ 3.41244393, 15.05085292,  2.37516743, -0.9741944 ]),\n",
       "  array([ 5.93213827, 14.3960592 ,  2.30124845, -1.69056295]),\n",
       "  array([ 8.70412365, 12.93324642,  2.17902591, -1.70438352]),\n",
       "  array([10.88327615, 10.20435275,  3.32506436, -1.74686755]),\n",
       "  array([14.58910928,  8.98541135,  3.29447803, -2.24515128]),\n",
       "  array([18.30792545,  7.59470635,  3.25874303, -2.50615613]),\n",
       "  array([22.2952325 ,  4.22806391,  3.81340631, -2.20754804]),\n",
       "  array([26.42653015,  2.87700044,  2.66432179, -2.72839097]),\n",
       "  array([28.99850779, -0.20473581,  3.368882  , -2.98283376]),\n",
       "  array([32.19855046, -3.30739744,  3.20002839, -2.62298805]),\n",
       "  array([35.37237205, -6.92404405,  3.3905006 , -1.51489578]),\n",
       "  array([39.11998904, -8.09162616,  3.07831262, -0.13597709]),\n",
       "  array([42.24358155, -8.15187236,  2.79939147, -0.31412551]),\n",
       "  array([45.31305288, -8.58387648,  2.65346435, -0.53860548]),\n",
       "  array([47.77128342, -9.35481172,  3.03775167, -2.24025616]),\n",
       "  array([ 50.3556632 , -11.99061031,   2.76352181,  -1.24940938])],\n",
       " 1: [array([29.59241277, 19.88865655,  0.87875424,  1.51459494]),\n",
       "  array([30.10155837, 22.17051562,  0.96348666,  0.67653556]),\n",
       "  array([31.10791779, 22.98249234,  0.9614313 ,  0.26240997]),\n",
       "  array([31.67833087, 23.50989174,  1.44857808,  0.56581061]),\n",
       "  array([32.53117173, 24.2820233 ,  0.59363579,  0.81090689]),\n",
       "  array([34.08953826, 24.42746316,  0.59648042, -0.05596451]),\n",
       "  array([34.21529689, 24.79230626,  0.41034261, -0.31650067]),\n",
       "  array([34.19907489, 23.98704177,  0.23151309, -0.0522855 ]),\n",
       "  array([34.77740572, 23.72358696, -0.19674863,  0.36448798]),\n",
       "  array([35.05053966, 23.58479776, -0.93084671,  0.85446939]),\n",
       "  array([33.58759651, 25.13694674, -0.4700801 ,  0.63415405]),\n",
       "  array([33.53298477, 25.49017812,  0.28728697,  0.93153286]),\n",
       "  array([33.42307994, 26.76468157,  1.28840682,  0.89700699]),\n",
       "  array([34.29928545, 27.07430187,  1.35897297,  0.05270903]),\n",
       "  array([35.32409733, 26.87106864,  1.28485108, -0.13540106]),\n",
       "  array([36.06243673, 27.40791488,  2.10783555,  0.10982665]),\n",
       "  array([38.15273115, 28.41383637,  2.80506209, -0.1760823 ]),\n",
       "  array([41.15231053, 28.4179501 ,  2.76060839, -0.36991493]),\n",
       "  array([44.01191223, 28.37812014,  3.24284729, -0.6298272 ]),\n",
       "  array([47.03402756, 27.02525358,  2.75327291, -0.94788923]),\n",
       "  array([49.44868536, 25.53948029,  2.99445959, -0.72633198]),\n",
       "  array([52.14363075, 25.08631685,  3.59949799, -0.67516231]),\n",
       "  array([54.77322278, 25.31616059,  4.28034348, -1.73506458]),\n",
       "  array([59.2867693 , 24.40295128,  4.45390161, -2.25715103]),\n",
       "  array([63.98275678, 21.37789753,  3.91612107, -2.82282787]),\n",
       "  array([67.74933681, 19.09028953,  3.89558197, -2.75964159]),\n",
       "  array([71.47370515, 16.35335872,  3.98579811, -2.83010024]),\n",
       "  array([75.20991762, 13.00055515,  4.32523387, -2.91532642]),\n",
       "  array([79.43415522, 10.52820092,  4.69338991, -3.10745763]),\n",
       "  array([83.71489515,  6.82540519,  4.89072617, -2.44408235]),\n",
       "  array([89.25290746,  4.6996512 ,  4.21559861, -3.28388059])],\n",
       " 2: [array([ 25.17480841, -21.71351585,   0.232476  ,  -0.36011784]),\n",
       "  array([ 25.37998923, -23.26381024,   0.16775823,  -0.29288383]),\n",
       "  array([ 25.78224909, -23.72790727,  -0.30795656,  -0.0959453 ]),\n",
       "  array([ 25.04246403, -23.80968618,  -0.23578111,  -0.03739561]),\n",
       "  array([ 25.26735761, -23.86834699,   0.26244853,   0.79869569]),\n",
       "  array([ 25.01306583, -22.86642283,   0.18279127,   1.46583068]),\n",
       "  array([ 2.52351362e+01, -2.22925423e+01,  2.18306161e-02,  2.76405354e+00]),\n",
       "  array([ 24.63430153, -19.93721112,   0.72705969,   3.13912199]),\n",
       "  array([ 24.95706499, -16.92335355,   0.9376168 ,   2.76343322]),\n",
       "  array([ 26.86147092, -13.79793091,   1.50846999,   2.58559709]),\n",
       "  array([ 28.29744214, -11.50800228,   1.69464226,   2.73836803]),\n",
       "  array([29.66103871, -8.10009526,  2.05971359,  2.15985637]),\n",
       "  array([30.14710201, -5.31366858,  2.18152327,  1.52665394]),\n",
       "  array([33.27596456, -4.12968224,  1.75023421,  1.99493834]),\n",
       "  array([33.71806534, -1.76421021,  1.12436456,  3.16285119]),\n",
       "  array([34.83102329,  0.97409394,  1.17152242,  2.87195665]),\n",
       "  array([35.36828442,  3.71402758,  0.60096004,  3.23738741]),\n",
       "  array([36.06558053,  7.80415534,  1.44683444,  2.72455473]),\n",
       "  array([36.9995274 , 10.3006763 ,  1.77676854,  2.49316871]),\n",
       "  array([38.40791333, 12.56570421,  1.96549237,  2.96113381]),\n",
       "  array([40.25996687, 15.50831927,  2.50541396,  3.57133552]),\n",
       "  array([42.91399777, 19.5130286 ,  1.97800922,  2.9236374 ]),\n",
       "  array([44.32980186, 22.46221972,  2.18364068,  2.29290236]),\n",
       "  array([46.18662008, 24.93355721,  1.71732138,  2.36549933]),\n",
       "  array([46.96975059, 28.06701273,  2.04122284,  2.76655564]),\n",
       "  array([49.24551265, 30.4084563 ,  1.12761303,  2.66148385]),\n",
       "  array([49.94005509, 33.41255806,  1.27287928,  2.74942122]),\n",
       "  array([51.88372834, 36.81898992,  2.10079586,  2.81888598]),\n",
       "  array([54.46037486, 40.4240878 ,  2.35729325,  2.61690008]),\n",
       "  array([57.42089727, 43.00287654,  2.80753284,  2.28424806]),\n",
       "  array([60.19641281, 45.10944742,  2.48879876,  1.86189103])]}"
      ]
     },
     "execution_count": 14,
     "metadata": {},
     "output_type": "execute_result"
    }
   ],
   "source": [
    "# true states\n",
    "birth_death_truths"
   ]
  },
  {
   "cell_type": "code",
   "execution_count": 15,
   "metadata": {},
   "outputs": [
    {
     "data": {
      "text/plain": [
       "{0: [(0, array([ 1.02442506, 18.68724383])),\n",
       "  (2, array([ 25.67554972, -22.71228516])),\n",
       "  (None, array([-95.59763259,  33.04730579])),\n",
       "  (None, array([ -3.75358588, -30.04611366])),\n",
       "  (None, array([-88.64776084,  88.22171385])),\n",
       "  (None, array([-68.5518451 ,  44.15285008])),\n",
       "  (None, array([ 51.17456769, -45.79761212])),\n",
       "  (None, array([-15.82457933, -33.06457029])),\n",
       "  (None, array([-18.86039822, -29.3022571 ]))],\n",
       " 1: [(0, array([ 4.80946489, 15.08024262])),\n",
       "  (1, array([30.05410638, 22.71178424])),\n",
       "  (2, array([ 25.91248949, -22.23753291])),\n",
       "  (None, array([59.23092679, 23.04411831])),\n",
       "  (None, array([-95.39913161, -90.60463732]))],\n",
       " 2: [(0, array([ 3.86226749, 17.47038333])),\n",
       "  (1, array([30.06478208, 22.97108136])),\n",
       "  (2, array([ 25.52189701, -22.08912298])),\n",
       "  (None, array([ 80.91394891, -39.71585177])),\n",
       "  (None, array([-53.11377292, -62.90673526])),\n",
       "  (None, array([-13.00675029,  71.09169935]))],\n",
       " 3: [(1, array([32.40408054, 22.78978463])),\n",
       "  (2, array([ 26.05357864, -25.03171431])),\n",
       "  (None, array([-56.66044498,  64.10643829])),\n",
       "  (None, array([10.22430415, 43.29826951])),\n",
       "  (None, array([77.38126659, 88.56137433])),\n",
       "  (None, array([-68.28913499,  70.40665693])),\n",
       "  (None, array([66.90654164, 51.97193459]))],\n",
       " 4: [(0, array([ 6.86772179, 14.14949481])),\n",
       "  (1, array([32.92800117, 22.6577598 ])),\n",
       "  (2, array([ 25.56987386, -24.92176274])),\n",
       "  (None, array([-99.94676323,  98.93323541])),\n",
       "  (None, array([-93.87989365, -24.8029234 ])),\n",
       "  (None, array([ 3.25049583, 44.7844605 ])),\n",
       "  (None, array([29.89959638, 98.87321376])),\n",
       "  (None, array([35.38246552, 12.61141197]))],\n",
       " 5: [(0, array([ 4.29433952, 13.98437586])),\n",
       "  (1, array([34.8556188 , 22.36266592])),\n",
       "  (2, array([ 24.16542302, -24.25701438])),\n",
       "  (None, array([-8.93169047, 54.50105789])),\n",
       "  (None, array([ 49.16645141, -27.57267284])),\n",
       "  (None, array([ 63.98084954, -40.5924699 ])),\n",
       "  (None, array([20.67951627, 55.59373136])),\n",
       "  (None, array([  6.89099603, -94.20657917]))],\n",
       " 6: [(0, array([ 3.32569213, 11.80253965])),\n",
       "  (1, array([33.61421491, 24.82182391])),\n",
       "  (2, array([ 24.77607821, -21.53439799])),\n",
       "  (None, array([-34.79748471,   6.40283777])),\n",
       "  (None, array([17.87229206, 21.34915155])),\n",
       "  (None, array([-21.57225227,  98.49098231])),\n",
       "  (None, array([-49.78152669, -18.64755258]))],\n",
       " 7: [(1, array([34.16529993, 24.78709954])),\n",
       "  (2, array([ 24.22172454, -19.4154633 ])),\n",
       "  (None, array([-50.90764425,  92.03123999])),\n",
       "  (None, array([ -8.20325428, -98.28438172]))],\n",
       " 8: [(0, array([ 1.52715943, 12.83614653])),\n",
       "  (1, array([34.57487982, 21.27527461])),\n",
       "  (None, array([56.88048484, 22.97533245])),\n",
       "  (None, array([  7.37967986, -96.66126313])),\n",
       "  (None, array([ -1.18018421, -33.27329476])),\n",
       "  (None, array([79.85318211, 53.2986017 ]))],\n",
       " 9: [(0, array([ 0.6307785, 14.3880927])),\n",
       "  (1, array([35.02986927, 22.84941873])),\n",
       "  (2, array([ 27.64201419, -13.65069332])),\n",
       "  (None, array([-13.97010762,  37.52050651])),\n",
       "  (None, array([-57.49088853,   9.39564813])),\n",
       "  (None, array([-74.06310454,  15.82096647])),\n",
       "  (None, array([-50.0152717 ,  90.50449722]))],\n",
       " 10: [(0, array([-0.07806518, 15.65622626])),\n",
       "  (1, array([33.29193235, 24.8796824 ])),\n",
       "  (2, array([ 30.1314929 , -13.16139994])),\n",
       "  (None, array([-88.99470585, -11.77242683])),\n",
       "  (None, array([-97.82425721,  11.47141766])),\n",
       "  (None, array([-2.69281315, -1.5312005 ]))],\n",
       " 11: [(0, array([ 2.55277275, 17.21521063])),\n",
       "  (1, array([33.24144296, 24.39901644])),\n",
       "  (2, array([30.4547808, -7.4253669])),\n",
       "  (None, array([-10.35601365, -17.32986963])),\n",
       "  (None, array([-5.64519746, 82.33387896])),\n",
       "  (None, array([ -1.90590393, -21.69278658]))],\n",
       " 12: [(0, array([ 1.35552977, 18.32459152])),\n",
       "  (1, array([33.47878962, 26.24208525])),\n",
       "  (2, array([29.42658611, -6.1051101 ])),\n",
       "  (None, array([-60.42259269,  -5.00944169])),\n",
       "  (None, array([-65.87000048,  58.68629882])),\n",
       "  (None, array([30.87663184, 47.34894002]))],\n",
       " 13: [(0, array([ 0.67244546, 16.28011531])),\n",
       "  (1, array([33.76652238, 28.09268785])),\n",
       "  (2, array([33.0482562 , -4.40526563])),\n",
       "  (None, array([ 67.99796962, -49.97159703])),\n",
       "  (None, array([-79.47663247, -16.94996708])),\n",
       "  (None, array([ 67.06355565, -16.32030545]))],\n",
       " 14: [(0, array([ 2.564018  , 16.46698923])),\n",
       "  (2, array([33.77165199, -2.61380441])),\n",
       "  (None, array([11.74697991, 28.5637211 ])),\n",
       "  (None, array([17.28661735, 97.14670451])),\n",
       "  (None, array([-21.70300031,   9.12308893])),\n",
       "  (None, array([27.11669175, 47.98427608])),\n",
       "  (None, array([-54.90255196,  -7.14191939]))],\n",
       " 15: [(0, array([ 2.50499751, 16.11053456])),\n",
       "  (1, array([36.00736547, 28.2892142 ])),\n",
       "  (2, array([33.99092482, -0.18193311])),\n",
       "  (None, array([ 76.16995848, -91.07110563])),\n",
       "  (None, array([2.56044115, 5.20438171])),\n",
       "  (None, array([44.1112701,  3.4062866]))],\n",
       " 16: [(0, array([ 6.58765489, 13.29256387])),\n",
       "  (2, array([35.3882994 ,  4.40618565])),\n",
       "  (None, array([-14.8575679 , -25.64814886])),\n",
       "  (None, array([ 44.42952908, -67.02126162])),\n",
       "  (None, array([-25.89975727,  13.18505353]))],\n",
       " 17: [(0, array([10.40532642, 14.17531863])),\n",
       "  (1, array([40.74916587, 27.89348904])),\n",
       "  (2, array([36.41605118,  7.70052064])),\n",
       "  (None, array([62.66171573, 39.85958946])),\n",
       "  (None, array([ 88.74101248, -32.1699147 ])),\n",
       "  (None, array([ 38.12902197, -18.28489152])),\n",
       "  (None, array([92.54666065, 71.61382193]))],\n",
       " 18: [(0, array([10.44946186,  9.46516003])),\n",
       "  (1, array([44.03523786, 27.53783887])),\n",
       "  (2, array([36.58996689,  9.01702869])),\n",
       "  (None, array([ 11.80686892, -68.47488153])),\n",
       "  (None, array([ 28.54098971, -87.76084493])),\n",
       "  (None, array([-93.63098903,  62.82650014]))],\n",
       " 19: [(0, array([14.94907252,  9.22453067])),\n",
       "  (1, array([45.60943676, 26.10547717])),\n",
       "  (2, array([39.10148498, 11.75450372])),\n",
       "  (None, array([66.34408412, -2.52607446])),\n",
       "  (None, array([ -3.14700348, -31.20824047]))],\n",
       " 20: [(0, array([19.02518396,  7.60338677])),\n",
       "  (2, array([41.61718247, 16.06158752])),\n",
       "  (None, array([-65.81711125,  11.59791207])),\n",
       "  (None, array([-81.31691905, -98.0305589 ])),\n",
       "  (None, array([-42.43476579, -94.16946432]))],\n",
       " 21: [(1, array([53.09964254, 25.0222775 ])),\n",
       "  (2, array([44.02867259, 19.37774507])),\n",
       "  (None, array([-97.34842444, -70.01756888])),\n",
       "  (None, array([-85.42438317,  83.3860005 ])),\n",
       "  (None, array([ 67.84980571, -32.27237616])),\n",
       "  (None, array([44.15902787, 50.97902473])),\n",
       "  (None, array([-57.76237851,  57.19548815]))],\n",
       " 22: [(0, array([27.97155249,  2.66902735])),\n",
       "  (1, array([54.59335988, 25.71430426])),\n",
       "  (2, array([43.07866788, 22.43308263])),\n",
       "  (None, array([-98.24881893, -40.36843435])),\n",
       "  (None, array([ 25.37316078, -25.46942501])),\n",
       "  (None, array([-27.06581485,  48.03257184])),\n",
       "  (None, array([ -4.83746583, -95.12699027]))],\n",
       " 23: [(0, array([30.07643698,  0.15909158])),\n",
       "  (1, array([58.91164011, 25.6052245 ])),\n",
       "  (None, array([-5.44717836, 23.79117832])),\n",
       "  (None, array([ 26.19819438, -66.56093741])),\n",
       "  (None, array([-41.90809667, -30.39970981])),\n",
       "  (None, array([-44.43084736,  43.29569271]))],\n",
       " 24: [(0, array([32.45804367, -4.03266809])),\n",
       "  (2, array([46.88201479, 28.5806379 ])),\n",
       "  (None, array([-36.53116111, -58.10422959]))],\n",
       " 25: [(0, array([35.71152374, -7.24742598])),\n",
       "  (1, array([68.05611779, 18.64670438])),\n",
       "  (2, array([49.05222346, 30.92502772])),\n",
       "  (None, array([-51.81138736, -82.9613687 ])),\n",
       "  (None, array([  8.47019281, -16.16549104]))],\n",
       " 26: [(0, array([37.97701618, -7.74549154])),\n",
       "  (1, array([72.21684386, 13.90378027])),\n",
       "  (2, array([49.528241 , 35.1740826])),\n",
       "  (None, array([ 97.03198354, -56.88528648])),\n",
       "  (None, array([-6.33481416, 12.38200895])),\n",
       "  (None, array([-10.05758532,  31.34754917])),\n",
       "  (None, array([ 6.78876935, 40.40909279])),\n",
       "  (None, array([ 28.2996779 , -80.95790126]))],\n",
       " 27: [(0, array([42.7115853 , -9.31681354])),\n",
       "  (1, array([75.52309866, 12.33373601])),\n",
       "  (None, array([-64.03312625,  45.60859338])),\n",
       "  (None, array([ 3.98830954, 90.0227516 ])),\n",
       "  (None, array([-74.04476572,  41.03516929]))],\n",
       " 28: [(0, array([45.09965172, -9.17263289])),\n",
       "  (1, array([80.32227882, 10.28976922])),\n",
       "  (None, array([-82.32836334,  89.31984605])),\n",
       "  (None, array([ 69.00180458, -85.63472817])),\n",
       "  (None, array([98.24646901, 15.8043203 ])),\n",
       "  (None, array([74.14553524,  6.83738878])),\n",
       "  (None, array([-92.57175882, -61.16422867])),\n",
       "  (None, array([-36.23850912,  29.30232659]))],\n",
       " 29: [(0, array([ 48.70139261, -10.64767174])),\n",
       "  (1, array([82.48328419,  7.90445624])),\n",
       "  (None, array([25.72347085, 10.56177447])),\n",
       "  (None, array([-53.5372652 , -46.15406429])),\n",
       "  (None, array([34.08596558, 99.21206865]))]}"
      ]
     },
     "execution_count": 15,
     "metadata": {},
     "output_type": "execute_result"
    }
   ],
   "source": [
    "# measurements\n",
    "all_measurements"
   ]
  },
  {
   "cell_type": "markdown",
   "metadata": {},
   "source": [
    "## PHD Filter"
   ]
  },
  {
   "cell_type": "markdown",
   "metadata": {},
   "source": [
    "The PHD filter propagates the first-order stastical moment (mean) of the posterior multiple-target state. \n",
    "\n",
    "Suppose, for a multi-target scenario, that the target states at time $k - 1$ are $x_{k-1,1},...,x_{k-1,M(k-1)} \\in \\mathcal{X}$. For a random finite set (RFS) $X$ on $\\mathcal{X}$ with probality distribution $P$, its mean is a nonnegative function $v$ on $\\mathcal{X}$ (the intensity) such that\n",
    "$$\n",
    "\\int |X \\cap S| P(dX) = \\int_S v(x)dx.\n",
    "$$\n",
    "\n",
    "In other words, the integral of $v$ over $S$ is the expected number of elements of $X$ in $S$."
   ]
  },
  {
   "cell_type": "markdown",
   "metadata": {},
   "source": [
    "## GM-PHD Filter"
   ]
  },
  {
   "cell_type": "markdown",
   "metadata": {},
   "source": [
    "The GM-PHD filter approximates the PHD function using Gaussian mixtures. Each target is assumed to follow a linear Gaussian model. The predicted PHD (intensity) at time $k$ is then defined as $$v_{k|k-1}(x) = \\sum_{i=1}^{J_{k|k-1}}{w^{i}_{k|k-1}\\mathcal{N}(x, m^{i}_{k|k-1},P^{i}_{k|k-1})},$$ where \n",
    "\\begin{gather*}\n",
    "    \\text{$J_{k|k-1}$: number of components} \\\\\n",
    "    \\text{$w^{i}_{k|k-1}$: weight of component $i$} \\\\\n",
    "    \\text{$m^{i}_{k|k-1}$: mean (state vector) of component $i$} \\\\\n",
    "    \\text{$P^{i}_{k|k-1}$: covariance of component $i$.}\\\\\n",
    "\\end{gather*}"
   ]
  },
  {
   "cell_type": "markdown",
   "metadata": {},
   "source": [
    "The birth and spawn RFSs of each component are Gaussian mixtures."
   ]
  },
  {
   "cell_type": "code",
   "execution_count": 16,
   "metadata": {},
   "outputs": [],
   "source": [
    "# assume 3 components\n",
    "num_components = 3\n",
    "\n",
    "# assume each component has the same weight\n",
    "component_weight = 0.1\n",
    "\n",
    "# the variance of pos and vel\n",
    "pos_var = 100\n",
    "vel_var = 25\n",
    "\n",
    "# each component assumed to start at a random (x, y) ~ U([-100, 100] x [-100, 100])\n",
    "start_bounds = (-100, 100)\n",
    "\n",
    "w = [component_weight] * num_components\n",
    "m = []\n",
    "for _ in range(3):\n",
    "    m.append([np.random.uniform(start_bounds[0], start_bounds[1]), 0, np.random.uniform(start_bounds[0], start_bounds[1]), 0])\n",
    "m = np.array(m)\n",
    "P = np.diag([pos_var, pos_var, vel_var, vel_var])"
   ]
  },
  {
   "cell_type": "code",
   "execution_count": 17,
   "metadata": {},
   "outputs": [],
   "source": [
    "from gmphd import mtt_phd\n",
    "\n",
    "# initialize the filter\n",
    "filter = mtt_phd(\n",
    "    weights=w,\n",
    "    position=m,\n",
    "    p_cov=P,\n",
    "    num_components=num_components,\n",
    "    measurement=all_measurements,\n",
    "    state_transition_matrix=F,\n",
    "    process_noise_matrix=Q,\n",
    "    measurement_matrix=H,\n",
    "    measurement_noise=R,\n",
    "    num_steps=len(all_measurements),\n",
    "    detection_probability=0.9,\n",
    "    clutter_intensity=3.0,\n",
    ")"
   ]
  },
  {
   "cell_type": "markdown",
   "metadata": {},
   "source": [
    "The algorithm for GM-PHD recursion consists of 4 steps:\n",
    "\n",
    "1. Predict birth/spawn targets\n",
    "2. Predict existing targets\n",
    "3. Construct PHD update components\n",
    "4. Update\n",
    "\n",
    "For any single timestep $k$ and given $w_{k-1}$, $m_{k-1}$, and $P_{k-1}$ for all $J_{k-1}$ components, the filter begins by predicting the positions of any birthed and spawned targets. Predicted birth positions are found by simply copying the birth Gaussian mixtures at time $k$, given by \n",
    "$$\n",
    "    \\gamma(x) = \\sum_{i=1}^{J_{\\gamma,k}}{w_{\\gamma,k}^{i}\\mathcal{N}(x; m^{i}_{\\gamma,k},P^{i}_{\\gamma,k})}.\n",
    "$$ \n",
    "\n",
    "Essentially, this just initializes new Gaussian mixture components at time $k$.\n",
    "\n",
    "For now, assume no spawning."
   ]
  },
  {
   "cell_type": "code",
   "execution_count": null,
   "metadata": {},
   "outputs": [],
   "source": [
    "# predict any birthed components\n",
    "filter.predict_birth()"
   ]
  },
  {
   "cell_type": "markdown",
   "metadata": {},
   "source": [
    "Predicted existing positions are calculated by propagating each $J_{k-1}^{\\text{th}}$ component through the motion model by one timestep; i.e., \n",
    "$$\n",
    "    w_{k}^{(i)} = p_{S,k}w_{k-1}^{(j)} \\\\\n",
    "    m_{k}^{(i)} = F_{k-1}m_{k-1}^{(j)} \\\\\n",
    "    P_{k}^{(i)}  = Q_{k-1} + F_{k-1}P_{k-1}^{(j)}F_{k-1}^{T}\n",
    "$$ \n",
    "for each $i^{\\text{th}}$ existing target and each $j$ in $J_{k-1}$."
   ]
  },
  {
   "cell_type": "code",
   "execution_count": null,
   "metadata": {},
   "outputs": [],
   "source": [
    "filter.predict_exist()"
   ]
  },
  {
   "cell_type": "markdown",
   "metadata": {},
   "source": [
    "After predicting the positions of each component, the filter performs an intermediate step to generate a Gaussian component that will be used to update the weights of each component in step 4. This intermediate step uses the Kalman filter on each individual prediction to determine how closely predictions match measurements. Specifically, it calculates\n",
    "$$\n",
    "    \\eta^{(j)}_{k|k-1} = H_k m^{(j)}_{k|(k-1)}\\text{ (predicted measurement)} \\\\\n",
    "    S^{(j)}_k = R_k + H^{(j)}_{k|k-1} P^{(j)}_{k|k-1} H^T_k\\text{: innovation covariance,} \\\\\n",
    "    K^j_k = P^{(j)}_{k|k-1} H^T_k[S_k^{(j)}]^{-1}\\text{:  Kalman gain} \\\\\n",
    "    P^{(j)}_{k|k} = [I - K^{(j)}_k H_k] P^{(j)}_{k|k-1}\\text{: posterior covariance} \\\\\n",
    "$$\n",
    "\n",
    "for each $j$ in $J_{k|k-1}$."
   ]
  },
  {
   "cell_type": "code",
   "execution_count": null,
   "metadata": {},
   "outputs": [],
   "source": [
    "filter.phd_components_update()"
   ]
  }
 ],
 "metadata": {
  "kernelspec": {
   "display_name": "Python 3",
   "language": "python",
   "name": "python3"
  },
  "language_info": {
   "codemirror_mode": {
    "name": "ipython",
    "version": 3
   },
   "file_extension": ".py",
   "mimetype": "text/x-python",
   "name": "python",
   "nbconvert_exporter": "python",
   "pygments_lexer": "ipython3",
   "version": "3.12.1"
  }
 },
 "nbformat": 4,
 "nbformat_minor": 2
}
