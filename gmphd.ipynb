{
 "cells": [
  {
   "cell_type": "code",
   "execution_count": 1,
   "metadata": {},
   "outputs": [],
   "source": [
    "import numpy as np\n",
    "import scipy.stats as sc\n",
    "from matplotlib import colormaps\n",
    "import matplotlib.pyplot as plt\n",
    "import matplotlib.cm as cm\n",
    "from time import time"
   ]
  },
  {
   "cell_type": "code",
   "execution_count": 2,
   "metadata": {},
   "outputs": [],
   "source": [
    "# ground truth data\n",
    "ground_truths = np.load('mt_trajectories.npy')\n",
    "# ground_truths"
   ]
  },
  {
   "cell_type": "markdown",
   "metadata": {},
   "source": [
    "## Background"
   ]
  },
  {
   "cell_type": "markdown",
   "metadata": {},
   "source": [
    "### Motion model"
   ]
  },
  {
   "cell_type": "code",
   "execution_count": 3,
   "metadata": {},
   "outputs": [],
   "source": [
    "# # utility functions\n",
    "# this is the version for [x, dx, y, dy]\n",
    "# def create_state_matrix(dt:float= 1.0, dim:int = 2):\n",
    "#     mat = []\n",
    "#     for i in range(dim):\n",
    "#         row = []\n",
    "#         for j in range(dim):\n",
    "#             if i == j:\n",
    "#                 row.append(np.array([[1, dt], [0, 1]]))\n",
    "#             else:\n",
    "#                 row.append(np.zeros((2, 2)))\n",
    "#         mat.append(row)\n",
    "#     return np.block(mat)\n",
    "\n",
    "def create_state_matrix(dt:float = 1.0, dim:int = 2)->np.ndarray:\n",
    "    \"\"\"Creates a state transition matrix for an n-dimensional constant velocity model.\n",
    "\n",
    "    The matrix is composed of four (dim x dim) blocks:\n",
    "\n",
    "        [ I   I*dt ]\n",
    "        [ 0     I  ]\n",
    "\n",
    "    where:\n",
    "        - I is the identity matrix\n",
    "        - 0 is the zero matrix\n",
    "        - dt is the timestep length\n",
    "\n",
    "    Args:\n",
    "        dt (float, optional): Length of a single timestep. Defaults to 1.0.\n",
    "        dim (int, optional): Number of spatial dimensions. Set to 2 for 2D (x, y) motion, 3 for 3D (x, y, z) motion, etc. Defaults to 2.\n",
    "\n",
    "    Returns:\n",
    "        np.ndarray: The state transition matrix.\n",
    "    \"\"\"\n",
    "    return np.vstack((\n",
    "        np.hstack((np.identity(dim), np.identity(dim) * dt)),\n",
    "        np.hstack((np.zeros((dim, dim)), np.identity(dim)))\n",
    "    ))\n",
    "\n",
    "\n",
    "def create_measurement_matrix(dim:int = 2)->np.ndarray:\n",
    "    \"\"\"Creates a measurement matrix for an n-dimensional constant velocity model.\n",
    "\n",
    "    The matrix H maps the full state to position measurements only:\n",
    "\n",
    "        [ I  0 ]\n",
    "\n",
    "    where:\n",
    "        - I is the identity matrix (measures position)\n",
    "        - 0 is the zero matrix (ignores velocity)\n",
    "\n",
    "    Args:\n",
    "        dim (int, optional): Number of spatial dimensions. Set to 2 for 2D (x, y) motion, 3 for 3D (x, y, z) motion, etc. Defaults to 2.\n",
    "\n",
    "    Returns:\n",
    "        np.ndarray: The measurement matrix.\n",
    "    \"\"\"\n",
    "    return np.hstack((np.identity(dim), np.zeros((dim, dim))))"
   ]
  },
  {
   "cell_type": "markdown",
   "metadata": {},
   "source": [
    "The motion model describes how objects of a system move. Define the motion model as $$x_{k+1} = F \\times x_{k} + w_{k}$$ where\n",
    "\\begin{gather*}\n",
    "    \\text{$x_{k+1}$: next state} \\\\\n",
    "    \\text{$F$: state transition matrix} \\\\\n",
    "    \\text{$x_{k}$: current state} \\\\\n",
    "    \\text{$w_{k}$: process noise.} \\\\\n",
    "\\end{gather*}\n",
    "\n",
    "Assume motion is constant velocity in 2 dimensions, where state is represented by $[x, y, v_{x}, v_{y}]$ (i.e., x-pos, y-pos, x-vel, y-vel). Then, $F$ is defined by\n",
    "$$ F = \\begin{bmatrix}\n",
    "    1 & 0 & dt & 0 \\\\\n",
    "    0 & 1 & 0 & dt \\\\\n",
    "    0 & 0 & 1 & 0 \\\\\n",
    "    0 & 0 & 0 & 1 \\\\\n",
    "\\end{bmatrix}.$$"
   ]
  },
  {
   "cell_type": "code",
   "execution_count": 4,
   "metadata": {},
   "outputs": [
    {
     "data": {
      "text/plain": [
       "array([[1., 0., 1., 0.],\n",
       "       [0., 1., 0., 1.],\n",
       "       [0., 0., 1., 0.],\n",
       "       [0., 0., 0., 1.]])"
      ]
     },
     "execution_count": 4,
     "metadata": {},
     "output_type": "execute_result"
    }
   ],
   "source": [
    "# dimensions\n",
    "dim = 2\n",
    "# timestep (1s)\n",
    "dt = 1.0\n",
    "# state transition matrix\n",
    "F = create_state_matrix(dt, dim)\n",
    "F"
   ]
  },
  {
   "cell_type": "markdown",
   "metadata": {},
   "source": [
    "Assume $w_{k}$ has 0 mean and 0.25 variance. Sampled from a multivariate Gaussian, its covariance $Q$ is defined by\n",
    "$$ Q = \\begin{bmatrix}\n",
    "    0.25 & 0 & 0 & 0 \\\\\n",
    "    0 & 0.25 & 0 & 0 \\\\\n",
    "    0 & 0 & 0.25 & 0 \\\\\n",
    "    0 & 0 & 0 & 0.25 \\\\\n",
    "\\end{bmatrix}.$$"
   ]
  },
  {
   "cell_type": "code",
   "execution_count": 5,
   "metadata": {},
   "outputs": [
    {
     "data": {
      "text/plain": [
       "array([[0.25, 0.  , 0.  , 0.  ],\n",
       "       [0.  , 0.25, 0.  , 0.  ],\n",
       "       [0.  , 0.  , 0.25, 0.  ],\n",
       "       [0.  , 0.  , 0.  , 0.25]])"
      ]
     },
     "execution_count": 5,
     "metadata": {},
     "output_type": "execute_result"
    }
   ],
   "source": [
    "# process noise covariance\n",
    "Q = np.identity(F.shape[0]) * 0.25\n",
    "Q"
   ]
  },
  {
   "cell_type": "code",
   "execution_count": 6,
   "metadata": {},
   "outputs": [],
   "source": [
    "def simulate_motion_basic(num_steps:int=10, init_truths:int=3)->dict[int, list[np.ndarray]]:\n",
    "    \"\"\"Simulates simple motion of multiple objects in an n-dimensional space.\n",
    "\n",
    "    Args:\n",
    "        num_steps (int, optional): Number of timesteps to simulate. Defaults to 10.\n",
    "        init_truths (int, optional): Number of initial objects. Defaults to 3.\n",
    "\n",
    "    Returns:  \n",
    "        dict[int, list[np.ndarray]]: Dictionary containing the states of each object at each timestep. Each key is the object index (0, 1, 2, ...). Each value is a list of state vectors with shape (4,) representing (x, y, dx, dy). \n",
    "    \"\"\"\n",
    "    all_states = {}\n",
    "    # initial truths\n",
    "    for i in range(init_truths):\n",
    "        state = np.array([\n",
    "            # initial position (x, y) ~ U(-30, 30) x U(-30, 30)\n",
    "            *np.random.uniform(-30, 30, 2),\n",
    "            # initial velocity (dx, dy) ~ U(-2, 2) x U(-2, 2)\n",
    "            *np.random.uniform(-2, 2, 2),\n",
    "        ])\n",
    "\n",
    "        all_states[i] = [state.copy()]\n",
    "\n",
    "    for step in range(1, num_steps + 1):\n",
    "        \n",
    "        # propagate state for each object\n",
    "        for i in all_states.keys():\n",
    "            # get previous state\n",
    "            state = all_states[i][-1]\n",
    "\n",
    "            # propagate state with noise\n",
    "            new_state = F @ state + np.random.multivariate_normal(np.zeros(Q[0].size), Q)\n",
    "            \n",
    "            all_states[i].append(new_state.copy())\n",
    "\n",
    "    return all_states\n"
   ]
  },
  {
   "cell_type": "code",
   "execution_count": 7,
   "metadata": {},
   "outputs": [
    {
     "data": {
      "image/png": "[encoded data removed]",
      "text/plain": [
       "<Figure size 640x480 with 1 Axes>"
      ]
     },
     "metadata": {},
     "output_type": "display_data"
    }
   ],
   "source": [
    "# generate ground truths (i.e., true motion)\n",
    "# assume 3 components\n",
    "%matplotlib inline\n",
    "num_components = 3\n",
    "ground_truths = simulate_motion_basic(num_steps=30, init_truths=num_components)\n",
    "for i, state in ground_truths.items():\n",
    "    pos = np.array([s[:2] for s in state])\n",
    "    plt.plot(*pos[:,:2].T, label=f'Component {i + 1}')\n",
    "    plt.legend()\n",
    "plt.show()"
   ]
  },
  {
   "cell_type": "markdown",
   "metadata": {},
   "source": [
    "Now, assume objects have a specific birth and death probability. Birth refers to the spontaneous introduction of an object into a scene, whereas death refers to the spontaneous removal of an object from a scene."
   ]
  },
  {
   "cell_type": "code",
   "execution_count": 8,
   "metadata": {},
   "outputs": [],
   "source": [
    "def simulate_motion(F:np.ndarray, Q:np.ndarray, num_steps:int = 10, init_truths:int = 3, birth_prob:float = 0.2, death_prob:float = 0.05)->dict[int, list[np.ndarray]]:\n",
    "    \"\"\"Simulates the motion of multiple objects in an n-dimensional space with birth and death probabilities. A generalized form of the previous method to include birth and death probabilities.   \n",
    "\n",
    "    Args:\n",
    "        F (np.ndarray): State transition matrix. Must match the dimensions of the state vector.\n",
    "        Q (np.ndarray): Process noise covariance matrix. Must match the dimensions of the state vector.\n",
    "        num_steps (int, optional): Number of timesteps to simulate. Defaults to 10.\n",
    "        init_truths (int, optional): Number of initial objects. Defaults to 3.\n",
    "        birth_prob (float, optional): Probability that a new object is born. Defaults to 0.2.\n",
    "        death_prob (float, optional): Probability that an existing object dies. Defaults to 0.05.\n",
    "\n",
    "    Returns:  \n",
    "        dict[int, list[np.ndarray]]: Dictionary containing the states of each object at each timestep. Each key is the object index (0, 1, 2, ...). Each value is a list of state vectors with shape (4,) representing (x, y, dx, dy). \n",
    "    \"\"\"\n",
    "    \n",
    "    all_states = {}\n",
    "    # initial truths\n",
    "    for i in range(init_truths):\n",
    "        state = np.array([\n",
    "            # initial position (x, y) ~ U(-30, 30) x U(-30, 30)\n",
    "            *np.random.uniform(-30, 30, 2),\n",
    "            # initial velocity (dx, dy) ~ U(-2, 2) x U(-2, 2)\n",
    "            *np.random.uniform(-2, 2, 2),\n",
    "        ])\n",
    "\n",
    "        # initial state at t=0\n",
    "        all_states[i] = [state.copy()]\n",
    "\n",
    "    # next id for new objects that are born\n",
    "    next_id = init_truths\n",
    "\n",
    "    for step in range(1, num_steps + 1):\n",
    "        \n",
    "        for i in all_states.keys():\n",
    "            # get i's previous (t-1) state\n",
    "            state = all_states[i][-1]\n",
    "\n",
    "            # if dead, stay dead\n",
    "            if state is None:\n",
    "                # None is used to indicate that the object is dead at this timestep\n",
    "                all_states[i].append(None)\n",
    "                continue\n",
    "\n",
    "            # death\n",
    "            if np.random.rand() <= death_prob:\n",
    "                # None is used to indicate that the object is dead at this timestep\n",
    "                all_states[i].append(None)\n",
    "                continue\n",
    "\n",
    "            # propagate state (with noise) for each object\n",
    "            new_state = F @ state + np.random.multivariate_normal(np.zeros(Q[0].size), Q)\n",
    "\n",
    "            all_states[i].append(new_state.copy())\n",
    "\n",
    "        # birth\n",
    "        if np.random.rand() <= birth_prob:\n",
    "            state = np.array([\n",
    "                *np.random.uniform(-30, 30, 2),\n",
    "                *np.random.uniform(-2, 2, 2),\n",
    "            ])\n",
    "            # since we are adding a new object, we need to set its state to None for all previous timesteps\n",
    "            all_states[next_id] = [None] * step + [state.copy()]\n",
    "\n",
    "            # increment id for the next new object\n",
    "            next_id += 1\n",
    "\n",
    "    return all_states"
   ]
  },
  {
   "cell_type": "code",
   "execution_count": 9,
   "metadata": {},
   "outputs": [
    {
     "data": {
      "text/plain": [
       "<matplotlib.legend.Legend at 0x7fa5982bb160>"
      ]
     },
     "execution_count": 9,
     "metadata": {},
     "output_type": "execute_result"
    },
    {
     "data": {
      "image/png": "[encoded data removed]",
      "text/plain": [
       "<Figure size 640x480 with 1 Axes>"
      ]
     },
     "metadata": {},
     "output_type": "display_data"
    }
   ],
   "source": [
    "birth_death_truths = simulate_motion(F, Q, num_steps=30, birth_prob=0.05, death_prob=0.005)\n",
    "for i, state in birth_death_truths.items():\n",
    "    pos = np.array([s[:2] if s is not None else [np.nan, np.nan] for s in state])\n",
    "    plt.plot(*pos[:,:2].T, label=f'Component {i + 1}')\n",
    "plt.legend()"
   ]
  },
  {
   "cell_type": "markdown",
   "metadata": {},
   "source": [
    "### Measurement model"
   ]
  },
  {
   "cell_type": "markdown",
   "metadata": {},
   "source": [
    "The measurement model describes what the sensor sees. Define the measurement model as $$ z_{k} = Hx_{k} + v_{k}$$ where\n",
    "\\begin{gather*}\n",
    "    \\text{$z_{k}$: observed measurement} \\\\\n",
    "    \\text{$H$: measurement matrix} \\\\\n",
    "    \\text{$v_{k}$: measurement noise.} \\\\\n",
    "\\end{gather*}\n",
    "\n",
    "Assume a sensor only measures position. Then, $H$ is defined by\n",
    "$$ H = \\begin{bmatrix}\n",
    "    1 & 0 & 0 & 0 \\\\\n",
    "    0 & 1 & 0 & 0 \\\\\n",
    "\\end{bmatrix}.$$\n"
   ]
  },
  {
   "cell_type": "code",
   "execution_count": 10,
   "metadata": {},
   "outputs": [
    {
     "data": {
      "text/plain": [
       "array([[1., 0., 0., 0.],\n",
       "       [0., 1., 0., 0.]])"
      ]
     },
     "execution_count": 10,
     "metadata": {},
     "output_type": "execute_result"
    }
   ],
   "source": [
    "# measurement matrix\n",
    "H = create_measurement_matrix(dim)\n",
    "H"
   ]
  },
  {
   "cell_type": "markdown",
   "metadata": {},
   "source": [
    "Assume $v_{k}$ has 0 mean and 0.75 variance. Its covariance R is defined by\n",
    "$$ R = \\begin{bmatrix}\n",
    "    0.75 & 0 \\\\\n",
    "    0 & 0.75 \\\\\n",
    "\\end{bmatrix}.$$"
   ]
  },
  {
   "cell_type": "code",
   "execution_count": 11,
   "metadata": {},
   "outputs": [
    {
     "data": {
      "text/plain": [
       "array([[0.75, 0.  ],\n",
       "       [0.  , 0.75]])"
      ]
     },
     "execution_count": 11,
     "metadata": {},
     "output_type": "execute_result"
    }
   ],
   "source": [
    "# measurement noise covariance\n",
    "R = np.identity(H.shape[0]) * 0.75\n",
    "R"
   ]
  },
  {
   "cell_type": "markdown",
   "metadata": {},
   "source": [
    "Assume the sensors have a certain detection rate. Sensors frequently detect objects that are not targets of interest. These objects are referred to as clutter, which have to be filtered out from predictions."
   ]
  },
  {
   "cell_type": "code",
   "execution_count": 12,
   "metadata": {},
   "outputs": [],
   "source": [
    "def simulate_measurement(ground_truths:dict[int, list[np.ndarray]], H:np.ndarray, R:np.ndarray, num_steps:int=10, det_prob:float=0.9, clutter_rate:float=3.0)->dict[int, list[tuple[int, np.ndarray]]]:\n",
    "    \"\"\"Simulates the measurement process for multiple objects in an n-dimensional space.\n",
    "\n",
    "    Args:\n",
    "        ground_truths (dict[int, list[np.ndarray]]): \n",
    "            Dictionary containing the states of each object at each timestep. Each key is the object index (0, 1, 2, ...). Each value is a list of state vectors with shape (4,) representing (x, y, dx, dy).\n",
    "            \n",
    "        H (np.ndarray): \n",
    "            Measurement matrix. Must match the dimensions of the state vector.\n",
    "\n",
    "        R (np.ndarray): \n",
    "            Measurement noise covariance matrix. Must match the dimensions of the measurement vector. \n",
    "\n",
    "        num_steps (int, optional): \n",
    "            Number of timesteps to simulate. Defaults to 10.\n",
    "\n",
    "        det_prob (float, optional): \n",
    "            Probability of correctly detecting an object at each timestep. Defaults to 0.9.\n",
    "\n",
    "        clutter_rate (float, optional): \n",
    "            Rate at which clutter (false measurements) appears in the measurement process, modeled by a Poisson distribution. Defaults to 3.0.\n",
    "\n",
    "    Returns:\n",
    "        dict[int, list[tuple[int, np.ndarray]]]: \n",
    "            Dictionary containing the measurements at each timestep, where:\n",
    "                - Each key is the timestep index (0, 1, 2, ...). \n",
    "                - Each value is a list of tuples, where each tuple contains\n",
    "                    - the object index (or None for clutter) \n",
    "                    - the corresponding measurement vector.\n",
    "    \"\"\"\n",
    "    \n",
    "    # all measurements\n",
    "    all_measurements = {}\n",
    "\n",
    "    for step in range(num_steps):\n",
    "        measurements = []\n",
    "\n",
    "        # real measurement\n",
    "        for i, states in ground_truths.items():\n",
    "            # if step exceeds the number of true states, continue\n",
    "            if step >= len(states):\n",
    "                continue\n",
    "\n",
    "            # get the state at the current timestep\n",
    "            state = states[step]\n",
    "\n",
    "            # if an item is dead at the current timestep, continue\n",
    "            if state is None:\n",
    "                continue\n",
    "            \n",
    "            # detect an object with detection probability\n",
    "            # if the object is detected, add the measurement\n",
    "            if np.random.rand() <= det_prob:\n",
    "                measurement = H @ state + np.random.multivariate_normal(np.zeros(R[0].size), R)\n",
    "                measurements.append((i, measurement.copy()))\n",
    "\n",
    "        # clutter\n",
    "        for _ in range(np.random.poisson(clutter_rate)):\n",
    "            # clutter (x, y) ~ U(-100, 100) x U(-100, 100)\n",
    "            clutter = np.array([\n",
    "                np.random.uniform(-100, 100), \n",
    "                np.random.uniform(-100, 100)\n",
    "            ])\n",
    "            measurements.append((None, clutter.copy()))\n",
    "        \n",
    "        # the measurements for this timestep consist of the real measurements (obj_id, pos) and clutter (None, pos)\n",
    "        all_measurements[step] = measurements\n",
    "\n",
    "    return all_measurements\n"
   ]
  },
  {
   "cell_type": "code",
   "execution_count": 13,
   "metadata": {},
   "outputs": [
    {
     "data": {
      "text/plain": [
       "<matplotlib.legend.Legend at 0x7fa5d95630d0>"
      ]
     },
     "execution_count": 13,
     "metadata": {},
     "output_type": "execute_result"
    },
    {
     "data": {
      "image/png": "[encoded data removed]",
      "text/plain": [
       "<Figure size 640x480 with 1 Axes>"
      ]
     },
     "metadata": {},
     "output_type": "display_data"
    }
   ],
   "source": [
    "# generate measurements\n",
    "all_measurements = simulate_measurement(birth_death_truths, H=H, R=R, num_steps=30)\n",
    "\n",
    "component_ids = sorted({i for measurements in all_measurements.values() for i, _ in measurements if i is not None})\n",
    "\n",
    "# matplotlib.colormaps\n",
    "cmap = colormaps['viridis']\n",
    "colors = [cmap(i / max(len(component_ids) - 1, 1)) for i in range(len(component_ids))]\n",
    "color_map = {comp: colors[idx] for idx, comp in enumerate(sorted(component_ids))}\n",
    "# color_map = {comp: colors(idx) for idx, comp in enumerate(sorted(component_ids))}\n",
    "\n",
    "\n",
    "for measurements in all_measurements.values():\n",
    "    for i, measurement in measurements:\n",
    "        if i is None:\n",
    "            plt.scatter(measurement[0], measurement[1], c='red', marker='x', label='Clutter')\n",
    "        else:\n",
    "            # color = color_map[i]\n",
    "            # plt.scatter(measurement[0], measurement[1], color=color, marker='o', label=f'Component {i + 1}')\n",
    "            plt.scatter(measurement[0], measurement[1], color='black', marker='o', label=f'Target')\n",
    "    \n",
    "for i, state in birth_death_truths.items():\n",
    "    pos = np.array([s[:2] if s is not None else [np.nan, np.nan] for s in state])\n",
    "    # print(pos)\n",
    "    plt.plot(*pos[:,:2].T, label=f'Ground truth {i + 1}', linestyle='dashed')\n",
    "\n",
    "# ignore duplicates\n",
    "handles, labels = plt.gca().get_legend_handles_labels()\n",
    "unique = dict(zip(labels, handles))\n",
    "order = np.argsort(list(unique.keys()))\n",
    "plt.legend([list(unique.values())[i] for i in order], [list(unique.keys())[i] for i in order])"
   ]
  },
  {
   "cell_type": "code",
   "execution_count": 14,
   "metadata": {},
   "outputs": [],
   "source": [
    "# true states\n",
    "# birth_death_truths"
   ]
  },
  {
   "cell_type": "code",
   "execution_count": 15,
   "metadata": {},
   "outputs": [],
   "source": [
    "# measurements\n",
    "# all_measurements"
   ]
  },
  {
   "cell_type": "markdown",
   "metadata": {},
   "source": [
    "## PHD Filter"
   ]
  },
  {
   "cell_type": "markdown",
   "metadata": {},
   "source": [
    "The PHD filter propagates the first-order stastical moment (mean) of the posterior multiple-target state. \n",
    "\n",
    "Suppose, for a multi-target scenario, that the target states at time $k - 1$ are $x_{k-1,1},...,x_{k-1,M(k-1)} \\in \\mathcal{X}$. For a random finite set (RFS) $X$ on $\\mathcal{X}$ with probality distribution $P$, its mean is a nonnegative function $v$ on $\\mathcal{X}$ (the intensity) such that\n",
    "$$\n",
    "\\int |X \\cap S| P(dX) = \\int_S v(x)dx.\n",
    "$$\n",
    "\n",
    "In other words, the integral of $v$ over $S$ is the expected number of elements of $X$ in $S$."
   ]
  },
  {
   "cell_type": "markdown",
   "metadata": {},
   "source": [
    "## GM-PHD Filter"
   ]
  },
  {
   "cell_type": "markdown",
   "metadata": {},
   "source": [
    "The GM-PHD filter approximates the PHD function using Gaussian mixtures. Each target is assumed to follow a linear Gaussian model. The predicted PHD (intensity) at time $k$ is then defined as $$v_{k|k-1}(x) = \\sum_{i=1}^{J_{k|k-1}}{w^{i}_{k|k-1}\\mathcal{N}(x, m^{i}_{k|k-1},P^{i}_{k|k-1})},$$ where \n",
    "\\begin{gather*}\n",
    "    \\text{$J_{k|k-1}$: number of components} \\\\\n",
    "    \\text{$w^{i}_{k|k-1}$: weight of component $i$} \\\\\n",
    "    \\text{$m^{i}_{k|k-1}$: mean (state vector) of component $i$} \\\\\n",
    "    \\text{$P^{i}_{k|k-1}$: covariance of component $i$.}\\\\\n",
    "\\end{gather*}"
   ]
  },
  {
   "cell_type": "markdown",
   "metadata": {},
   "source": [
    "The birth and spawn RFSs of each component are Gaussian mixtures."
   ]
  },
  {
   "cell_type": "code",
   "execution_count": 16,
   "metadata": {},
   "outputs": [],
   "source": [
    "# assume 3 components\n",
    "num_components = 3\n",
    "\n",
    "# assume each component has the same weight\n",
    "component_weight = 0.1\n",
    "\n",
    "# the variance of pos and vel\n",
    "pos_var = 100\n",
    "vel_var = 25\n",
    "\n",
    "# each component assumed to start at a random (x, y) ~ U([-100, 100] x [-100, 100])\n",
    "start_bounds = (-100, 100)\n",
    "\n",
    "w = [component_weight] * num_components\n",
    "m = []\n",
    "for _ in range(3):\n",
    "    m.append([np.random.uniform(start_bounds[0], start_bounds[1]), 0, np.random.uniform(start_bounds[0], start_bounds[1]), 0])\n",
    "m = np.array(m)\n",
    "P = [np.diag([100, 100, 25, 25]) for _ in range(3)]"
   ]
  },
  {
   "cell_type": "code",
   "execution_count": 17,
   "metadata": {},
   "outputs": [],
   "source": [
    "from gmphd import mtt_phd\n",
    "\n",
    "# initialize the filter\n",
    "filter = mtt_phd(\n",
    "    weights=w,\n",
    "    position=m,\n",
    "    p_cov=P,\n",
    "    num_components=num_components,\n",
    "    measurement=all_measurements,\n",
    "    state_transition_matrix=F,\n",
    "    process_noise_matrix=Q,\n",
    "    measurement_matrix=H,\n",
    "    measurement_noise=R,\n",
    "    num_steps=len(all_measurements),\n",
    "    detection_probability=0.9,\n",
    "    clutter_intensity=3.0,\n",
    ")"
   ]
  },
  {
   "cell_type": "code",
   "execution_count": 20,
   "metadata": {},
   "outputs": [],
   "source": [
    "filter.full_PHD_filter_run()"
   ]
  },
  {
   "cell_type": "markdown",
   "metadata": {},
   "source": [
    "The algorithm for GM-PHD recursion consists of 4 steps:\n",
    "\n",
    "1. Predict birth/spawn targets\n",
    "2. Predict existing targets\n",
    "3. Construct PHD update components\n",
    "4. Update\n",
    "\n",
    "For any single timestep $k$ and given $w_{k-1}$, $m_{k-1}$, and $P_{k-1}$ for all $J_{k-1}$ components, the filter begins by predicting the positions of any birthed and spawned targets. Predicted birth positions are found by simply copying the birth Gaussian mixtures at time $k$, given by \n",
    "$$\n",
    "    \\gamma(x) = \\sum_{i=1}^{J_{\\gamma,k}}{w_{\\gamma,k}^{i}\\mathcal{N}(x; m^{i}_{\\gamma,k},P^{i}_{\\gamma,k})}.\n",
    "$$ \n",
    "\n",
    "Essentially, this just initializes new Gaussian mixture components at time $k$.\n",
    "\n",
    "For now, assume no spawning."
   ]
  },
  {
   "cell_type": "code",
   "execution_count": 39,
   "metadata": {},
   "outputs": [],
   "source": [
    "# predict any birthed components\n",
    "# filter.predict_birth()"
   ]
  },
  {
   "cell_type": "markdown",
   "metadata": {},
   "source": [
    "Predicted existing positions are calculated by propagating each $J_{k-1}^{\\text{th}}$ component through the motion model by one timestep; i.e., \n",
    "$$\n",
    "    w_{k}^{(i)} = p_{S,k}w_{k-1}^{(j)} \\\\\n",
    "    m_{k}^{(i)} = F_{k-1}m_{k-1}^{(j)} \\\\\n",
    "    P_{k}^{(i)}  = Q_{k-1} + F_{k-1}P_{k-1}^{(j)}F_{k-1}^{T}\n",
    "$$ \n",
    "for each $i^{\\text{th}}$ existing target and each $j$ in $J_{k-1}$."
   ]
  },
  {
   "cell_type": "code",
   "execution_count": 40,
   "metadata": {},
   "outputs": [],
   "source": [
    "filter.predict_exist()"
   ]
  },
  {
   "cell_type": "markdown",
   "metadata": {},
   "source": [
    "After predicting the positions of each component, the filter performs an intermediate step to generate a Gaussian component that will be used to update the weights of each component in step 4. This intermediate step uses the Kalman filter on each individual prediction to determine how closely predictions match measurements. Specifically, it calculates\n",
    "$$\n",
    "    \\eta^{(j)}_{k|k-1} = H_k m^{(j)}_{k|(k-1)}\\text{ (predicted measurement)} \\\\\n",
    "    S^{(j)}_k = R_k + H^{(j)}_{k|k-1} P^{(j)}_{k|k-1} H^T_k\\text{: innovation covariance,} \\\\\n",
    "    K^j_k = P^{(j)}_{k|k-1} H^T_k[S_k^{(j)}]^{-1}\\text{:  Kalman gain} \\\\\n",
    "    P^{(j)}_{k|k} = [I - K^{(j)}_k H_k] P^{(j)}_{k|k-1}\\text{: posterior covariance} \\\\\n",
    "$$\n",
    "\n",
    "for each $j$ in $J_{k|k-1}$."
   ]
  },
  {
   "cell_type": "code",
   "execution_count": 41,
   "metadata": {},
   "outputs": [],
   "source": [
    "filter.phd_components_update()"
   ]
  },
  {
   "cell_type": "code",
   "execution_count": null,
   "metadata": {},
   "outputs": [],
   "source": []
  }
 ],
 "metadata": {
  "kernelspec": {
   "display_name": "Python 3",
   "language": "python",
   "name": "python3"
  },
  "language_info": {
   "codemirror_mode": {
    "name": "ipython",
    "version": 3
   },
   "file_extension": ".py",
   "mimetype": "text/x-python",
   "name": "python",
   "nbconvert_exporter": "python",
   "pygments_lexer": "ipython3",
   "version": "3.12.1"
  }
 },
 "nbformat": 4,
 "nbformat_minor": 2
}
