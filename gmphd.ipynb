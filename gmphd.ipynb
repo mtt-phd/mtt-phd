{
 "cells": [
  {
   "cell_type": "code",
   "execution_count": 1,
   "metadata": {},
   "outputs": [],
   "source": [
    "import numpy as np\n",
    "import scipy.stats as sc\n",
    "from matplotlib import colormaps\n",
    "import matplotlib.pyplot as plt\n",
    "import matplotlib.cm as cm\n",
    "from time import time"
   ]
  },
  {
   "cell_type": "code",
   "execution_count": 2,
   "metadata": {},
   "outputs": [
    {
     "data": {
      "text/plain": [
       "array([[[ -8.07218076,  -4.49125581,  -0.91033086,   2.67059409,\n",
       "           6.25151904,   9.83244399,  13.41336894,  16.99429389,\n",
       "          20.57521884,  24.15614379],\n",
       "        [ -0.8844742 ,  -2.77044353,  -4.65641285,  -6.54238217,\n",
       "          -8.4283515 , -10.31432082, -12.20029014, -14.08625947,\n",
       "         -15.97222879, -17.85819811],\n",
       "        [ -3.88086752,  -2.92152956,  -1.96219159,  -1.00285363,\n",
       "          -0.04351567,   0.91582229,   1.87516025,   2.83449821,\n",
       "           3.79383618,   4.75317414]],\n",
       "\n",
       "       [[ -6.46454434,  -3.36883308,  -0.27312181,   2.82258945,\n",
       "           5.91830072,   9.01401198,  12.10972325,  15.20543452,\n",
       "          18.30114578,  21.39685705],\n",
       "        [  5.1703906 ,   6.05898913,   6.94758765,   7.83618618,\n",
       "           8.72478471,   9.61338324,  10.50198177,  11.3905803 ,\n",
       "          12.27917883,  13.16777736],\n",
       "        [ -1.3581392 ,  -0.35850924,   0.64112072,   1.64075068,\n",
       "           2.64038064,   3.6400106 ,   4.63964056,   5.63927052,\n",
       "           6.63890048,   7.63853044]],\n",
       "\n",
       "       [[  1.68195938,   2.49405235,   3.30614531,   4.11823828,\n",
       "           4.93033125,   5.74242422,   6.55451719,   7.36661016,\n",
       "           8.17870312,   8.99079609],\n",
       "        [ -8.31111358,  -7.9489405 ,  -7.58676742,  -7.22459434,\n",
       "          -6.86242126,  -6.50024818,  -6.13807511,  -5.77590203,\n",
       "          -5.41372895,  -5.05155587],\n",
       "        [ -9.16771652,  -8.18914256,  -7.21056859,  -6.23199463,\n",
       "          -5.25342067,  -4.2748467 ,  -3.29627274,  -2.31769877,\n",
       "          -1.33912481,  -0.36055085]]])"
      ]
     },
     "execution_count": 2,
     "metadata": {},
     "output_type": "execute_result"
    }
   ],
   "source": [
    "# ground truth data\n",
    "ground_truths = np.load('mt_trajectories.npy')\n",
    "ground_truths"
   ]
  },
  {
   "cell_type": "markdown",
   "metadata": {},
   "source": [
    "## Background"
   ]
  },
  {
   "cell_type": "markdown",
   "metadata": {},
   "source": [
    "### Motion model"
   ]
  },
  {
   "cell_type": "code",
   "execution_count": 3,
   "metadata": {},
   "outputs": [],
   "source": [
    "# # utility functions\n",
    "# this is the version for [x, dx, y, dy]\n",
    "# def create_state_matrix(dt:float= 1.0, dim:int = 2):\n",
    "#     mat = []\n",
    "#     for i in range(dim):\n",
    "#         row = []\n",
    "#         for j in range(dim):\n",
    "#             if i == j:\n",
    "#                 row.append(np.array([[1, dt], [0, 1]]))\n",
    "#             else:\n",
    "#                 row.append(np.zeros((2, 2)))\n",
    "#         mat.append(row)\n",
    "#     return np.block(mat)\n",
    "\n",
    "def create_state_matrix(dt:float = 1.0, dim:int = 2)->np.ndarray:\n",
    "    \"\"\"Creates a state transition matrix for an n-dimensional constant velocity model.\n",
    "\n",
    "    The matrix is composed of four (dim x dim) blocks:\n",
    "\n",
    "        [ I   I*dt ]\n",
    "        [ 0     I  ]\n",
    "\n",
    "    where:\n",
    "        - I is the identity matrix\n",
    "        - 0 is the zero matrix\n",
    "        - dt is the timestep length\n",
    "\n",
    "    Args:\n",
    "        dt (float, optional): Length of a single timestep. Defaults to 1.0.\n",
    "        dim (int, optional): Number of spatial dimensions. Set to 2 for 2D (x, y) motion, 3 for 3D (x, y, z) motion, etc. Defaults to 2.\n",
    "\n",
    "    Returns:\n",
    "        np.ndarray: The state transition matrix.\n",
    "    \"\"\"\n",
    "    return np.vstack((\n",
    "        np.hstack((np.identity(dim), np.identity(dim) * dt)),\n",
    "        np.hstack((np.zeros((dim, dim)), np.identity(dim)))\n",
    "    ))\n",
    "\n",
    "\n",
    "def create_measurement_matrix(dim:int = 2)->np.ndarray:\n",
    "    \"\"\"Creates a measurement matrix for an n-dimensional constant velocity model.\n",
    "\n",
    "    The matrix H maps the full state to position measurements only:\n",
    "\n",
    "        [ I  0 ]\n",
    "\n",
    "    where:\n",
    "        - I is the identity matrix (measures position)\n",
    "        - 0 is the zero matrix (ignores velocity)\n",
    "\n",
    "    Args:\n",
    "        dim (int, optional): Number of spatial dimensions. Set to 2 for 2D (x, y) motion, 3 for 3D (x, y, z) motion, etc. Defaults to 2.\n",
    "\n",
    "    Returns:\n",
    "        np.ndarray: The measurement matrix.\n",
    "    \"\"\"\n",
    "    return np.hstack((np.identity(dim), np.zeros((dim, dim))))"
   ]
  },
  {
   "cell_type": "markdown",
   "metadata": {},
   "source": [
    "The motion model describes how objects of a system move. Define the motion model as $$x_{k+1} = F \\times x_{k} + w_{k}$$ where\n",
    "\\begin{gather*}\n",
    "    \\text{$x_{k+1}$: next state} \\\\\n",
    "    \\text{$F$: state transition matrix} \\\\\n",
    "    \\text{$x_{k}$: current state} \\\\\n",
    "    \\text{$w_{k}$: process noise.} \\\\\n",
    "\\end{gather*}\n",
    "\n",
    "Assume motion is constant velocity in 2 dimensions, where state is represented by $[x, y, v_{x}, v_{y}]$ (i.e., x-pos, y-pos, x-vel, y-vel). Then, $F$ is defined by\n",
    "$$ F = \\begin{bmatrix}\n",
    "    1 & 0 & dt & 0 \\\\\n",
    "    0 & 1 & 0 & dt \\\\\n",
    "    0 & 0 & 1 & 0 \\\\\n",
    "    0 & 0 & 0 & 1 \\\\\n",
    "\\end{bmatrix}.$$"
   ]
  },
  {
   "cell_type": "code",
   "execution_count": 4,
   "metadata": {},
   "outputs": [
    {
     "data": {
      "text/plain": [
       "array([[1., 0., 1., 0.],\n",
       "       [0., 1., 0., 1.],\n",
       "       [0., 0., 1., 0.],\n",
       "       [0., 0., 0., 1.]])"
      ]
     },
     "execution_count": 4,
     "metadata": {},
     "output_type": "execute_result"
    }
   ],
   "source": [
    "# dimensions\n",
    "dim = 2\n",
    "# timestep (1s)\n",
    "dt = 1.0\n",
    "# state transition matrix\n",
    "F = create_state_matrix(dt, dim)\n",
    "F"
   ]
  },
  {
   "cell_type": "markdown",
   "metadata": {},
   "source": [
    "Assume $w_{k}$ has 0 mean and 0.25 variance. Sampled from a multivariate Gaussian, its covariance $Q$ is defined by\n",
    "$$ Q = \\begin{bmatrix}\n",
    "    0.25 & 0 & 0 & 0 \\\\\n",
    "    0 & 0.25 & 0 & 0 \\\\\n",
    "    0 & 0 & 0.25 & 0 \\\\\n",
    "    0 & 0 & 0 & 0.25 \\\\\n",
    "\\end{bmatrix}.$$"
   ]
  },
  {
   "cell_type": "code",
   "execution_count": 5,
   "metadata": {},
   "outputs": [
    {
     "data": {
      "text/plain": [
       "array([[0.25, 0.  , 0.  , 0.  ],\n",
       "       [0.  , 0.25, 0.  , 0.  ],\n",
       "       [0.  , 0.  , 0.25, 0.  ],\n",
       "       [0.  , 0.  , 0.  , 0.25]])"
      ]
     },
     "execution_count": 5,
     "metadata": {},
     "output_type": "execute_result"
    }
   ],
   "source": [
    "# process noise covariance\n",
    "Q = np.identity(F.shape[0]) * 0.25\n",
    "Q"
   ]
  },
  {
   "cell_type": "code",
   "execution_count": 6,
   "metadata": {},
   "outputs": [],
   "source": [
    "def simulate_motion_basic(num_steps:int=10, init_truths:int=3)->dict[int, list[np.ndarray]]:\n",
    "    \"\"\"Simulates simple motion of multiple objects in an n-dimensional space.\n",
    "\n",
    "    Args:\n",
    "        num_steps (int, optional): Number of timesteps to simulate. Defaults to 10.\n",
    "        init_truths (int, optional): Number of initial objects. Defaults to 3.\n",
    "\n",
    "    Returns:  \n",
    "        dict[int, list[np.ndarray]]: Dictionary containing the states of each object at each timestep. Each key is the object index (0, 1, 2, ...). Each value is a list of state vectors with shape (4,) representing (x, y, dx, dy). \n",
    "    \"\"\"\n",
    "    all_states = {}\n",
    "    # initial truths\n",
    "    for i in range(init_truths):\n",
    "        state = np.array([\n",
    "            # initial position (x, y) ~ U(-30, 30) x U(-30, 30)\n",
    "            *np.random.uniform(-30, 30, 2),\n",
    "            # initial velocity (dx, dy) ~ U(-2, 2) x U(-2, 2)\n",
    "            *np.random.uniform(-2, 2, 2),\n",
    "        ])\n",
    "\n",
    "        all_states[i] = [state.copy()]\n",
    "\n",
    "    for step in range(1, num_steps + 1):\n",
    "        \n",
    "        # propagate state for each object\n",
    "        for i in all_states.keys():\n",
    "            # get previous state\n",
    "            state = all_states[i][-1]\n",
    "\n",
    "            # propagate state with noise\n",
    "            new_state = F @ state + np.random.multivariate_normal(np.zeros(Q[0].size), Q)\n",
    "            \n",
    "            all_states[i].append(new_state.copy())\n",
    "\n",
    "    return all_states\n"
   ]
  },
  {
   "cell_type": "code",
   "execution_count": 7,
   "metadata": {},
   "outputs": [
    {
     "data": {
      "image/png": "[encoded data removed]",
      "text/plain": [
       "<Figure size 640x480 with 1 Axes>"
      ]
     },
     "metadata": {},
     "output_type": "display_data"
    }
   ],
   "source": [
    "# generate ground truths (i.e., true motion)\n",
    "# assume 3 components\n",
    "%matplotlib inline\n",
    "num_components = 3\n",
    "ground_truths = simulate_motion_basic(num_steps=30, init_truths=num_components)\n",
    "for i, state in ground_truths.items():\n",
    "    pos = np.array([s[:2] for s in state])\n",
    "    plt.plot(*pos[:,:2].T, label=f'Component {i + 1}')\n",
    "    plt.legend()\n",
    "plt.show()"
   ]
  },
  {
   "cell_type": "markdown",
   "metadata": {},
   "source": [
    "Now, assume objects have a specific birth and death probability. Birth refers to the spontaneous introduction of an object into a scene, whereas death refers to the spontaneous removal of an object from a scene."
   ]
  },
  {
   "cell_type": "code",
   "execution_count": 8,
   "metadata": {},
   "outputs": [],
   "source": [
    "def simulate_motion(F:np.ndarray, Q:np.ndarray, num_steps:int = 10, init_truths:int = 3, birth_prob:float = 0.2, death_prob:float = 0.05)->dict[int, list[np.ndarray]]:\n",
    "    \"\"\"Simulates the motion of multiple objects in an n-dimensional space with birth and death probabilities. A generalized form of the previous method to include birth and death probabilities.   \n",
    "\n",
    "    Args:\n",
    "        F (np.ndarray): State transition matrix. Must match the dimensions of the state vector.\n",
    "        Q (np.ndarray): Process noise covariance matrix. Must match the dimensions of the state vector.\n",
    "        num_steps (int, optional): Number of timesteps to simulate. Defaults to 10.\n",
    "        init_truths (int, optional): Number of initial objects. Defaults to 3.\n",
    "        birth_prob (float, optional): Probability that a new object is born. Defaults to 0.2.\n",
    "        death_prob (float, optional): Probability that an existing object dies. Defaults to 0.05.\n",
    "\n",
    "    Returns:  \n",
    "        dict[int, list[np.ndarray]]: Dictionary containing the states of each object at each timestep. Each key is the object index (0, 1, 2, ...). Each value is a list of state vectors with shape (4,) representing (x, y, dx, dy). \n",
    "    \"\"\"\n",
    "    \n",
    "    all_states = {}\n",
    "    # initial truths\n",
    "    for i in range(init_truths):\n",
    "        state = np.array([\n",
    "            # initial position (x, y) ~ U(-30, 30) x U(-30, 30)\n",
    "            *np.random.uniform(-30, 30, 2),\n",
    "            # initial velocity (dx, dy) ~ U(-2, 2) x U(-2, 2)\n",
    "            *np.random.uniform(-2, 2, 2),\n",
    "        ])\n",
    "\n",
    "        # initial state at t=0\n",
    "        all_states[i] = [state.copy()]\n",
    "\n",
    "    # next id for new objects that are born\n",
    "    next_id = init_truths\n",
    "\n",
    "    for step in range(1, num_steps + 1):\n",
    "        \n",
    "        for i in all_states.keys():\n",
    "            # get i's previous (t-1) state\n",
    "            state = all_states[i][-1]\n",
    "\n",
    "            # if dead, stay dead\n",
    "            if state is None:\n",
    "                # None is used to indicate that the object is dead at this timestep\n",
    "                all_states[i].append(None)\n",
    "                continue\n",
    "\n",
    "            # death\n",
    "            if np.random.rand() <= death_prob:\n",
    "                # None is used to indicate that the object is dead at this timestep\n",
    "                all_states[i].append(None)\n",
    "                continue\n",
    "\n",
    "            # propagate state (with noise) for each object\n",
    "            new_state = F @ state + np.random.multivariate_normal(np.zeros(Q[0].size), Q)\n",
    "\n",
    "            all_states[i].append(new_state.copy())\n",
    "\n",
    "        # birth\n",
    "        if np.random.rand() <= birth_prob:\n",
    "            state = np.array([\n",
    "                *np.random.uniform(-30, 30, 2),\n",
    "                *np.random.uniform(-2, 2, 2),\n",
    "            ])\n",
    "            # since we are adding a new object, we need to set its state to None for all previous timesteps\n",
    "            all_states[next_id] = [None] * step + [state.copy()]\n",
    "\n",
    "            # increment id for the next new object\n",
    "            next_id += 1\n",
    "\n",
    "    return all_states"
   ]
  },
  {
   "cell_type": "code",
   "execution_count": 9,
   "metadata": {},
   "outputs": [
    {
     "data": {
      "text/plain": [
       "<matplotlib.legend.Legend at 0x7fb67930b640>"
      ]
     },
     "execution_count": 9,
     "metadata": {},
     "output_type": "execute_result"
    },
    {
     "data": {
      "image/png": "[encoded data removed]",
      "text/plain": [
       "<Figure size 640x480 with 1 Axes>"
      ]
     },
     "metadata": {},
     "output_type": "display_data"
    }
   ],
   "source": [
    "birth_death_truths = simulate_motion(F, Q, num_steps=30, birth_prob=0.05, death_prob=0.005)\n",
    "for i, state in birth_death_truths.items():\n",
    "    pos = np.array([s[:2] if s is not None else [np.nan, np.nan] for s in state])\n",
    "    plt.plot(*pos[:,:2].T, label=f'Component {i + 1}')\n",
    "plt.legend()"
   ]
  },
  {
   "cell_type": "markdown",
   "metadata": {},
   "source": [
    "### Measurement model"
   ]
  },
  {
   "cell_type": "markdown",
   "metadata": {},
   "source": [
    "The measurement model describes what the sensor sees. Define the measurement model as $$ z_{k} = Hx_{k} + v_{k}$$ where\n",
    "\\begin{gather*}\n",
    "    \\text{$z_{k}$: observed measurement} \\\\\n",
    "    \\text{$H$: measurement matrix} \\\\\n",
    "    \\text{$v_{k}$: measurement noise.} \\\\\n",
    "\\end{gather*}\n",
    "\n",
    "Assume a sensor only measures position. Then, $H$ is defined by\n",
    "$$ H = \\begin{bmatrix}\n",
    "    1 & 0 & 0 & 0 \\\\\n",
    "    0 & 1 & 0 & 0 \\\\\n",
    "\\end{bmatrix}.$$\n"
   ]
  },
  {
   "cell_type": "code",
   "execution_count": 10,
   "metadata": {},
   "outputs": [
    {
     "data": {
      "text/plain": [
       "array([[1., 0., 0., 0.],\n",
       "       [0., 1., 0., 0.]])"
      ]
     },
     "execution_count": 10,
     "metadata": {},
     "output_type": "execute_result"
    }
   ],
   "source": [
    "# measurement matrix\n",
    "H = create_measurement_matrix(dim)\n",
    "H"
   ]
  },
  {
   "cell_type": "markdown",
   "metadata": {},
   "source": [
    "Assume $v_{k}$ has 0 mean and 0.75 variance. Its covariance R is defined by\n",
    "$$ R = \\begin{bmatrix}\n",
    "    0.75 & 0 \\\\\n",
    "    0 & 0.75 \\\\\n",
    "\\end{bmatrix}.$$"
   ]
  },
  {
   "cell_type": "code",
   "execution_count": 11,
   "metadata": {},
   "outputs": [
    {
     "data": {
      "text/plain": [
       "array([[0.75, 0.  ],\n",
       "       [0.  , 0.75]])"
      ]
     },
     "execution_count": 11,
     "metadata": {},
     "output_type": "execute_result"
    }
   ],
   "source": [
    "# measurement noise covariance\n",
    "R = np.identity(H.shape[0]) * 0.75\n",
    "R"
   ]
  },
  {
   "cell_type": "markdown",
   "metadata": {},
   "source": [
    "Assume the sensors have a certain detection rate. Sensors frequently detect objects that are not targets of interest. These objects are referred to as clutter, which have to be filtered out from predictions."
   ]
  },
  {
   "cell_type": "code",
   "execution_count": 12,
   "metadata": {},
   "outputs": [],
   "source": [
    "def simulate_measurement(ground_truths:dict[int, list[np.ndarray]], H:np.ndarray, R:np.ndarray, num_steps:int=10, det_prob:float=0.9, clutter_rate:float=3.0)->dict[int, list[tuple[int, np.ndarray]]]:\n",
    "    \"\"\"Simulates the measurement process for multiple objects in an n-dimensional space.\n",
    "\n",
    "    Args:\n",
    "        ground_truths (dict[int, list[np.ndarray]]): \n",
    "            Dictionary containing the states of each object at each timestep. Each key is the object index (0, 1, 2, ...). Each value is a list of state vectors with shape (4,) representing (x, y, dx, dy).\n",
    "            \n",
    "        H (np.ndarray): \n",
    "            Measurement matrix. Must match the dimensions of the state vector.\n",
    "\n",
    "        R (np.ndarray): \n",
    "            Measurement noise covariance matrix. Must match the dimensions of the measurement vector. \n",
    "\n",
    "        num_steps (int, optional): \n",
    "            Number of timesteps to simulate. Defaults to 10.\n",
    "\n",
    "        det_prob (float, optional): \n",
    "            Probability of correctly detecting an object at each timestep. Defaults to 0.9.\n",
    "\n",
    "        clutter_rate (float, optional): \n",
    "            Rate at which clutter (false measurements) appears in the measurement process, modeled by a Poisson distribution. Defaults to 3.0.\n",
    "\n",
    "    Returns:\n",
    "        dict[int, list[tuple[int, np.ndarray]]]: \n",
    "            Dictionary containing the measurements at each timestep, where:\n",
    "                - Each key is the timestep index (0, 1, 2, ...). \n",
    "                - Each value is a list of tuples, where each tuple contains\n",
    "                    - the object index (or None for clutter) \n",
    "                    - the corresponding measurement vector.\n",
    "    \"\"\"\n",
    "    \n",
    "    # all measurements\n",
    "    all_measurements = {}\n",
    "\n",
    "    for step in range(num_steps):\n",
    "        measurements = []\n",
    "\n",
    "        # real measurement\n",
    "        for i, states in ground_truths.items():\n",
    "            # if step exceeds the number of true states, continue\n",
    "            if step >= len(states):\n",
    "                continue\n",
    "\n",
    "            # get the state at the current timestep\n",
    "            state = states[step]\n",
    "\n",
    "            # if an item is dead at the current timestep, continue\n",
    "            if state is None:\n",
    "                continue\n",
    "            \n",
    "            # detect an object with detection probability\n",
    "            # if the object is detected, add the measurement\n",
    "            if np.random.rand() <= det_prob:\n",
    "                measurement = H @ state + np.random.multivariate_normal(np.zeros(R[0].size), R)\n",
    "                measurements.append((i, measurement.copy()))\n",
    "\n",
    "        # clutter\n",
    "        for _ in range(np.random.poisson(clutter_rate)):\n",
    "            # clutter (x, y) ~ U(-100, 100) x U(-100, 100)\n",
    "            clutter = np.array([\n",
    "                np.random.uniform(-100, 100), \n",
    "                np.random.uniform(-100, 100)\n",
    "            ])\n",
    "            measurements.append((None, clutter.copy()))\n",
    "        \n",
    "        # the measurements for this timestep consist of the real measurements (obj_id, pos) and clutter (None, pos)\n",
    "        all_measurements[step] = measurements\n",
    "\n",
    "    return all_measurements\n"
   ]
  },
  {
   "cell_type": "code",
   "execution_count": 13,
   "metadata": {},
   "outputs": [
    {
     "data": {
      "text/plain": [
       "<matplotlib.legend.Legend at 0x7fb6684be070>"
      ]
     },
     "execution_count": 13,
     "metadata": {},
     "output_type": "execute_result"
    },
    {
     "data": {
      "image/png": "[encoded data removed]",
      "text/plain": [
       "<Figure size 640x480 with 1 Axes>"
      ]
     },
     "metadata": {},
     "output_type": "display_data"
    }
   ],
   "source": [
    "# generate measurements\n",
    "all_measurements = simulate_measurement(birth_death_truths, H=H, R=R, num_steps=30)\n",
    "\n",
    "component_ids = sorted({i for measurements in all_measurements.values() for i, _ in measurements if i is not None})\n",
    "\n",
    "# matplotlib.colormaps\n",
    "cmap = colormaps['viridis']\n",
    "colors = [cmap(i / max(len(component_ids) - 1, 1)) for i in range(len(component_ids))]\n",
    "color_map = {comp: colors[idx] for idx, comp in enumerate(sorted(component_ids))}\n",
    "# color_map = {comp: colors(idx) for idx, comp in enumerate(sorted(component_ids))}\n",
    "\n",
    "\n",
    "for measurements in all_measurements.values():\n",
    "    for i, measurement in measurements:\n",
    "        if i is None:\n",
    "            plt.scatter(measurement[0], measurement[1], c='red', marker='x', label='Clutter')\n",
    "        else:\n",
    "            # color = color_map[i]\n",
    "            # plt.scatter(measurement[0], measurement[1], color=color, marker='o', label=f'Component {i + 1}')\n",
    "            plt.scatter(measurement[0], measurement[1], color='black', marker='o', label=f'Target')\n",
    "    \n",
    "for i, state in birth_death_truths.items():\n",
    "    pos = np.array([s[:2] if s is not None else [np.nan, np.nan] for s in state])\n",
    "    # print(pos)\n",
    "    plt.plot(*pos[:,:2].T, label=f'Ground truth {i + 1}', linestyle='dashed')\n",
    "\n",
    "# ignore duplicates\n",
    "handles, labels = plt.gca().get_legend_handles_labels()\n",
    "unique = dict(zip(labels, handles))\n",
    "order = np.argsort(list(unique.keys()))\n",
    "plt.legend([list(unique.values())[i] for i in order], [list(unique.keys())[i] for i in order])"
   ]
  },
  {
   "cell_type": "code",
   "execution_count": 14,
   "metadata": {},
   "outputs": [
    {
     "data": {
      "text/plain": [
       "{0: [array([-18.63939475, -20.68957115,  -1.68884386,   0.86346965]),\n",
       "  array([-21.26447797, -19.80368043,  -2.020362  ,   0.06597725]),\n",
       "  array([-22.40353918, -20.71217507,  -2.6437578 ,  -0.68059725]),\n",
       "  array([-24.77705469, -20.89985969,  -2.04030443,  -0.76852327]),\n",
       "  array([-26.27387766, -21.78441319,  -1.91720826,  -0.79490549]),\n",
       "  array([-27.80900253, -22.84760862,  -0.90698607,  -0.17492821]),\n",
       "  array([-28.74710304, -23.71623886,  -1.66520841,   0.46494791]),\n",
       "  array([-29.45819545, -23.4150261 ,  -1.60300361,  -0.1190446 ]),\n",
       "  array([-32.06705789, -24.1221922 ,  -1.68758411,   0.49995002]),\n",
       "  array([-33.16640579, -23.53859675,  -1.59160731,   0.26828382]),\n",
       "  array([-35.46871096, -23.01770965,  -1.21107437,   0.88459271]),\n",
       "  array([-36.65837858, -22.73111123,  -0.69412985,   1.04036958]),\n",
       "  array([-38.55865415, -21.97832746,  -1.64904428,   1.81541375]),\n",
       "  array([-40.37104287, -21.0862776 ,  -2.12285822,   1.9532015 ]),\n",
       "  array([-42.69517921, -18.94036286,  -1.97178883,   2.79982534]),\n",
       "  array([-43.98895105, -16.79322332,  -1.82406285,   2.95297501]),\n",
       "  array([-45.0936857 , -14.49305775,  -2.21826179,   2.15043132]),\n",
       "  array([-47.31828209, -11.02361397,  -2.32323443,   2.22101769]),\n",
       "  array([-49.27347965,  -9.18269544,  -2.11570408,   2.47464898]),\n",
       "  array([-51.77059718,  -6.47321267,  -1.79431856,   2.35165542]),\n",
       "  array([-54.43936475,  -4.59127134,  -1.20283811,   2.05206308]),\n",
       "  array([-55.07435882,  -1.82966734,  -1.50649529,   2.57242585]),\n",
       "  array([-56.76599758,   0.39150631,  -2.1387567 ,   3.35099194]),\n",
       "  array([-58.81906055,   3.63390768,  -1.97892736,   3.42061166]),\n",
       "  array([-60.53933839,   6.95900697,  -1.53234826,   3.33376913]),\n",
       "  array([-61.83851429,   9.5597841 ,  -1.71009133,   3.81238944]),\n",
       "  array([-63.84572809,  12.04157438,  -1.94368948,   3.39901461]),\n",
       "  array([-65.08422313,  15.09378592,  -1.7517144 ,   3.38072706]),\n",
       "  array([-67.45803592,  17.90868603,  -1.30801385,   3.38141276]),\n",
       "  array([-68.92779717,  21.00301053,  -1.62684354,   3.79447621]),\n",
       "  array([-70.36482013,  25.28859922,  -1.25406178,   4.5931284 ])],\n",
       " 1: [array([10.15564933, 26.57926071,  1.19303724, -1.43913817]),\n",
       "  array([10.9690036 , 26.00671848,  1.3520109 , -1.46879816]),\n",
       "  array([12.1549322 , 24.37904296,  2.0343706 , -0.86647377]),\n",
       "  array([14.46159533, 23.34809213,  0.96701505, -1.1259999 ]),\n",
       "  array([15.17137125, 22.11059538,  1.37620648, -1.85714479]),\n",
       "  array([16.82033531, 20.94807553,  1.78810417, -2.4705735 ]),\n",
       "  array([18.23318706, 18.32749821,  1.18852321, -2.48369597]),\n",
       "  array([19.20854932, 16.09739326,  1.36526094, -2.31028298]),\n",
       "  array([20.64024476, 13.62406213,  1.45869521, -2.43500732]),\n",
       "  array([21.93914627, 11.65343635,  1.03583427, -2.19347823]),\n",
       "  array([23.05785275, 10.10618866,  0.80340621, -2.29371894]),\n",
       "  array([24.05001983,  6.71197399,  0.75202645, -1.29789992]),\n",
       "  array([24.24784394,  5.74939518, -0.48975946, -1.4984478 ]),\n",
       "  array([23.59421719,  3.95347507, -0.68937002, -1.24307319]),\n",
       "  array([22.22975979,  3.75847158, -0.25909676, -1.65478059]),\n",
       "  array([21.44041391,  1.76884623, -0.49413772, -2.4857338 ]),\n",
       "  array([21.02377805, -0.32093851, -0.60284099, -2.34990149]),\n",
       "  array([20.10363244, -2.15789775, -0.39859844, -2.8374144 ]),\n",
       "  array([19.16528035, -5.41794819, -0.34771216, -2.2913473 ]),\n",
       "  array([19.20146124, -7.66351501, -0.966679  , -2.24582222]),\n",
       "  array([18.85126967, -9.89574942, -0.74850048, -2.65186421]),\n",
       "  array([ 17.82679247, -13.16414777,  -0.62384474,  -2.9500015 ]),\n",
       "  array([ 16.81634545, -16.01161667,   0.12838326,  -2.92448675]),\n",
       "  array([ 17.40495172, -18.6501846 ,   0.34167059,  -3.18708981]),\n",
       "  array([ 18.10325846, -21.85965805,   0.13693647,  -3.18161445]),\n",
       "  array([ 18.80741971, -25.31636182,   0.48429629,  -3.55895902]),\n",
       "  array([ 20.16175637, -28.94794499,   0.36364497,  -4.01339511]),\n",
       "  array([ 20.95046496, -32.87958148,   0.38563773,  -3.97638552]),\n",
       "  None,\n",
       "  None,\n",
       "  None],\n",
       " 2: [array([ -4.34258599, -24.97799572,   1.68658373,   0.68794225]),\n",
       "  array([ -2.64841076, -23.94891402,   1.61853759,   0.30838161]),\n",
       "  array([ -0.47028674, -24.24514328,   1.55904999,   0.32438138]),\n",
       "  array([  1.79642761, -24.42071385,   1.82669295,  -0.25581768]),\n",
       "  array([  3.10193415, -23.72614366,   1.62027846,  -0.84798812]),\n",
       "  array([  4.49333746, -24.94318333,   2.02153623,  -0.28340049]),\n",
       "  array([  5.51454993, -25.92402372,   1.98434379,  -0.86991275]),\n",
       "  array([  7.59955296, -26.37756122,   2.47672233,  -1.62469575]),\n",
       "  array([  9.66278912, -27.72724243,   1.89228493,  -1.92955439]),\n",
       "  array([ 12.12702475, -29.75090182,   1.93042407,  -1.80601701]),\n",
       "  array([ 14.42309277, -31.17803178,   2.09466894,  -1.78165386]),\n",
       "  array([ 16.67273036, -32.9817596 ,   2.00963465,  -1.53005714]),\n",
       "  array([ 18.95733157, -33.89651938,   2.46282604,  -1.49267297]),\n",
       "  array([ 21.20113549, -36.02905171,   1.88683646,  -1.09861216]),\n",
       "  array([ 23.55653021, -37.31189459,   1.67234815,  -0.82303794]),\n",
       "  array([ 26.3052597 , -37.32768093,   1.67589235,  -0.44366979]),\n",
       "  array([ 28.56642633, -37.61890305,   1.02487958,  -0.83319306]),\n",
       "  array([ 30.24183794, -38.95858943,   1.11429766,  -0.67845449]),\n",
       "  array([ 31.78242173, -39.59008298,   0.89231022,  -1.71894804]),\n",
       "  array([ 32.47446622, -41.76904243,   0.55406538,  -1.6255517 ]),\n",
       "  array([ 33.3843617 , -43.04662378,   0.73790143,  -2.17893367]),\n",
       "  array([ 34.04533326, -45.33032299,   0.82088464,  -2.58429798]),\n",
       "  array([ 34.79179528, -47.56215002,   1.19674457,  -2.6654727 ]),\n",
       "  array([ 36.5795148 , -50.43230963,   1.40243185,  -2.57639115]),\n",
       "  array([ 38.07974399, -53.15004941,   1.38793472,  -2.31382209]),\n",
       "  array([ 40.19682847, -54.89705769,   1.36918937,  -1.61949573]),\n",
       "  array([ 41.19952849, -56.95282691,   1.32753132,  -2.04294167]),\n",
       "  array([ 42.53782987, -58.01620456,   1.14270826,  -1.09080352]),\n",
       "  array([ 43.06656754, -59.29401981,   1.20705652,  -0.93029106]),\n",
       "  array([ 43.62686767, -60.47779225,   1.31902583,  -1.35647845]),\n",
       "  array([ 45.78629055, -61.87300535,   1.20768998,  -2.45121237])],\n",
       " 3: [None,\n",
       "  None,\n",
       "  None,\n",
       "  None,\n",
       "  None,\n",
       "  None,\n",
       "  None,\n",
       "  None,\n",
       "  None,\n",
       "  None,\n",
       "  None,\n",
       "  None,\n",
       "  None,\n",
       "  None,\n",
       "  None,\n",
       "  None,\n",
       "  None,\n",
       "  None,\n",
       "  None,\n",
       "  None,\n",
       "  None,\n",
       "  None,\n",
       "  None,\n",
       "  None,\n",
       "  None,\n",
       "  None,\n",
       "  array([-25.89855649,  15.18765363,   0.5038149 ,   0.8602344 ]),\n",
       "  array([-25.34422216,  16.00950936,   0.13674928,   0.15122183]),\n",
       "  array([-2.46066458e+01,  1.64781720e+01, -8.54047878e-02,  1.96557932e-02]),\n",
       "  array([-25.26422923,  16.3901162 ,  -0.08461221,   0.232685  ]),\n",
       "  array([-25.44977325,  17.26099282,  -0.24134008,   0.2086589 ])]}"
      ]
     },
     "execution_count": 14,
     "metadata": {},
     "output_type": "execute_result"
    }
   ],
   "source": [
    "# true states\n",
    "birth_death_truths"
   ]
  },
  {
   "cell_type": "code",
   "execution_count": 15,
   "metadata": {},
   "outputs": [
    {
     "data": {
      "text/plain": [
       "{0: [(0, array([-19.53659436, -19.66317295])),\n",
       "  (1, array([ 8.88344804, 27.3747187 ])),\n",
       "  (2, array([ -5.05957842, -25.4306409 ])),\n",
       "  (None, array([-93.62313121,  78.71669401])),\n",
       "  (None, array([76.55334847, 69.42455996])),\n",
       "  (None, array([-91.11165527, -71.73269185]))],\n",
       " 1: [(0, array([-21.88566982, -20.68065372])),\n",
       "  (1, array([11.13501924, 26.08624905])),\n",
       "  (None, array([ 35.75007739, -91.70259567])),\n",
       "  (None, array([-75.66470156,  24.88629477])),\n",
       "  (None, array([ 4.96859464, 83.32685243])),\n",
       "  (None, array([-90.27743956, -32.30374829]))],\n",
       " 2: [(0, array([-20.88858705, -20.61372148])),\n",
       "  (1, array([12.08935432, 25.10005592])),\n",
       "  (None, array([-49.21201053,  80.93217923])),\n",
       "  (None, array([61.66539479, 20.08198439])),\n",
       "  (None, array([27.65480715, 29.59316831]))],\n",
       " 3: [(0, array([-24.3970498 , -21.51546632])),\n",
       "  (1, array([14.33697369, 24.36928092])),\n",
       "  (2, array([  2.61035254, -25.13747805])),\n",
       "  (None, array([-91.85423987,  27.97753206]))],\n",
       " 4: [(0, array([-25.58065962, -21.51000753])),\n",
       "  (1, array([15.38105075, 21.93235226])),\n",
       "  (2, array([  3.93406253, -22.65097976])),\n",
       "  (None, array([ -6.34010831, -44.65057437]))],\n",
       " 5: [(0, array([-26.57645171, -23.66594896])),\n",
       "  (None, array([-85.89236685, -27.41789532])),\n",
       "  (None, array([ 5.1310969, 24.2022264])),\n",
       "  (None, array([26.52838811, 85.40467723])),\n",
       "  (None, array([56.75537305, 80.82700591])),\n",
       "  (None, array([-98.67779225,  31.82761096])),\n",
       "  (None, array([-58.46788966,  42.32918336]))],\n",
       " 6: [(0, array([-29.03749817, -22.67001417])),\n",
       "  (1, array([17.88319098, 18.50867728])),\n",
       "  (2, array([  4.5630456 , -26.71942443])),\n",
       "  (None, array([-39.37386205, -43.15748665])),\n",
       "  (None, array([-34.86233779,  61.95668322])),\n",
       "  (None, array([-37.25816559,  85.65923193])),\n",
       "  (None, array([-86.5370554 ,  79.10540779])),\n",
       "  (None, array([-81.22626649, -37.41981373])),\n",
       "  (None, array([ 13.30377828, -32.0303643 ])),\n",
       "  (None, array([35.10762993, 34.08608732]))],\n",
       " 7: [(1, array([20.42366736, 16.48061209]))],\n",
       " 8: [(0, array([-30.74215742, -24.21589828])),\n",
       "  (1, array([21.66768013, 13.47674361])),\n",
       "  (2, array([ 10.99090712, -26.96310129])),\n",
       "  (None, array([-76.53563243,  55.61597719])),\n",
       "  (None, array([96.50929784, 17.28329699])),\n",
       "  (None, array([83.62720309, 61.21758995]))],\n",
       " 9: [(0, array([-34.55542467, -22.64388982])),\n",
       "  (1, array([22.64344993, 12.40126167]))],\n",
       " 10: [(0, array([-35.34775233, -24.16855085])),\n",
       "  (1, array([24.01868172, 10.39459132])),\n",
       "  (None, array([ 5.21136064, 30.72947417]))],\n",
       " 11: [(0, array([-36.80639164, -22.07981372])),\n",
       "  (1, array([24.07988074,  5.79514277])),\n",
       "  (None, array([-76.69668823, -66.92696065])),\n",
       "  (None, array([ 27.41756001, -55.70265173])),\n",
       "  (None, array([64.44193182, 67.06246431]))],\n",
       " 12: [(1, array([24.37420149,  5.61498002])),\n",
       "  (2, array([ 20.25577794, -34.24306125])),\n",
       "  (None, array([13.72221339, -7.3126397 ])),\n",
       "  (None, array([57.42987329,  6.31316308]))],\n",
       " 13: [(0, array([-42.56845337, -21.68895848])),\n",
       "  (1, array([24.6303041 ,  4.89014566])),\n",
       "  (2, array([ 21.6732911 , -35.60191433])),\n",
       "  (None, array([-64.36828027, -72.82269723])),\n",
       "  (None, array([-19.6745717 ,   0.54131714])),\n",
       "  (None, array([-48.55758424, -37.8292945 ])),\n",
       "  (None, array([-99.4473339 ,  98.67985866]))],\n",
       " 14: [(1, array([20.98501441,  2.78569203])),\n",
       "  (2, array([ 23.33898518, -37.10369941])),\n",
       "  (None, array([ 24.05457818, -44.16512283])),\n",
       "  (None, array([-25.15734827,  -9.68797395])),\n",
       "  (None, array([-28.14877366, -74.29678581])),\n",
       "  (None, array([71.90303266, 58.59513981]))],\n",
       " 15: [(0, array([-44.27310497, -16.16212835])),\n",
       "  (2, array([ 26.09717711, -37.05556308])),\n",
       "  (None, array([-31.74874135,  48.68876833])),\n",
       "  (None, array([-66.2960508 ,  48.00155687])),\n",
       "  (None, array([ 37.20117816, -28.12610211])),\n",
       "  (None, array([95.82558412, 94.22136793])),\n",
       "  (None, array([-76.94037983, -35.46648859])),\n",
       "  (None, array([86.393638  , 67.25493064])),\n",
       "  (None, array([ 7.96364664, 13.61618417]))],\n",
       " 16: [(0, array([-43.4594501, -15.1651951])),\n",
       "  (1, array([19.83984969, -1.06463349])),\n",
       "  (2, array([ 29.11245908, -37.40285479])),\n",
       "  (None, array([-49.71225148,  87.07732692])),\n",
       "  (None, array([-57.42730814,  42.95421031])),\n",
       "  (None, array([81.68926862,  3.01236902])),\n",
       "  (None, array([ -4.93820859, -62.6176919 ])),\n",
       "  (None, array([73.77085897, 36.41175128])),\n",
       "  (None, array([-19.40374001,  72.97561638])),\n",
       "  (None, array([-37.70085013, -43.74306575]))],\n",
       " 17: [(2, array([ 29.5419904 , -39.09610428])),\n",
       "  (None, array([-61.78395466, -52.52736992])),\n",
       "  (None, array([ 63.95976141, -56.89961707]))],\n",
       " 18: [(0, array([-48.91690783,  -8.96862698])),\n",
       "  (1, array([19.21240691, -4.24475874])),\n",
       "  (2, array([ 31.17211533, -39.08094441])),\n",
       "  (None, array([59.97644203, -1.01129586])),\n",
       "  (None, array([-46.71955155,   2.07608029])),\n",
       "  (None, array([ 33.5314724 , -76.85906845])),\n",
       "  (None, array([ -7.59645205, -52.09987565])),\n",
       "  (None, array([-94.05173008,   2.53936982]))],\n",
       " 19: [(1, array([19.56295791, -6.78537473])),\n",
       "  (2, array([ 31.70479867, -41.61286136])),\n",
       "  (None, array([ 52.75743901, -35.98273843])),\n",
       "  (None, array([-0.5461512 , 20.46448338])),\n",
       "  (None, array([ 60.67987923, -11.34216183])),\n",
       "  (None, array([ 77.10158062, -81.95481423]))],\n",
       " 20: [(0, array([-54.64727686,  -4.8729147 ])),\n",
       "  (1, array([ 19.45995401, -11.36481206])),\n",
       "  (2, array([ 34.18736593, -42.00659495])),\n",
       "  (None, array([-5.20845975, 29.34480511])),\n",
       "  (None, array([ 22.54265525, -79.03056908]))],\n",
       " 21: [(0, array([-55.32549297,  -2.23269984])),\n",
       "  (1, array([ 18.41256005, -12.86976947])),\n",
       "  (2, array([ 33.08737298, -44.11141587]))],\n",
       " 22: [(0, array([-57.4988047 ,  -0.52962702])),\n",
       "  (1, array([ 16.01256137, -16.62422084])),\n",
       "  (2, array([ 34.43907583, -47.27772561])),\n",
       "  (None, array([-59.12168146,  91.58233451])),\n",
       "  (None, array([27.9446373 , 87.15849133])),\n",
       "  (None, array([ 73.29186427, -79.94810576])),\n",
       "  (None, array([ 88.70275881, -95.33162725])),\n",
       "  (None, array([ 25.28362645, -68.4901288 ]))],\n",
       " 23: [(0, array([-57.87389194,   2.63899072])),\n",
       "  (1, array([ 17.44667683, -17.8220292 ])),\n",
       "  (2, array([ 36.53819585, -51.76295823]))],\n",
       " 24: [(1, array([ 17.35011683, -21.83048284])),\n",
       "  (None, array([-82.44592786, -46.35678551])),\n",
       "  (None, array([-12.62352019,  45.91081324])),\n",
       "  (None, array([25.91851444, 59.59811554]))],\n",
       " 25: [(0, array([-61.95735251,   9.54970692])),\n",
       "  (1, array([ 19.75609175, -25.48293931])),\n",
       "  (2, array([ 40.78419463, -55.397784  ])),\n",
       "  (None, array([ -4.56044467, -90.12289147])),\n",
       "  (None, array([-12.30748296,  10.59770315]))],\n",
       " 26: [(0, array([-64.52308046,  12.60881185])),\n",
       "  (1, array([ 21.69150575, -30.55991527])),\n",
       "  (2, array([ 41.49301525, -57.354624  ])),\n",
       "  (3, array([-26.11087047,  15.97206092])),\n",
       "  (None, array([-68.84005779,   2.81176684])),\n",
       "  (None, array([ 0.58072604, 87.00545905])),\n",
       "  (None, array([75.03928013, 60.54791095]))],\n",
       " 27: [(0, array([-64.01110049,  15.81609662])),\n",
       "  (1, array([ 19.82095441, -33.40382406])),\n",
       "  (2, array([ 43.84073629, -56.5970486 ])),\n",
       "  (3, array([-25.05517841,  16.3637488 ])),\n",
       "  (None, array([62.90070012, 79.58931511])),\n",
       "  (None, array([ 75.97165605, -60.80871551])),\n",
       "  (None, array([-46.69387985, -22.01876438])),\n",
       "  (None, array([-44.02553825,  97.25598706]))],\n",
       " 28: [(0, array([-67.10700986,  17.64983919])),\n",
       "  (2, array([ 43.76565263, -59.62339701])),\n",
       "  (3, array([-25.19955874,  18.21651578])),\n",
       "  (None, array([74.15472989, 40.02389833])),\n",
       "  (None, array([-35.18784491,  62.98680622])),\n",
       "  (None, array([-14.56284114,  39.22826542])),\n",
       "  (None, array([  6.09271817, -36.41462234]))],\n",
       " 29: [(0, array([-70.44852322,  22.04287083])),\n",
       "  (2, array([ 43.85159571, -59.56576077])),\n",
       "  (3, array([-24.90718826,  16.33354459])),\n",
       "  (None, array([-80.97281648,  -0.64423201])),\n",
       "  (None, array([29.28386515, 38.55668161]))]}"
      ]
     },
     "execution_count": 15,
     "metadata": {},
     "output_type": "execute_result"
    }
   ],
   "source": [
    "# measurements\n",
    "all_measurements"
   ]
  },
  {
   "cell_type": "markdown",
   "metadata": {},
   "source": [
    "## PHD Filter"
   ]
  },
  {
   "cell_type": "markdown",
   "metadata": {},
   "source": [
    "The PHD filter propagates the first-order stastical moment (mean) of the posterior multiple-target state. \n",
    "\n",
    "Suppose, for a multi-target scenario, that the target states at time $k - 1$ are $x_{k-1,1},...,x_{k-1,M(k-1)} \\in \\mathcal{X}$. For a random finite set (RFS) $X$ on $\\mathcal{X}$ with probality distribution $P$, its mean is a nonnegative function $v$ on $\\mathcal{X}$ (the intensity) such that\n",
    "$$\n",
    "\\int |X \\cap S| P(dX) = \\int_S v(x)dx.\n",
    "$$\n",
    "\n",
    "In other words, the integral of $v$ over $S$ is the expected number of elements of $X$ in $S$."
   ]
  },
  {
   "cell_type": "markdown",
   "metadata": {},
   "source": [
    "## GM-PHD Filter"
   ]
  },
  {
   "cell_type": "markdown",
   "metadata": {},
   "source": [
    "The GM-PHD filter approximates the PHD function using Gaussian mixtures. Each target is assumed to follow a linear Gaussian model. The predicted PHD (intensity) at time $k$ is then defined as $$v_{k|k-1}(x) = \\sum_{i=1}^{J_{k|k-1}}{w^{i}_{k|k-1}\\mathcal{N}(x, m^{i}_{k|k-1},P^{i}_{k|k-1})},$$ where \n",
    "\\begin{gather*}\n",
    "    \\text{$J_{k|k-1}$: number of components} \\\\\n",
    "    \\text{$w^{i}_{k|k-1}$: weight of component $i$} \\\\\n",
    "    \\text{$m^{i}_{k|k-1}$: mean (state vector) of component $i$} \\\\\n",
    "    \\text{$P^{i}_{k|k-1}$: covariance of component $i$.}\\\\\n",
    "\\end{gather*}"
   ]
  },
  {
   "cell_type": "markdown",
   "metadata": {},
   "source": [
    "The birth and spawn RFSs of each component are Gaussian mixtures."
   ]
  },
  {
   "cell_type": "code",
   "execution_count": 16,
   "metadata": {},
   "outputs": [],
   "source": [
    "# assume 3 components\n",
    "num_components = 3\n",
    "\n",
    "# assume each component has the same weight\n",
    "component_weight = 0.1\n",
    "\n",
    "# the variance of pos and vel\n",
    "pos_var = 100\n",
    "vel_var = 25\n",
    "\n",
    "# each component assumed to start at a random (x, y) ~ U([-100, 100] x [-100, 100])\n",
    "start_bounds = (-100, 100)\n",
    "\n",
    "w = [component_weight] * num_components\n",
    "m = []\n",
    "for _ in range(3):\n",
    "    m.append([np.random.uniform(start_bounds[0], start_bounds[1]), 0, np.random.uniform(start_bounds[0], start_bounds[1]), 0])\n",
    "m = np.array(m)\n",
    "P = np.diag([pos_var, pos_var, vel_var, vel_var])"
   ]
  },
  {
   "cell_type": "code",
   "execution_count": 17,
   "metadata": {},
   "outputs": [],
   "source": [
    "from gmphd import mtt_phd\n",
    "\n",
    "# initialize the filter\n",
    "filter = mtt_phd(\n",
    "    weights=w,\n",
    "    position=m,\n",
    "    p_cov=P,\n",
    "    num_components=num_components,\n",
    "    measurement=all_measurements,\n",
    "    state_transition_matrix=F,\n",
    "    process_noise_matrix=Q,\n",
    "    measurement_matrix=H,\n",
    "    measurement_noise=R,\n",
    "    num_steps=len(all_measurements),\n",
    "    detection_probability=0.9,\n",
    "    clutter_intensity=3.0,\n",
    ")"
   ]
  },
  {
   "cell_type": "markdown",
   "metadata": {},
   "source": [
    "The algorithm for GM-PHD recursion consists of 4 steps:\n",
    "\n",
    "1. Predict birth/spawn targets\n",
    "2. Predict existing targets\n",
    "3. Construct PHD update components\n",
    "4. Update\n",
    "\n",
    "For any single timestep $k$ and given $w_{k-1}$, $m_{k-1}$, and $P_{k-1}$ for all $J_{k-1}$ components, the filter begins by predicting the positions of any birthed and spawned targets. Predicted birth positions are found by simply copying the birth Gaussian mixtures at time $k$, given by \n",
    "$$\n",
    "    \\gamma(x) = \\sum_{i=1}^{J_{\\gamma,k}}{w_{\\gamma,k}^{i}\\mathcal{N}(x; m^{i}_{\\gamma,k},P^{i}_{\\gamma,k})}.\n",
    "$$ \n",
    "\n",
    "Essentially, this just initializes new Gaussian mixture components at time $k$.\n",
    "\n",
    "For now, assume no spawning."
   ]
  },
  {
   "cell_type": "code",
   "execution_count": 18,
   "metadata": {},
   "outputs": [],
   "source": [
    "# predict any birthed components\n",
    "filter.predict_birth()"
   ]
  },
  {
   "cell_type": "markdown",
   "metadata": {},
   "source": [
    "Predicted existing positions are calculated by propagating each $J_{k-1}^{\\text{th}}$ component through the motion model by one timestep; i.e., \n",
    "$$\n",
    "    w_{k}^{(i)} = p_{S,k}w_{k-1}^{(j)} \\\\\n",
    "    m_{k}^{(i)} = F_{k-1}m_{k-1}^{(j)} \\\\\n",
    "    P_{k}^{(i)}  = Q_{k-1} + F_{k-1}P_{k-1}^{(j)}F_{k-1}^{T}\n",
    "$$ \n",
    "for each $i^{\\text{th}}$ existing target and each $j$ in $J_{k-1}$."
   ]
  },
  {
   "cell_type": "code",
   "execution_count": 19,
   "metadata": {},
   "outputs": [],
   "source": [
    "filter.predict_exist()"
   ]
  },
  {
   "cell_type": "markdown",
   "metadata": {},
   "source": [
    "After predicting the positions of each component, the filter performs an intermediate step to generate a Gaussian component that will be used to update the weights of each component in step 4. This intermediate step uses the Kalman filter on each individual prediction to determine how closely predictions match measurements. Specifically, it calculates\n",
    "$$\n",
    "    \\eta^{(j)}_{k|k-1} = H_k m^{(j)}_{k|(k-1)}\\text{ (predicted measurement)} \\\\\n",
    "    S^{(j)}_k = R_k + H^{(j)}_{k|k-1} P^{(j)}_{k|k-1} H^T_k\\text{: innovation covariance,} \\\\\n",
    "    K^j_k = P^{(j)}_{k|k-1} H^T_k[S_k^{(j)}]^{-1}\\text{:  Kalman gain} \\\\\n",
    "    P^{(j)}_{k|k} = [I - K^{(j)}_k H_k] P^{(j)}_{k|k-1}\\text{: posterior covariance} \\\\\n",
    "$$\n",
    "\n",
    "for each $j$ in $J_{k|k-1}$."
   ]
  },
  {
   "cell_type": "code",
   "execution_count": 20,
   "metadata": {},
   "outputs": [],
   "source": [
    "filter.phd_components_update()"
   ]
  },
  {
   "cell_type": "code",
   "execution_count": 22,
   "metadata": {},
   "outputs": [
    {
     "data": {
      "text/plain": [
       "[[],\n",
       " [],\n",
       " [],\n",
       " [],\n",
       " [],\n",
       " [],\n",
       " [],\n",
       " [],\n",
       " [],\n",
       " [],\n",
       " [],\n",
       " [],\n",
       " [],\n",
       " [],\n",
       " [],\n",
       " [],\n",
       " [],\n",
       " [],\n",
       " [],\n",
       " [],\n",
       " [],\n",
       " [],\n",
       " [],\n",
       " [],\n",
       " [],\n",
       " [],\n",
       " [],\n",
       " [],\n",
       " [],\n",
       " []]"
      ]
     },
     "execution_count": 22,
     "metadata": {},
     "output_type": "execute_result"
    }
   ],
   "source": [
    "filter.full_PHD_filter_run()"
   ]
  },
  {
   "cell_type": "code",
   "execution_count": null,
   "metadata": {},
   "outputs": [],
   "source": []
  }
 ],
 "metadata": {
  "kernelspec": {
   "display_name": "Python 3",
   "language": "python",
   "name": "python3"
  },
  "language_info": {
   "codemirror_mode": {
    "name": "ipython",
    "version": 3
   },
   "file_extension": ".py",
   "mimetype": "text/x-python",
   "name": "python",
   "nbconvert_exporter": "python",
   "pygments_lexer": "ipython3",
   "version": "3.12.1"
  }
 },
 "nbformat": 4,
 "nbformat_minor": 2
}
