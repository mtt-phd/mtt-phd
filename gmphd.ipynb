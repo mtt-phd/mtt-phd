{
 "cells": [
  {
   "cell_type": "code",
   "execution_count": 6,
   "metadata": {},
   "outputs": [],
   "source": [
    "import numpy as np\n",
    "import scipy.stats as sc\n",
    "from matplotlib import colormaps\n",
    "import matplotlib.pyplot as plt\n",
    "import matplotlib.cm as cm\n",
    "from time import time"
   ]
  },
  {
   "cell_type": "code",
   "execution_count": 7,
   "metadata": {},
   "outputs": [
    {
     "data": {
      "text/plain": [
       "array([[[ -8.07218076,  -4.49125581,  -0.91033086,   2.67059409,\n",
       "           6.25151904,   9.83244399,  13.41336894,  16.99429389,\n",
       "          20.57521884,  24.15614379],\n",
       "        [ -0.8844742 ,  -2.77044353,  -4.65641285,  -6.54238217,\n",
       "          -8.4283515 , -10.31432082, -12.20029014, -14.08625947,\n",
       "         -15.97222879, -17.85819811],\n",
       "        [ -3.88086752,  -2.92152956,  -1.96219159,  -1.00285363,\n",
       "          -0.04351567,   0.91582229,   1.87516025,   2.83449821,\n",
       "           3.79383618,   4.75317414]],\n",
       "\n",
       "       [[ -6.46454434,  -3.36883308,  -0.27312181,   2.82258945,\n",
       "           5.91830072,   9.01401198,  12.10972325,  15.20543452,\n",
       "          18.30114578,  21.39685705],\n",
       "        [  5.1703906 ,   6.05898913,   6.94758765,   7.83618618,\n",
       "           8.72478471,   9.61338324,  10.50198177,  11.3905803 ,\n",
       "          12.27917883,  13.16777736],\n",
       "        [ -1.3581392 ,  -0.35850924,   0.64112072,   1.64075068,\n",
       "           2.64038064,   3.6400106 ,   4.63964056,   5.63927052,\n",
       "           6.63890048,   7.63853044]],\n",
       "\n",
       "       [[  1.68195938,   2.49405235,   3.30614531,   4.11823828,\n",
       "           4.93033125,   5.74242422,   6.55451719,   7.36661016,\n",
       "           8.17870312,   8.99079609],\n",
       "        [ -8.31111358,  -7.9489405 ,  -7.58676742,  -7.22459434,\n",
       "          -6.86242126,  -6.50024818,  -6.13807511,  -5.77590203,\n",
       "          -5.41372895,  -5.05155587],\n",
       "        [ -9.16771652,  -8.18914256,  -7.21056859,  -6.23199463,\n",
       "          -5.25342067,  -4.2748467 ,  -3.29627274,  -2.31769877,\n",
       "          -1.33912481,  -0.36055085]]])"
      ]
     },
     "execution_count": 7,
     "metadata": {},
     "output_type": "execute_result"
    }
   ],
   "source": [
    "# ground truth data\n",
    "ground_truths = np.load('mt_trajectories.npy')\n",
    "ground_truths"
   ]
  },
  {
   "cell_type": "markdown",
   "metadata": {},
   "source": [
    "## Background"
   ]
  },
  {
   "cell_type": "markdown",
   "metadata": {},
   "source": [
    "### Motion model"
   ]
  },
  {
   "cell_type": "code",
   "execution_count": 8,
   "metadata": {},
   "outputs": [],
   "source": [
    "# # utility functions\n",
    "# this is the version for [x, dx, y, dy]\n",
    "# def create_state_matrix(dt:float= 1.0, dim:int = 2):\n",
    "#     mat = []\n",
    "#     for i in range(dim):\n",
    "#         row = []\n",
    "#         for j in range(dim):\n",
    "#             if i == j:\n",
    "#                 row.append(np.array([[1, dt], [0, 1]]))\n",
    "#             else:\n",
    "#                 row.append(np.zeros((2, 2)))\n",
    "#         mat.append(row)\n",
    "#     return np.block(mat)\n",
    "\n",
    "def create_state_matrix(dt:float = 1.0, dim:int = 2):\n",
    "    return np.vstack((\n",
    "        np.hstack((np.identity(dim), np.identity(dim) * dt)),\n",
    "        np.hstack((np.zeros((dim, dim)), np.identity(dim)))\n",
    "    ))\n",
    "\n",
    "\n",
    "def create_measurement_matrix(dim:int = 2):\n",
    "    return np.hstack((np.identity(dim), np.zeros((dim, dim))))"
   ]
  },
  {
   "cell_type": "markdown",
   "metadata": {},
   "source": [
    "The motion model describes how objects of a system move. Define the motion model as $$x_{k+1} = F \\times x_{k} + w_{k}$$ where\n",
    "\\begin{gather*}\n",
    "    \\text{$x_{k+1}$: next state} \\\\\n",
    "    \\text{$F$: state transition matrix} \\\\\n",
    "    \\text{$x_{k}$: current state} \\\\\n",
    "    \\text{$w_{k}$: process noise.} \\\\\n",
    "\\end{gather*}\n",
    "\n",
    "Assume motion is constant velocity in 2 dimensions, where state is represented by $[x, y, v_{x}, v_{y}]$ (i.e., x-pos, y-pos, x-vel, y-vel). Then, $F$ is defined by\n",
    "$$ F = \\begin{bmatrix}\n",
    "    1 & 0 & dt & 0 \\\\\n",
    "    0 & 1 & 0 & dt \\\\\n",
    "    0 & 0 & 1 & 0 \\\\\n",
    "    0 & 0 & 0 & 1 \\\\\n",
    "\\end{bmatrix}.$$"
   ]
  },
  {
   "cell_type": "code",
   "execution_count": 9,
   "metadata": {},
   "outputs": [
    {
     "data": {
      "text/plain": [
       "array([[1., 0., 1., 0.],\n",
       "       [0., 1., 0., 1.],\n",
       "       [0., 0., 1., 0.],\n",
       "       [0., 0., 0., 1.]])"
      ]
     },
     "execution_count": 9,
     "metadata": {},
     "output_type": "execute_result"
    }
   ],
   "source": [
    "# dimensions\n",
    "dim = 2\n",
    "# timestep (1s)\n",
    "dt = 1.0\n",
    "# state transition matrix\n",
    "F = create_state_matrix(dt, dim)\n",
    "F"
   ]
  },
  {
   "cell_type": "markdown",
   "metadata": {},
   "source": [
    "Assume $w_{k}$ has 0 mean and 0.25 variance. Sampled from a multivariate Gaussian, its covariance $Q$ is defined by\n",
    "$$ Q = \\begin{bmatrix}\n",
    "    0.25 & 0 & 0 & 0 \\\\\n",
    "    0 & 0.25 & 0 & 0 \\\\\n",
    "    0 & 0 & 0.25 & 0 \\\\\n",
    "    0 & 0 & 0 & 0.25 \\\\\n",
    "\\end{bmatrix}.$$"
   ]
  },
  {
   "cell_type": "code",
   "execution_count": 10,
   "metadata": {},
   "outputs": [
    {
     "data": {
      "text/plain": [
       "array([[0.25, 0.  , 0.  , 0.  ],\n",
       "       [0.  , 0.25, 0.  , 0.  ],\n",
       "       [0.  , 0.  , 0.25, 0.  ],\n",
       "       [0.  , 0.  , 0.  , 0.25]])"
      ]
     },
     "execution_count": 10,
     "metadata": {},
     "output_type": "execute_result"
    }
   ],
   "source": [
    "# process noise covariance\n",
    "Q = np.identity(F.shape[0]) * 0.25\n",
    "Q"
   ]
  },
  {
   "cell_type": "code",
   "execution_count": 11,
   "metadata": {},
   "outputs": [],
   "source": [
    "def simulate_motion_basic(num_steps:int=10, init_truths:int=3):\n",
    "    all_states = {}\n",
    "    # initial truths\n",
    "    for i in range(init_truths):\n",
    "        state = np.array([\n",
    "            *np.random.uniform(-30, 30, 2),\n",
    "            *np.random.uniform(-2, 2, 2),\n",
    "        ])\n",
    "\n",
    "        all_states[i] = [state.copy()]\n",
    "\n",
    "    for step in range(1, num_steps + 1):\n",
    "        \n",
    "        for i in all_states.keys():\n",
    "            # get previous state\n",
    "            state = all_states[i][-1]\n",
    "            \n",
    "            # # without noise\n",
    "            # new_state = F @ state\n",
    "            # with noise\n",
    "            new_state = F @ state + np.random.multivariate_normal(np.zeros(Q[0].size), Q)\n",
    "            all_states[i].append(new_state.copy())\n",
    "\n",
    "    return all_states\n"
   ]
  },
  {
   "cell_type": "code",
   "execution_count": 12,
   "metadata": {},
   "outputs": [
    {
     "data": {
      "image/png": "[encoded data removed]",
      "text/plain": [
       "<Figure size 640x480 with 1 Axes>"
      ]
     },
     "metadata": {},
     "output_type": "display_data"
    }
   ],
   "source": [
    "# generate ground truths (i.e., true motion)\n",
    "# assume 3 components\n",
    "%matplotlib inline\n",
    "num_components = 3\n",
    "ground_truths = simulate_motion_basic(num_steps=30, init_truths=num_components)\n",
    "for i, state in ground_truths.items():\n",
    "    pos = np.array([s[:2] for s in state])\n",
    "    plt.plot(*pos[:,:2].T, label=f'Component {i + 1}')\n",
    "    plt.legend()\n",
    "plt.show()"
   ]
  },
  {
   "cell_type": "markdown",
   "metadata": {},
   "source": [
    "Now, assume objects have a specific birth and death probability. Birth refers to the spontaneous introduction of an object into a scene, whereas death refers to the spontaneous removal of an object from a scene."
   ]
  },
  {
   "cell_type": "code",
   "execution_count": 13,
   "metadata": {},
   "outputs": [],
   "source": [
    "# generalized form to include birth and death probabilities\n",
    "def simulate_motion(num_steps:int = 10, init_truths:int = 3, F:np.ndarray=F, Q:np.ndarray=Q, birth_prob:float = 0.2, death_prob:float = 0.05):\n",
    "    all_states = {}\n",
    "    # initial truths\n",
    "    for i in range(init_truths):\n",
    "        state = np.array([\n",
    "            *np.random.uniform(-30, 30, 2),\n",
    "            *np.random.uniform(-2, 2, 2),\n",
    "        ])\n",
    "\n",
    "        all_states[i] = [state.copy()]\n",
    "\n",
    "    next_id = init_truths\n",
    "\n",
    "    for step in range(1, num_steps + 1):\n",
    "        \n",
    "        for i in all_states.keys():\n",
    "            # get previous state\n",
    "            state = all_states[i][-1]\n",
    "\n",
    "            # if dead, stay dead\n",
    "            if state is None:\n",
    "                all_states[i].append(None)\n",
    "                continue\n",
    "\n",
    "            # death\n",
    "            if np.random.rand() <= death_prob:\n",
    "                all_states[i].append(None)\n",
    "                continue\n",
    "            \n",
    "            # # without noise\n",
    "            # state = F @ state\n",
    "            # with noise\n",
    "            new_state = F @ state + np.random.multivariate_normal(np.zeros(Q[0].size), Q)\n",
    "            all_states[i].append(new_state.copy())\n",
    "\n",
    "        # birth\n",
    "        if np.random.rand() <= birth_prob:\n",
    "            state = np.array([\n",
    "                *np.random.uniform(-30, 30, 2),\n",
    "                *np.random.uniform(-2, 2, 2),\n",
    "            ])\n",
    "            all_states[next_id] = [None] * step + [state.copy()]\n",
    "            next_id += 1\n",
    "\n",
    "    return all_states"
   ]
  },
  {
   "cell_type": "code",
   "execution_count": 14,
   "metadata": {},
   "outputs": [
    {
     "data": {
      "text/plain": [
       "<matplotlib.legend.Legend at 0x7faf505b2b50>"
      ]
     },
     "execution_count": 14,
     "metadata": {},
     "output_type": "execute_result"
    },
    {
     "data": {
      "image/png": "[encoded data removed]",
      "text/plain": [
       "<Figure size 640x480 with 1 Axes>"
      ]
     },
     "metadata": {},
     "output_type": "display_data"
    }
   ],
   "source": [
    "birth_death_truths = simulate_motion(num_steps=30, birth_prob=0.05, death_prob=0.005)\n",
    "for i, state in birth_death_truths.items():\n",
    "    pos = np.array([s[:2] if s is not None else [np.nan, np.nan] for s in state])\n",
    "    plt.plot(*pos[:,:2].T, label=f'Component {i + 1}')\n",
    "plt.legend()"
   ]
  },
  {
   "cell_type": "markdown",
   "metadata": {},
   "source": [
    "### Measurement model"
   ]
  },
  {
   "cell_type": "markdown",
   "metadata": {},
   "source": [
    "The measurement model describes what the sensor sees. Define the measurement model as $$ z_{k} = Hx_{k} + v_{k}$$ where\n",
    "\\begin{gather*}\n",
    "    \\text{$z_{k}$: observed measurement} \\\\\n",
    "    \\text{$H$: measurement matrix} \\\\\n",
    "    \\text{$v_{k}$: measurement noise.} \\\\\n",
    "\\end{gather*}\n",
    "\n",
    "Assume a sensor only measures position. Then, $H$ is defined by\n",
    "$$ H = \\begin{bmatrix}\n",
    "    1 & 0 & 0 & 0 \\\\\n",
    "    0 & 1 & 0 & 0 \\\\\n",
    "\\end{bmatrix}.$$\n"
   ]
  },
  {
   "cell_type": "code",
   "execution_count": 15,
   "metadata": {},
   "outputs": [
    {
     "data": {
      "text/plain": [
       "array([[1., 0., 0., 0.],\n",
       "       [0., 1., 0., 0.]])"
      ]
     },
     "execution_count": 15,
     "metadata": {},
     "output_type": "execute_result"
    }
   ],
   "source": [
    "# measurement matrix\n",
    "H = create_measurement_matrix(dim)\n",
    "H"
   ]
  },
  {
   "cell_type": "markdown",
   "metadata": {},
   "source": [
    "Assume $v_{k}$ has 0 mean and 0.75 variance. Its covariance R is defined by\n",
    "$$ R = \\begin{bmatrix}\n",
    "    0.75 & 0 \\\\\n",
    "    0 & 0.75 \\\\\n",
    "\\end{bmatrix}.$$"
   ]
  },
  {
   "cell_type": "code",
   "execution_count": 16,
   "metadata": {},
   "outputs": [
    {
     "data": {
      "text/plain": [
       "array([[0.75, 0.  ],\n",
       "       [0.  , 0.75]])"
      ]
     },
     "execution_count": 16,
     "metadata": {},
     "output_type": "execute_result"
    }
   ],
   "source": [
    "# measurement noise covariance\n",
    "R = np.identity(H.shape[0]) * 0.75\n",
    "R"
   ]
  },
  {
   "cell_type": "markdown",
   "metadata": {},
   "source": [
    "Assume the sensors have a certain detection rate. Sensors frequently detect objects that are not targets of interest. These objects are referred to as clutter, which have to be filtered out from predictions."
   ]
  },
  {
   "cell_type": "code",
   "execution_count": 17,
   "metadata": {},
   "outputs": [],
   "source": [
    "def simulate_measurement(ground_truths, num_steps:int=10, det_prob:float=0.9, clutter_rate:float=3.0, H:np.ndarray=H, R:np.ndarray=R):\n",
    "    # all measurements\n",
    "    all_measurements = {}\n",
    "    for step in range(num_steps):\n",
    "        measurements = []\n",
    "        # real measurement\n",
    "        for i, states in ground_truths.items():\n",
    "            # if an item is already dead at the current time step\n",
    "            if step >= len(states):\n",
    "                continue\n",
    "\n",
    "            state = states[step]\n",
    "            # if an item is dead at the current timestep\n",
    "            if state is None:\n",
    "                continue\n",
    "            \n",
    "            # detect with detection probability\n",
    "            if np.random.rand() <= det_prob:\n",
    "                measurement = H @ state + np.random.multivariate_normal(np.zeros(R[0].size), R)\n",
    "                measurements.append((i, measurement.copy()))\n",
    "\n",
    "        # clutter\n",
    "        for _ in range(np.random.poisson(clutter_rate)):\n",
    "            clutter = np.array([\n",
    "                np.random.uniform(-100, 100), \n",
    "                np.random.uniform(-100, 100)\n",
    "            ])\n",
    "            measurements.append((None, clutter.copy()))\n",
    "        \n",
    "        all_measurements[step] = measurements\n",
    "\n",
    "    return all_measurements\n"
   ]
  },
  {
   "cell_type": "code",
   "execution_count": 36,
   "metadata": {},
   "outputs": [
    {
     "name": "stdout",
     "output_type": "stream",
     "text": [
      "[[26.88330896 -0.6873088 ]\n",
      " [26.62843242  0.61256144]\n",
      " [27.38081949  1.81528005]\n",
      " [27.80584984  3.61524556]\n",
      " [29.18462685  4.87606065]\n",
      " [29.55856861  5.24409522]\n",
      " [30.51169658  6.559366  ]\n",
      " [32.20047918  8.57413347]\n",
      " [33.08150769  8.69635974]\n",
      " [34.01982464  9.38515965]\n",
      " [35.82756629 10.01359019]\n",
      " [37.27955985  9.79466783]\n",
      " [38.86608544  9.03200372]\n",
      " [40.73952311  7.81340777]\n",
      " [42.6767502   7.8323935 ]\n",
      " [44.55130424  7.9822895 ]\n",
      " [47.13349153  8.19199762]\n",
      " [47.55573831  8.48177682]\n",
      " [48.22016258 10.74517864]\n",
      " [49.84040134 12.88814191]\n",
      " [51.47105447 16.11794707]\n",
      " [53.47458385 18.64424575]\n",
      " [53.88186382 20.59481873]\n",
      " [53.79840312 23.32556585]\n",
      " [54.17611396 25.56838144]\n",
      " [55.10720762 29.07101587]\n",
      " [57.29425793 32.09815812]\n",
      " [59.60846086 35.02811855]\n",
      " [61.99996643 38.8666814 ]\n",
      " [64.4179674  42.7340045 ]\n",
      " [68.43478009 45.70218101]]\n",
      "[[-19.63648984  23.61778866]\n",
      " [-18.92637901  21.81366876]\n",
      " [-19.15549493  20.40892169]\n",
      " [-20.42510001  18.21835872]\n",
      " [-21.08189326  16.39363953]\n",
      " [-19.99532408  14.20290221]\n",
      " [-18.14151166  10.48355488]\n",
      " [-19.61978337   8.19461999]\n",
      " [-20.03059259   5.14216611]\n",
      " [-21.32904638   2.45088207]\n",
      " [-23.21401604  -0.09254939]\n",
      " [-24.80038989  -3.03014101]\n",
      " [-26.10970613  -5.54091802]\n",
      " [-28.23155666  -8.25849491]\n",
      " [-29.05666147 -10.71522448]\n",
      " [-30.90755318 -13.13485749]\n",
      " [-33.59501793 -17.27648066]\n",
      " [-36.27190766 -21.69587687]\n",
      " [-37.99979133 -25.90547443]\n",
      " [-39.29514323 -31.22543203]\n",
      " [-40.54762991 -36.8617623 ]\n",
      " [-42.61994647 -41.99033157]\n",
      " [-45.05992779 -45.96887661]\n",
      " [-46.22262866 -50.30993662]\n",
      " [-46.33225507 -56.13456381]\n",
      " [-47.00198623 -59.76379413]\n",
      " [-47.95983614 -63.31120623]\n",
      " [-49.2321782  -67.61020866]\n",
      " [-49.29475691 -70.57787655]\n",
      " [-48.8193283  -74.7250833 ]\n",
      " [-49.17120709 -79.86941267]]\n",
      "[[ 2.02872481e+01 -9.49605574e+00]\n",
      " [ 2.13107768e+01 -9.66903160e+00]\n",
      " [ 2.13634269e+01 -9.28611299e+00]\n",
      " [ 2.27859588e+01 -8.95314601e+00]\n",
      " [ 2.40977651e+01 -9.16905225e+00]\n",
      " [ 2.58098891e+01 -7.65714902e+00]\n",
      " [ 2.65902574e+01 -5.86489054e+00]\n",
      " [ 2.72134297e+01 -5.58609534e+00]\n",
      " [ 2.88959796e+01 -5.90225350e+00]\n",
      " [ 3.01210681e+01 -6.74793295e+00]\n",
      " [ 3.17284797e+01 -8.14765466e+00]\n",
      " [ 3.30032827e+01 -9.04918136e+00]\n",
      " [ 3.49485483e+01 -9.76994967e+00]\n",
      " [ 3.72747854e+01 -1.02432756e+01]\n",
      " [ 3.94123549e+01 -1.12948399e+01]\n",
      " [ 4.00779745e+01 -1.07608568e+01]\n",
      " [ 4.15814800e+01 -9.85836098e+00]\n",
      " [ 4.39102369e+01 -1.06464161e+01]\n",
      " [ 4.63154183e+01 -1.07101398e+01]\n",
      " [ 4.87210259e+01 -1.11629186e+01]\n",
      " [ 5.22581657e+01 -1.18779924e+01]\n",
      " [ 5.44199990e+01 -1.17725492e+01]\n",
      " [ 5.80559380e+01 -1.10972793e+01]\n",
      " [ 6.10577430e+01 -9.59576107e+00]\n",
      " [ 6.33217730e+01 -8.71025227e+00]\n",
      " [ 6.70428863e+01 -8.10410791e+00]\n",
      " [ 6.99234735e+01 -6.43839026e+00]\n",
      " [ 7.31654011e+01 -4.93801690e+00]\n",
      " [ 7.74355139e+01 -3.32477146e+00]\n",
      " [ 8.23189343e+01 -1.85399086e+00]\n",
      " [ 8.79029665e+01 -5.51823141e-02]]\n",
      "[[         nan          nan]\n",
      " [         nan          nan]\n",
      " [         nan          nan]\n",
      " [         nan          nan]\n",
      " [         nan          nan]\n",
      " [         nan          nan]\n",
      " [         nan          nan]\n",
      " [         nan          nan]\n",
      " [         nan          nan]\n",
      " [         nan          nan]\n",
      " [         nan          nan]\n",
      " [         nan          nan]\n",
      " [         nan          nan]\n",
      " [         nan          nan]\n",
      " [         nan          nan]\n",
      " [         nan          nan]\n",
      " [         nan          nan]\n",
      " [         nan          nan]\n",
      " [-11.44844436 -20.82791378]\n",
      " [-11.38783081 -22.39337617]\n",
      " [-11.12882999 -23.33727514]\n",
      " [-11.50530568 -24.06556095]\n",
      " [-11.48926766 -24.93655616]\n",
      " [-11.87008646 -24.4081594 ]\n",
      " [-12.49704684 -24.85906081]\n",
      " [-12.65012111 -23.93583575]\n",
      " [-12.34285435 -24.05111534]\n",
      " [-12.13780155 -24.76949961]\n",
      " [-10.84433288 -24.70775795]\n",
      " [-10.48853755 -25.61504037]\n",
      " [-10.7897684  -24.16355251]]\n",
      "[[         nan          nan]\n",
      " [         nan          nan]\n",
      " [         nan          nan]\n",
      " [         nan          nan]\n",
      " [         nan          nan]\n",
      " [         nan          nan]\n",
      " [         nan          nan]\n",
      " [         nan          nan]\n",
      " [         nan          nan]\n",
      " [         nan          nan]\n",
      " [         nan          nan]\n",
      " [         nan          nan]\n",
      " [         nan          nan]\n",
      " [         nan          nan]\n",
      " [         nan          nan]\n",
      " [         nan          nan]\n",
      " [         nan          nan]\n",
      " [         nan          nan]\n",
      " [         nan          nan]\n",
      " [ -7.59318488 -22.50293049]\n",
      " [ -7.45771281 -23.46229349]\n",
      " [ -6.45781204 -25.32450283]\n",
      " [ -6.30703924 -26.4349867 ]\n",
      " [ -5.51849316 -25.86014244]\n",
      " [ -5.83399799 -26.22501586]\n",
      " [ -5.17468142 -26.96139057]\n",
      " [ -5.75921846 -28.02056216]\n",
      " [ -5.21824998 -28.95547965]\n",
      " [ -5.21570636 -30.50410823]\n",
      " [ -4.20911004 -32.6865721 ]\n",
      " [ -3.05078129 -33.48254743]]\n"
     ]
    },
    {
     "data": {
      "text/plain": [
       "<matplotlib.legend.Legend at 0x7faf50e9e5b0>"
      ]
     },
     "execution_count": 36,
     "metadata": {},
     "output_type": "execute_result"
    },
    {
     "data": {
      "image/png": "[encoded data removed]",
      "text/plain": [
       "<Figure size 640x480 with 1 Axes>"
      ]
     },
     "metadata": {},
     "output_type": "display_data"
    }
   ],
   "source": [
    "# generate measurements\n",
    "all_measurements = simulate_measurement(birth_death_truths, num_steps=30)\n",
    "\n",
    "component_ids = sorted({i for measurements in all_measurements.values() for i, _ in measurements if i is not None})\n",
    "\n",
    "# matplotlib.colormaps\n",
    "cmap = colormaps['viridis']\n",
    "colors = [cmap(i / max(len(component_ids) - 1, 1)) for i in range(len(component_ids))]\n",
    "color_map = {comp: colors[idx] for idx, comp in enumerate(sorted(component_ids))}\n",
    "# color_map = {comp: colors(idx) for idx, comp in enumerate(sorted(component_ids))}\n",
    "\n",
    "\n",
    "for measurements in all_measurements.values():\n",
    "    for i, measurement in measurements:\n",
    "        if i is None:\n",
    "            plt.scatter(measurement[0], measurement[1], c='gray', marker='x', label='Clutter')\n",
    "        else:\n",
    "            color = color_map[i]\n",
    "            plt.scatter(measurement[0], measurement[1], color=color, marker='o', label=f'Component {i + 1}')\n",
    "    \n",
    "for i, state in birth_death_truths.items():\n",
    "    pos = np.array([s[:2] if s is not None else [np.nan, np.nan] for s in state])\n",
    "    # print(pos)\n",
    "    plt.plot(*pos[:,:2].T, label=f'Ground truth {i + 1}', linestyle='dashed')\n",
    "\n",
    "# ignore duplicates\n",
    "handles, labels = plt.gca().get_legend_handles_labels()\n",
    "unique = dict(zip(labels, handles))\n",
    "order = np.argsort(list(unique.keys()))\n",
    "plt.legend([list(unique.values())[i] for i in order], [list(unique.keys())[i] for i in order])"
   ]
  },
  {
   "cell_type": "code",
   "execution_count": 35,
   "metadata": {},
   "outputs": [
    {
     "name": "stdout",
     "output_type": "stream",
     "text": [
      "30\n"
     ]
    }
   ],
   "source": [
    "print(len(all_measurements.values()))"
   ]
  },
  {
   "cell_type": "markdown",
   "metadata": {},
   "source": [
    "## PHD Filter"
   ]
  },
  {
   "cell_type": "markdown",
   "metadata": {},
   "source": [
    "The PHD filter propagates the first-order stastical moment (mean) of the posterior multiple-target state. \n",
    "\n",
    "Suppose, for a multi-target scenario, that the target states at time $k - 1$ are $x_{k-1,1},...,x_{k-1,M(k-1)} \\in \\mathcal{X}$. For a random finite set (RFS) $X$ on $\\mathcal{X}$ with probality distribution $P$, its mean is a nonnegative function $v$ on $\\mathcal{X}$ (the intensity)"
   ]
  },
  {
   "cell_type": "markdown",
   "metadata": {},
   "source": [
    "## GM-PHD Filter"
   ]
  },
  {
   "cell_type": "markdown",
   "metadata": {},
   "source": [
    "The GM-PHD filter approximates the PHD function with a Gaussian mixture. Each target is treated as a Gaussian component. The PHD is then defined as $$D_{k|k-1}(x) = \\sum_{i=1}^{J_{k|k-1}}{w^{i}_{k|k-1}\\mathcal{N}(x, m^{i}_{k|k-1},P^{i}_{k|k-1})},$$ where \n",
    "\\begin{gather*}\n",
    "    \\text{$J_{k|k-1}$: number of components} \\\\\n",
    "    \\text{$w^{i}_{k|k-1}$: weight of component $i$} \\\\\n",
    "    \\text{$m^{i}_{k|k-1}$: mean (state vector) of component $i$} \\\\\n",
    "    \\text{$P^{i}_{k|k-1}$: covariance of component $i$.}\\\\\n",
    "\\end{gather*}"
   ]
  },
  {
   "cell_type": "markdown",
   "metadata": {},
   "source": [
    "Assume the targets are linear Gaussian. The birth RFSs of each component are Gaussian mixtures."
   ]
  },
  {
   "cell_type": "code",
   "execution_count": 19,
   "metadata": {},
   "outputs": [
    {
     "name": "stdout",
     "output_type": "stream",
     "text": [
      "[0.1, 0.1, 0.1]\n",
      "[[-90.46505173   0.         -77.01121158   0.        ]\n",
      " [-97.19800637   0.          82.23053251   0.        ]\n",
      " [-44.35028365   0.          -7.41992411   0.        ]]\n",
      "[[100   0   0   0]\n",
      " [  0  25   0   0]\n",
      " [  0   0 100   0]\n",
      " [  0   0   0  25]]\n"
     ]
    },
    {
     "data": {
      "text/plain": [
       "'\\n(ID, location)\\n'"
      ]
     },
     "execution_count": 19,
     "metadata": {},
     "output_type": "execute_result"
    }
   ],
   "source": [
    "# number of components\n",
    "num_components = 3\n",
    "\n",
    "# assume each component has the same weight\n",
    "component_weight = 0.1\n",
    "\n",
    "# the variance of pos and vel\n",
    "pos_var = 100\n",
    "vel_var = 25\n",
    "\n",
    "# each component starts at a random (x, y) ~ U([-100, 100] x [-100, 100])\n",
    "start_bounds = (-100, 100)\n",
    "\n",
    "w = [component_weight] * num_components\n",
    "m = []\n",
    "for _ in range(3):\n",
    "    m.append([np.random.uniform(start_bounds[0], start_bounds[1]), 0, np.random.uniform(start_bounds[0], start_bounds[1]), 0])\n",
    "m = np.array(m)\n",
    "P = np.diag([pos_var, vel_var, pos_var, vel_var])\n",
    "\n",
    "print(w)\n",
    "print(m)\n",
    "print(P)\n",
    "\n",
    "\"\"\"\n",
    "(ID, location)\n",
    "\"\"\""
   ]
  },
  {
   "cell_type": "code",
   "execution_count": 37,
   "metadata": {},
   "outputs": [
    {
     "ename": "ModuleNotFoundError",
     "evalue": "No module named 'mtt_phd'",
     "output_type": "error",
     "traceback": [
      "\u001b[0;31m---------------------------------------------------------------------------\u001b[0m",
      "\u001b[0;31mModuleNotFoundError\u001b[0m                       Traceback (most recent call last)",
      "\u001b[0;32m/var/folders/y7/gymczy2n3zb0vt9bg69jy5qh0000gn/T/ipykernel_37199/1423991628.py\u001b[0m in \u001b[0;36m<module>\u001b[0;34m\u001b[0m\n\u001b[0;32m----> 1\u001b[0;31m \u001b[0;32mimport\u001b[0m \u001b[0mmtt_phd\u001b[0m\u001b[0;34m\u001b[0m\u001b[0;34m\u001b[0m\u001b[0m\n\u001b[0m\u001b[1;32m      2\u001b[0m \u001b[0;34m\u001b[0m\u001b[0m\n\u001b[1;32m      3\u001b[0m \u001b[0;34m\u001b[0m\u001b[0m\n",
      "\u001b[0;31mModuleNotFoundError\u001b[0m: No module named 'mtt_phd'"
     ]
    }
   ],
   "source": [
    "from mtt_phd import mtt_phd\n",
    "\n",
    "\n"
   ]
  },
  {
   "cell_type": "code",
   "execution_count": 29,
   "metadata": {},
   "outputs": [
    {
     "name": "stdout",
     "output_type": "stream",
     "text": [
      "[-44.35028365   0.          -7.41992411   0.        ]\n"
     ]
    }
   ],
   "source": [
    "print(m[2])"
   ]
  },
  {
   "cell_type": "code",
   "execution_count": 25,
   "metadata": {},
   "outputs": [
    {
     "name": "stdout",
     "output_type": "stream",
     "text": [
      "0.1\n"
     ]
    }
   ],
   "source": [
    "print(w[0])"
   ]
  },
  {
   "cell_type": "code",
   "execution_count": null,
   "metadata": {},
   "outputs": [],
   "source": [
    "print()"
   ]
  }
 ],
 "metadata": {
  "kernelspec": {
   "display_name": "Python 3",
   "language": "python",
   "name": "python3"
  },
  "language_info": {
   "codemirror_mode": {
    "name": "ipython",
    "version": 3
   },
   "file_extension": ".py",
   "mimetype": "text/x-python",
   "name": "python",
   "nbconvert_exporter": "python",
   "pygments_lexer": "ipython3",
   "version": "3.9.13"
  }
 },
 "nbformat": 4,
 "nbformat_minor": 2
}
