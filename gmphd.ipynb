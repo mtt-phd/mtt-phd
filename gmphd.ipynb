{
 "cells": [
  {
   "cell_type": "code",
   "execution_count": 1,
   "metadata": {},
   "outputs": [],
   "source": [
    "import numpy as np\n",
    "import scipy.stats as sc\n",
    "from matplotlib import colormaps\n",
    "import matplotlib.pyplot as plt\n",
    "import matplotlib.cm as cm\n",
    "from time import time"
   ]
  },
  {
   "cell_type": "code",
   "execution_count": 2,
   "metadata": {},
   "outputs": [
    {
     "data": {
      "text/plain": [
       "array([[[ -8.07218076,  -4.49125581,  -0.91033086,   2.67059409,\n",
       "           6.25151904,   9.83244399,  13.41336894,  16.99429389,\n",
       "          20.57521884,  24.15614379],\n",
       "        [ -0.8844742 ,  -2.77044353,  -4.65641285,  -6.54238217,\n",
       "          -8.4283515 , -10.31432082, -12.20029014, -14.08625947,\n",
       "         -15.97222879, -17.85819811],\n",
       "        [ -3.88086752,  -2.92152956,  -1.96219159,  -1.00285363,\n",
       "          -0.04351567,   0.91582229,   1.87516025,   2.83449821,\n",
       "           3.79383618,   4.75317414]],\n",
       "\n",
       "       [[ -6.46454434,  -3.36883308,  -0.27312181,   2.82258945,\n",
       "           5.91830072,   9.01401198,  12.10972325,  15.20543452,\n",
       "          18.30114578,  21.39685705],\n",
       "        [  5.1703906 ,   6.05898913,   6.94758765,   7.83618618,\n",
       "           8.72478471,   9.61338324,  10.50198177,  11.3905803 ,\n",
       "          12.27917883,  13.16777736],\n",
       "        [ -1.3581392 ,  -0.35850924,   0.64112072,   1.64075068,\n",
       "           2.64038064,   3.6400106 ,   4.63964056,   5.63927052,\n",
       "           6.63890048,   7.63853044]],\n",
       "\n",
       "       [[  1.68195938,   2.49405235,   3.30614531,   4.11823828,\n",
       "           4.93033125,   5.74242422,   6.55451719,   7.36661016,\n",
       "           8.17870312,   8.99079609],\n",
       "        [ -8.31111358,  -7.9489405 ,  -7.58676742,  -7.22459434,\n",
       "          -6.86242126,  -6.50024818,  -6.13807511,  -5.77590203,\n",
       "          -5.41372895,  -5.05155587],\n",
       "        [ -9.16771652,  -8.18914256,  -7.21056859,  -6.23199463,\n",
       "          -5.25342067,  -4.2748467 ,  -3.29627274,  -2.31769877,\n",
       "          -1.33912481,  -0.36055085]]])"
      ]
     },
     "execution_count": 2,
     "metadata": {},
     "output_type": "execute_result"
    }
   ],
   "source": [
    "# ground truth data\n",
    "ground_truths = np.load('mt_trajectories.npy')\n",
    "ground_truths"
   ]
  },
  {
   "cell_type": "markdown",
   "metadata": {},
   "source": [
    "## Background"
   ]
  },
  {
   "cell_type": "markdown",
   "metadata": {},
   "source": [
    "### Motion model"
   ]
  },
  {
   "cell_type": "code",
   "execution_count": 3,
   "metadata": {},
   "outputs": [],
   "source": [
    "# # utility functions\n",
    "# this is the version for [x, dx, y, dy]\n",
    "# def create_state_matrix(dt:float= 1.0, dim:int = 2):\n",
    "#     mat = []\n",
    "#     for i in range(dim):\n",
    "#         row = []\n",
    "#         for j in range(dim):\n",
    "#             if i == j:\n",
    "#                 row.append(np.array([[1, dt], [0, 1]]))\n",
    "#             else:\n",
    "#                 row.append(np.zeros((2, 2)))\n",
    "#         mat.append(row)\n",
    "#     return np.block(mat)\n",
    "\n",
    "def create_state_matrix(dt:float = 1.0, dim:int = 2)->np.ndarray:\n",
    "    \"\"\"Creates a state transition matrix for an n-dimensional constant velocity model.\n",
    "\n",
    "    The matrix is composed of four (dim x dim) blocks:\n",
    "\n",
    "        [ I   I*dt ]\n",
    "        [ 0     I  ]\n",
    "\n",
    "    where:\n",
    "        - I is the identity matrix\n",
    "        - 0 is the zero matrix\n",
    "        - dt is the timestep length\n",
    "\n",
    "    Args:\n",
    "        dt (float, optional): Length of a single timestep. Defaults to 1.0.\n",
    "        dim (int, optional): Number of spatial dimensions. Set to 2 for 2D (x, y) motion, 3 for 3D (x, y, z) motion, etc. Defaults to 2.\n",
    "\n",
    "    Returns:\n",
    "        np.ndarray: The state transition matrix.\n",
    "    \"\"\"\n",
    "    return np.vstack((\n",
    "        np.hstack((np.identity(dim), np.identity(dim) * dt)),\n",
    "        np.hstack((np.zeros((dim, dim)), np.identity(dim)))\n",
    "    ))\n",
    "\n",
    "\n",
    "def create_measurement_matrix(dim:int = 2)->np.ndarray:\n",
    "    \"\"\"Creates a measurement matrix for an n-dimensional constant velocity model.\n",
    "\n",
    "    The matrix H maps the full state to position measurements only:\n",
    "\n",
    "        [ I  0 ]\n",
    "\n",
    "    where:\n",
    "        - I is the identity matrix (measures position)\n",
    "        - 0 is the zero matrix (ignores velocity)\n",
    "\n",
    "    Args:\n",
    "        dim (int, optional): Number of spatial dimensions. Set to 2 for 2D (x, y) motion, 3 for 3D (x, y, z) motion, etc. Defaults to 2.\n",
    "\n",
    "    Returns:\n",
    "        np.ndarray: The measurement matrix.\n",
    "    \"\"\"\n",
    "    return np.hstack((np.identity(dim), np.zeros((dim, dim))))"
   ]
  },
  {
   "cell_type": "markdown",
   "metadata": {},
   "source": [
    "The motion model describes how objects of a system move. Define the motion model as $$x_{k+1} = F \\times x_{k} + w_{k}$$ where\n",
    "\\begin{gather*}\n",
    "    \\text{$x_{k+1}$: next state} \\\\\n",
    "    \\text{$F$: state transition matrix} \\\\\n",
    "    \\text{$x_{k}$: current state} \\\\\n",
    "    \\text{$w_{k}$: process noise.} \\\\\n",
    "\\end{gather*}\n",
    "\n",
    "Assume motion is constant velocity in 2 dimensions, where state is represented by $[x, y, v_{x}, v_{y}]$ (i.e., x-pos, y-pos, x-vel, y-vel). Then, $F$ is defined by\n",
    "$$ F = \\begin{bmatrix}\n",
    "    1 & 0 & dt & 0 \\\\\n",
    "    0 & 1 & 0 & dt \\\\\n",
    "    0 & 0 & 1 & 0 \\\\\n",
    "    0 & 0 & 0 & 1 \\\\\n",
    "\\end{bmatrix}.$$"
   ]
  },
  {
   "cell_type": "code",
   "execution_count": 4,
   "metadata": {},
   "outputs": [
    {
     "data": {
      "text/plain": [
       "array([[1., 0., 1., 0.],\n",
       "       [0., 1., 0., 1.],\n",
       "       [0., 0., 1., 0.],\n",
       "       [0., 0., 0., 1.]])"
      ]
     },
     "execution_count": 4,
     "metadata": {},
     "output_type": "execute_result"
    }
   ],
   "source": [
    "# dimensions\n",
    "dim = 2\n",
    "# timestep (1s)\n",
    "dt = 1.0\n",
    "# state transition matrix\n",
    "F = create_state_matrix(dt, dim)\n",
    "F"
   ]
  },
  {
   "cell_type": "markdown",
   "metadata": {},
   "source": [
    "Assume $w_{k}$ has 0 mean and 0.25 variance. Sampled from a multivariate Gaussian, its covariance $Q$ is defined by\n",
    "$$ Q = \\begin{bmatrix}\n",
    "    0.25 & 0 & 0 & 0 \\\\\n",
    "    0 & 0.25 & 0 & 0 \\\\\n",
    "    0 & 0 & 0.25 & 0 \\\\\n",
    "    0 & 0 & 0 & 0.25 \\\\\n",
    "\\end{bmatrix}.$$"
   ]
  },
  {
   "cell_type": "code",
   "execution_count": 5,
   "metadata": {},
   "outputs": [
    {
     "data": {
      "text/plain": [
       "array([[0.25, 0.  , 0.  , 0.  ],\n",
       "       [0.  , 0.25, 0.  , 0.  ],\n",
       "       [0.  , 0.  , 0.25, 0.  ],\n",
       "       [0.  , 0.  , 0.  , 0.25]])"
      ]
     },
     "execution_count": 5,
     "metadata": {},
     "output_type": "execute_result"
    }
   ],
   "source": [
    "# process noise covariance\n",
    "Q = np.identity(F.shape[0]) * 0.25\n",
    "Q"
   ]
  },
  {
   "cell_type": "code",
   "execution_count": 6,
   "metadata": {},
   "outputs": [],
   "source": [
    "def simulate_motion_basic(num_steps:int=10, init_truths:int=3)->dict[int, list[np.ndarray]]:\n",
    "    \"\"\"Simulates simple motion of multiple objects in an n-dimensional space.\n",
    "\n",
    "    Args:\n",
    "        num_steps (int, optional): Number of timesteps to simulate. Defaults to 10.\n",
    "        init_truths (int, optional): Number of initial objects. Defaults to 3.\n",
    "\n",
    "    Returns:  \n",
    "        dict[int, list[np.ndarray]]: Dictionary containing the states of each object at each timestep. Each key is the object index (0, 1, 2, ...). Each value is a list of state vectors with shape (4,) representing (x, y, dx, dy). \n",
    "    \"\"\"\n",
    "    all_states = {}\n",
    "    # initial truths\n",
    "    for i in range(init_truths):\n",
    "        state = np.array([\n",
    "            # initial position (x, y) ~ U(-30, 30) x U(-30, 30)\n",
    "            *np.random.uniform(-30, 30, 2),\n",
    "            # initial velocity (dx, dy) ~ U(-2, 2) x U(-2, 2)\n",
    "            *np.random.uniform(-2, 2, 2),\n",
    "        ])\n",
    "\n",
    "        all_states[i] = [state.copy()]\n",
    "\n",
    "    for step in range(1, num_steps + 1):\n",
    "        \n",
    "        # propagate state for each object\n",
    "        for i in all_states.keys():\n",
    "            # get previous state\n",
    "            state = all_states[i][-1]\n",
    "\n",
    "            # propagate state with noise\n",
    "            new_state = F @ state + np.random.multivariate_normal(np.zeros(Q[0].size), Q)\n",
    "            \n",
    "            all_states[i].append(new_state.copy())\n",
    "\n",
    "    return all_states\n"
   ]
  },
  {
   "cell_type": "code",
   "execution_count": 7,
   "metadata": {},
   "outputs": [
    {
     "data": {
      "image/png": "[encoded data removed]",
      "text/plain": [
       "<Figure size 640x480 with 1 Axes>"
      ]
     },
     "metadata": {},
     "output_type": "display_data"
    }
   ],
   "source": [
    "# generate ground truths (i.e., true motion)\n",
    "# assume 3 components\n",
    "%matplotlib inline\n",
    "num_components = 3\n",
    "ground_truths = simulate_motion_basic(num_steps=30, init_truths=num_components)\n",
    "for i, state in ground_truths.items():\n",
    "    pos = np.array([s[:2] for s in state])\n",
    "    plt.plot(*pos[:,:2].T, label=f'Component {i + 1}')\n",
    "    plt.legend()\n",
    "plt.show()"
   ]
  },
  {
   "cell_type": "markdown",
   "metadata": {},
   "source": [
    "Now, assume objects have a specific birth and death probability. Birth refers to the spontaneous introduction of an object into a scene, whereas death refers to the spontaneous removal of an object from a scene."
   ]
  },
  {
   "cell_type": "code",
   "execution_count": 8,
   "metadata": {},
   "outputs": [],
   "source": [
    "def simulate_motion(F:np.ndarray, Q:np.ndarray, num_steps:int = 10, init_truths:int = 3, birth_prob:float = 0.2, death_prob:float = 0.05)->dict[int, list[np.ndarray]]:\n",
    "    \"\"\"Simulates the motion of multiple objects in an n-dimensional space with birth and death probabilities. A generalized form of the previous method to include birth and death probabilities.   \n",
    "\n",
    "    Args:\n",
    "        F (np.ndarray): State transition matrix. Must match the dimensions of the state vector.\n",
    "        Q (np.ndarray): Process noise covariance matrix. Must match the dimensions of the state vector.\n",
    "        num_steps (int, optional): Number of timesteps to simulate. Defaults to 10.\n",
    "        init_truths (int, optional): Number of initial objects. Defaults to 3.\n",
    "        birth_prob (float, optional): Probability that a new object is born. Defaults to 0.2.\n",
    "        death_prob (float, optional): Probability that an existing object dies. Defaults to 0.05.\n",
    "\n",
    "    Returns:  \n",
    "        dict[int, list[np.ndarray]]: Dictionary containing the states of each object at each timestep. Each key is the object index (0, 1, 2, ...). Each value is a list of state vectors with shape (4,) representing (x, y, dx, dy). \n",
    "    \"\"\"\n",
    "    \n",
    "    all_states = {}\n",
    "    # initial truths\n",
    "    for i in range(init_truths):\n",
    "        state = np.array([\n",
    "            # initial position (x, y) ~ U(-30, 30) x U(-30, 30)\n",
    "            *np.random.uniform(-30, 30, 2),\n",
    "            # initial velocity (dx, dy) ~ U(-2, 2) x U(-2, 2)\n",
    "            *np.random.uniform(-2, 2, 2),\n",
    "        ])\n",
    "\n",
    "        # initial state at t=0\n",
    "        all_states[i] = [state.copy()]\n",
    "\n",
    "    # next id for new objects that are born\n",
    "    next_id = init_truths\n",
    "\n",
    "    for step in range(1, num_steps + 1):\n",
    "        \n",
    "        for i in all_states.keys():\n",
    "            # get i's previous (t-1) state\n",
    "            state = all_states[i][-1]\n",
    "\n",
    "            # if dead, stay dead\n",
    "            if state is None:\n",
    "                # None is used to indicate that the object is dead at this timestep\n",
    "                all_states[i].append(None)\n",
    "                continue\n",
    "\n",
    "            # death\n",
    "            if np.random.rand() <= death_prob:\n",
    "                # None is used to indicate that the object is dead at this timestep\n",
    "                all_states[i].append(None)\n",
    "                continue\n",
    "\n",
    "            # propagate state (with noise) for each object\n",
    "            new_state = F @ state + np.random.multivariate_normal(np.zeros(Q[0].size), Q)\n",
    "\n",
    "            all_states[i].append(new_state.copy())\n",
    "\n",
    "        # birth\n",
    "        if np.random.rand() <= birth_prob:\n",
    "            state = np.array([\n",
    "                *np.random.uniform(-30, 30, 2),\n",
    "                *np.random.uniform(-2, 2, 2),\n",
    "            ])\n",
    "            # since we are adding a new object, we need to set its state to None for all previous timesteps\n",
    "            all_states[next_id] = [None] * step + [state.copy()]\n",
    "\n",
    "            # increment id for the next new object\n",
    "            next_id += 1\n",
    "\n",
    "    return all_states"
   ]
  },
  {
   "cell_type": "code",
   "execution_count": 9,
   "metadata": {},
   "outputs": [
    {
     "data": {
      "text/plain": [
       "<matplotlib.legend.Legend at 0x125a845c0>"
      ]
     },
     "execution_count": 9,
     "metadata": {},
     "output_type": "execute_result"
    },
    {
     "data": {
      "image/png": "[encoded data removed]",
      "text/plain": [
       "<Figure size 640x480 with 1 Axes>"
      ]
     },
     "metadata": {},
     "output_type": "display_data"
    }
   ],
   "source": [
    "birth_death_truths = simulate_motion(F, Q, num_steps=30, birth_prob=0.05, death_prob=0.005)\n",
    "for i, state in birth_death_truths.items():\n",
    "    pos = np.array([s[:2] if s is not None else [np.nan, np.nan] for s in state])\n",
    "    plt.plot(*pos[:,:2].T, label=f'Component {i + 1}')\n",
    "plt.legend()"
   ]
  },
  {
   "cell_type": "markdown",
   "metadata": {},
   "source": [
    "### Measurement model"
   ]
  },
  {
   "cell_type": "markdown",
   "metadata": {},
   "source": [
    "The measurement model describes what the sensor sees. Define the measurement model as $$ z_{k} = Hx_{k} + v_{k}$$ where\n",
    "\\begin{gather*}\n",
    "    \\text{$z_{k}$: observed measurement} \\\\\n",
    "    \\text{$H$: measurement matrix} \\\\\n",
    "    \\text{$v_{k}$: measurement noise.} \\\\\n",
    "\\end{gather*}\n",
    "\n",
    "Assume a sensor only measures position. Then, $H$ is defined by\n",
    "$$ H = \\begin{bmatrix}\n",
    "    1 & 0 & 0 & 0 \\\\\n",
    "    0 & 1 & 0 & 0 \\\\\n",
    "\\end{bmatrix}.$$\n"
   ]
  },
  {
   "cell_type": "code",
   "execution_count": 10,
   "metadata": {},
   "outputs": [
    {
     "data": {
      "text/plain": [
       "array([[1., 0., 0., 0.],\n",
       "       [0., 1., 0., 0.]])"
      ]
     },
     "execution_count": 10,
     "metadata": {},
     "output_type": "execute_result"
    }
   ],
   "source": [
    "# measurement matrix\n",
    "H = create_measurement_matrix(dim)\n",
    "H"
   ]
  },
  {
   "cell_type": "markdown",
   "metadata": {},
   "source": [
    "Assume $v_{k}$ has 0 mean and 0.75 variance. Its covariance R is defined by\n",
    "$$ R = \\begin{bmatrix}\n",
    "    0.75 & 0 \\\\\n",
    "    0 & 0.75 \\\\\n",
    "\\end{bmatrix}.$$"
   ]
  },
  {
   "cell_type": "code",
   "execution_count": 11,
   "metadata": {},
   "outputs": [
    {
     "data": {
      "text/plain": [
       "array([[0.75, 0.  ],\n",
       "       [0.  , 0.75]])"
      ]
     },
     "execution_count": 11,
     "metadata": {},
     "output_type": "execute_result"
    }
   ],
   "source": [
    "# measurement noise covariance\n",
    "R = np.identity(H.shape[0]) * 0.75\n",
    "R"
   ]
  },
  {
   "cell_type": "markdown",
   "metadata": {},
   "source": [
    "Assume the sensors have a certain detection rate. Sensors frequently detect objects that are not targets of interest. These objects are referred to as clutter, which have to be filtered out from predictions."
   ]
  },
  {
   "cell_type": "code",
   "execution_count": 12,
   "metadata": {},
   "outputs": [],
   "source": [
    "def simulate_measurement(ground_truths:dict[int, list[np.ndarray]], H:np.ndarray, R:np.ndarray, num_steps:int=10, det_prob:float=0.9, clutter_rate:float=3.0)->dict[int, list[tuple[int, np.ndarray]]]:\n",
    "    \"\"\"Simulates the measurement process for multiple objects in an n-dimensional space.\n",
    "\n",
    "    Args:\n",
    "        ground_truths (dict[int, list[np.ndarray]]): \n",
    "            Dictionary containing the states of each object at each timestep. Each key is the object index (0, 1, 2, ...). Each value is a list of state vectors with shape (4,) representing (x, y, dx, dy).\n",
    "            \n",
    "        H (np.ndarray): \n",
    "            Measurement matrix. Must match the dimensions of the state vector.\n",
    "\n",
    "        R (np.ndarray): \n",
    "            Measurement noise covariance matrix. Must match the dimensions of the measurement vector. \n",
    "\n",
    "        num_steps (int, optional): \n",
    "            Number of timesteps to simulate. Defaults to 10.\n",
    "\n",
    "        det_prob (float, optional): \n",
    "            Probability of correctly detecting an object at each timestep. Defaults to 0.9.\n",
    "\n",
    "        clutter_rate (float, optional): \n",
    "            Rate at which clutter (false measurements) appears in the measurement process, modeled by a Poisson distribution. Defaults to 3.0.\n",
    "\n",
    "    Returns:\n",
    "        dict[int, list[tuple[int, np.ndarray]]]: \n",
    "            Dictionary containing the measurements at each timestep, where:\n",
    "                - Each key is the timestep index (0, 1, 2, ...). \n",
    "                - Each value is a list of tuples, where each tuple contains\n",
    "                    - the object index (or None for clutter) \n",
    "                    - the corresponding measurement vector.\n",
    "    \"\"\"\n",
    "    \n",
    "    # all measurements\n",
    "    all_measurements = {}\n",
    "\n",
    "    for step in range(num_steps):\n",
    "        measurements = []\n",
    "\n",
    "        # real measurement\n",
    "        for i, states in ground_truths.items():\n",
    "            # if step exceeds the number of true states, continue\n",
    "            if step >= len(states):\n",
    "                continue\n",
    "\n",
    "            # get the state at the current timestep\n",
    "            state = states[step]\n",
    "\n",
    "            # if an item is dead at the current timestep, continue\n",
    "            if state is None:\n",
    "                continue\n",
    "            \n",
    "            # detect an object with detection probability\n",
    "            # if the object is detected, add the measurement\n",
    "            if np.random.rand() <= det_prob:\n",
    "                measurement = H @ state + np.random.multivariate_normal(np.zeros(R[0].size), R)\n",
    "                measurements.append((i, measurement.copy()))\n",
    "\n",
    "        # clutter\n",
    "        for _ in range(np.random.poisson(clutter_rate)):\n",
    "            # clutter (x, y) ~ U(-100, 100) x U(-100, 100)\n",
    "            clutter = np.array([\n",
    "                np.random.uniform(-100, 100), \n",
    "                np.random.uniform(-100, 100)\n",
    "            ])\n",
    "            measurements.append((None, clutter.copy()))\n",
    "        \n",
    "        # the measurements for this timestep consist of the real measurements (obj_id, pos) and clutter (None, pos)\n",
    "        all_measurements[step] = measurements\n",
    "\n",
    "    return all_measurements\n"
   ]
  },
  {
   "cell_type": "code",
   "execution_count": 16,
   "metadata": {},
   "outputs": [
    {
     "data": {
      "text/plain": [
       "<matplotlib.legend.Legend at 0x15f80e6f0>"
      ]
     },
     "execution_count": 16,
     "metadata": {},
     "output_type": "execute_result"
    },
    {
     "data": {
      "image/png": "[encoded data removed]",
      "text/plain": [
       "<Figure size 640x480 with 1 Axes>"
      ]
     },
     "metadata": {},
     "output_type": "display_data"
    }
   ],
   "source": [
    "# generate measurements\n",
    "all_measurements = simulate_measurement(birth_death_truths, H=H, R=R, num_steps=30)\n",
    "\n",
    "component_ids = sorted({i for measurements in all_measurements.values() for i, _ in measurements if i is not None})\n",
    "\n",
    "# matplotlib.colormaps\n",
    "cmap = colormaps['viridis']\n",
    "colors = [cmap(i / max(len(component_ids) - 1, 1)) for i in range(len(component_ids))]\n",
    "color_map = {comp: colors[idx] for idx, comp in enumerate(sorted(component_ids))}\n",
    "# color_map = {comp: colors(idx) for idx, comp in enumerate(sorted(component_ids))}\n",
    "\n",
    "\n",
    "for measurements in all_measurements.values():\n",
    "    for i, measurement in measurements:\n",
    "        if i is None:\n",
    "            plt.scatter(measurement[0], measurement[1], c='red', marker='x', label='Clutter')\n",
    "        else:\n",
    "            # color = color_map[i]\n",
    "            # plt.scatter(measurement[0], measurement[1], color=color, marker='o', label=f'Component {i + 1}')\n",
    "            plt.scatter(measurement[0], measurement[1], color='black', marker='o', label=f'Target')\n",
    "    \n",
    "for i, state in birth_death_truths.items():\n",
    "    pos = np.array([s[:2] if s is not None else [np.nan, np.nan] for s in state])\n",
    "    # print(pos)\n",
    "    plt.plot(*pos[:,:2].T, label=f'Ground truth {i + 1}', linestyle='dashed')\n",
    "\n",
    "# ignore duplicates\n",
    "handles, labels = plt.gca().get_legend_handles_labels()\n",
    "unique = dict(zip(labels, handles))\n",
    "order = np.argsort(list(unique.keys()))\n",
    "plt.legend([list(unique.values())[i] for i in order], [list(unique.keys())[i] for i in order])"
   ]
  },
  {
   "cell_type": "code",
   "execution_count": 17,
   "metadata": {},
   "outputs": [
    {
     "data": {
      "text/plain": [
       "{0: [array([-18.24672674, -28.53017666,   1.11446148,  -1.9409977 ]),\n",
       "  array([-17.20020937, -30.44412102,   0.36269268,  -1.10071675]),\n",
       "  array([-17.32839568, -31.03577885,   1.3579903 ,  -1.64011327]),\n",
       "  array([-15.91356003, -33.15022918,   0.66893778,  -1.66643111]),\n",
       "  array([-15.01392508, -34.42168575,   0.58762664,  -2.41734135]),\n",
       "  array([-14.20480876, -36.70364874,   0.50788206,  -1.61129307]),\n",
       "  array([-13.56202898, -38.0363364 ,   0.1929231 ,  -1.87892896]),\n",
       "  array([-12.82929506, -39.33715354,  -0.53461686,  -2.15047895]),\n",
       "  array([-13.35560235, -41.87979227,  -1.35456365,  -1.52100511]),\n",
       "  array([-14.32095884, -43.31521474,  -2.08202495,  -0.75288747]),\n",
       "  array([-16.87169214, -44.24524112,  -1.67647867,  -1.09659909]),\n",
       "  array([-18.8631173 , -46.19393261,  -1.31971309,  -1.29662266]),\n",
       "  array([-20.02386643, -48.09150773,  -1.06672172,  -1.98903552]),\n",
       "  array([-22.06147219, -49.86080698,  -0.84012235,  -1.10898504]),\n",
       "  array([-23.09062565, -50.51910233,  -1.05315301,  -1.44210584]),\n",
       "  array([-23.86810298, -50.99844812,  -0.56041104,  -1.40932707]),\n",
       "  array([-24.4292617 , -52.30845864,  -0.9563084 ,  -1.48832807]),\n",
       "  array([-25.41082791, -53.16611202,   0.34090352,  -1.93030228]),\n",
       "  array([-24.73183299, -55.27588166,   0.7484283 ,  -1.72256062]),\n",
       "  array([-24.58099862, -56.86150046,   1.43053419,  -1.13772263]),\n",
       "  array([-22.98490191, -57.90376026,   1.86778986,  -1.76638095]),\n",
       "  array([-20.33211034, -59.80211094,   1.44387512,  -2.1121373 ]),\n",
       "  array([-18.19250455, -61.79098348,   1.32015448,  -1.59322324]),\n",
       "  array([-17.90479014, -63.33766399,   1.21478117,  -1.71892256]),\n",
       "  array([-17.48243753, -65.72234002,   0.97099849,  -1.53513528]),\n",
       "  array([-15.74955768, -66.9736859 ,   1.37574019,  -1.71431673]),\n",
       "  array([-14.93362683, -68.81935385,   0.75445681,  -1.31661835]),\n",
       "  array([-14.41509871, -70.31268796,   0.30644779,  -0.93108136]),\n",
       "  array([-13.63259257, -72.32883318,   1.31464066,   0.1402217 ]),\n",
       "  None,\n",
       "  None],\n",
       " 1: [array([-23.23045761, -15.09805235,  -1.23986685,  -1.74189145]),\n",
       "  array([-24.39818446, -16.87121429,  -1.28990362,  -1.41238774]),\n",
       "  array([-25.3455942 , -18.12113606,  -0.75264554,  -1.28740709]),\n",
       "  array([-26.28525641, -19.33655715,  -1.1024083 ,  -0.95830665]),\n",
       "  array([-27.16473252, -20.52427412,  -1.39414997,  -0.49950894]),\n",
       "  array([-27.55856176, -21.36718021,  -1.70943167,  -1.51722153]),\n",
       "  array([-28.90455349, -22.9786118 ,  -1.90218196,  -1.88433863]),\n",
       "  array([-30.59467357, -24.45361416,  -1.18299171,  -1.30551148]),\n",
       "  array([-31.2879766 , -25.65459458,  -0.89327277,  -1.97556622]),\n",
       "  array([-31.95333492, -27.64244537,  -0.59716043,  -2.21950977]),\n",
       "  array([-32.21469582, -29.50255432,  -0.95428112,  -2.85570213]),\n",
       "  array([-33.30277759, -32.60755002,  -1.55843054,  -2.85206372]),\n",
       "  array([-34.11594034, -35.31234358,  -1.19396795,  -3.07124866]),\n",
       "  array([-35.09064542, -38.59129607,  -1.14715894,  -3.61251654]),\n",
       "  array([-36.72374915, -42.23154496,  -0.29075465,  -3.73334536]),\n",
       "  array([-3.68596612e+01, -4.60791343e+01, -4.24027398e-02, -3.38688880e+00]),\n",
       "  array([-36.70398743, -49.85589626,  -1.10936862,  -3.73315248]),\n",
       "  array([-37.51584859, -53.50229569,  -0.95326535,  -3.83183393]),\n",
       "  array([-38.76612622, -58.01296445,  -0.82474062,  -3.67557613]),\n",
       "  array([-39.51432222, -61.63823145,  -0.5799859 ,  -4.81510982]),\n",
       "  array([-40.57573674, -67.15402135,  -0.82851039,  -4.48687215]),\n",
       "  array([-41.59854847, -71.0040988 ,  -0.97451752,  -5.14209956]),\n",
       "  array([-42.77853976, -75.6676928 ,  -0.26236883,  -5.40295503]),\n",
       "  array([-4.30045970e+01, -8.18835337e+01, -2.48997102e-02, -5.46149145e+00]),\n",
       "  array([-43.07211492, -86.43601201,   1.23345829,  -6.169128  ]),\n",
       "  array([-41.27286786, -94.14522143,   1.31004259,  -6.08507749]),\n",
       "  array([ -39.99234036, -100.29081476,    0.95891062,   -5.29235601]),\n",
       "  array([ -38.07623185, -106.1423692 ,    0.69426109,   -4.96578941]),\n",
       "  array([ -36.73710964, -112.03476813,    0.72789478,   -4.23197555]),\n",
       "  array([ -35.32430116, -115.56107797,    0.89492082,   -3.4016361 ]),\n",
       "  array([ -34.40431535, -118.97604423,    1.87964475,   -3.52340775])],\n",
       " 2: [array([ -0.31680727, -17.92565898,  -0.2896466 ,  -0.27001927]),\n",
       "  array([  0.04918928, -18.76311241,  -0.64388231,  -0.10753847]),\n",
       "  array([ -0.62859339, -18.67373585,  -1.05210624,   0.27409914]),\n",
       "  array([ -2.3225428 , -17.97968282,  -0.99356384,   0.25175154]),\n",
       "  array([ -3.76662787, -17.43835137,  -0.60655474,  -0.79706602]),\n",
       "  array([ -4.34909515, -18.3929216 ,  -0.44496037,   0.05411885]),\n",
       "  array([ -4.70700685, -19.13155301,   0.27206513,   0.73645872]),\n",
       "  array([ -4.35438264, -17.76640889,  -0.14224675,   0.75336108]),\n",
       "  array([ -4.1546904 , -16.77268526,  -0.25358615,  -0.1722428 ]),\n",
       "  array([ -4.56742687, -16.92792059,   0.33450053,  -0.1084854 ]),\n",
       "  array([ -4.65034384, -17.15730688,   0.21078893,   0.92037216]),\n",
       "  array([ -3.90965184, -14.18390152,   0.04277537,   1.0992275 ]),\n",
       "  array([ -3.22344219, -11.97755132,   0.06654434,   1.02707429]),\n",
       "  array([ -2.61169803, -11.03429328,  -0.35229689,   0.77306439]),\n",
       "  array([-2.88365479, -9.81651187,  0.06461721,  0.06429871]),\n",
       "  array([ -2.22824786, -10.03345198,   0.79124535,  -0.82767058]),\n",
       "  array([ -2.20443149, -10.78997005,   0.08069833,  -0.53637455]),\n",
       "  array([ -2.18221927, -11.41571769,   0.14233234,  -0.28389983]),\n",
       "  array([ -1.81407206, -12.21230407,   0.38612052,   0.56722842]),\n",
       "  array([ -1.92128302, -11.44716819,   0.67291873,  -0.07060781]),\n",
       "  array([ -0.389072  , -11.84469484,   0.48652301,  -0.32822829]),\n",
       "  array([  0.78951601, -12.15507231,  -0.2763929 ,  -0.39509183]),\n",
       "  array([ -0.51095816, -13.35536055,  -0.49048499,  -0.18843085]),\n",
       "  array([ -0.56948648, -13.21253364,  -0.35032808,  -0.58412398]),\n",
       "  array([ -0.8787406 , -14.17380486,  -0.61906882,  -0.862057  ]),\n",
       "  array([ -1.60027136, -15.35686021,  -0.80527154,  -0.73848143]),\n",
       "  array([ -1.48544439, -16.08916665,  -0.54728247,  -0.33598967]),\n",
       "  array([ -2.57255587, -15.35318185,  -0.31997011,  -0.29727793]),\n",
       "  array([ -3.58337121, -16.01218848,  -0.02692995,  -0.51519984]),\n",
       "  array([ -3.28044032, -16.73354191,  -0.24419656,  -0.15435085]),\n",
       "  array([ -4.10749864, -16.60725254,  -0.39364112,  -0.43731641])],\n",
       " 3: [None,\n",
       "  None,\n",
       "  None,\n",
       "  None,\n",
       "  array([23.68913556, 12.94869035,  1.91709929,  0.04412717]),\n",
       "  array([25.18291528, 13.52649822,  1.29995265,  0.07903639]),\n",
       "  array([26.68217859, 13.72293831,  1.86238576,  0.53236636]),\n",
       "  array([29.09527045, 14.47585651,  2.52051974,  1.12603455]),\n",
       "  array([31.57080958, 15.48862737,  2.13481701,  0.35301542]),\n",
       "  array([33.03626578, 14.8274211 ,  2.33718195,  0.50785894]),\n",
       "  array([35.39586399, 15.3358919 ,  2.38287992, -0.19129033]),\n",
       "  array([37.2661005 , 14.82073303,  2.78002335,  0.61481582]),\n",
       "  array([40.40429489, 15.52909092,  2.87972495,  0.56888362]),\n",
       "  array([ 4.24578709e+01,  1.56128455e+01,  2.08807074e+00, -4.13703774e-02]),\n",
       "  array([44.54868   , 15.4335974 ,  2.18292829, -0.79540402]),\n",
       "  array([46.39097898, 15.15057394,  2.72023587, -0.59784109]),\n",
       "  array([49.25688564, 14.07548937,  2.30938643, -1.01598898]),\n",
       "  array([52.12764282, 12.63119777,  2.99520215, -1.39689279]),\n",
       "  array([54.86537809, 11.14585934,  3.2745329 , -2.2433915 ]),\n",
       "  array([57.84465048,  8.80474927,  3.06894325, -2.19059503]),\n",
       "  array([60.87771237,  6.22599409,  3.19212472, -2.64316561]),\n",
       "  array([64.05217293,  3.48892274,  3.01158804, -2.62640845]),\n",
       "  array([67.8478532 ,  1.84812213,  2.66064857, -2.42386237]),\n",
       "  array([70.62893885,  0.35994772,  2.54428383, -2.49524036]),\n",
       "  array([73.81440019, -1.06844534,  2.37815179, -2.85658828]),\n",
       "  array([77.36354104, -3.34063941,  2.31105082, -3.44303747]),\n",
       "  array([79.51692   , -7.76146261,  1.9304004 , -3.70663209]),\n",
       "  array([ 80.97308777, -11.52724986,   2.53553593,  -4.50791385]),\n",
       "  array([ 83.04268796, -16.83162232,   2.5312029 ,  -4.90643283]),\n",
       "  array([ 86.44611673, -22.05277256,   2.27816897,  -4.61463717]),\n",
       "  array([ 89.13102042, -26.31466575,   3.12760595,  -4.07800821])]}"
      ]
     },
     "execution_count": 17,
     "metadata": {},
     "output_type": "execute_result"
    }
   ],
   "source": [
    "# true states\n",
    "birth_death_truths"
   ]
  },
  {
   "cell_type": "code",
   "execution_count": 18,
   "metadata": {},
   "outputs": [
    {
     "data": {
      "text/plain": [
       "{0: [(0, array([-18.77870237, -27.83671237])),\n",
       "  (2, array([ -0.24293157, -19.18665745])),\n",
       "  (None, array([-94.26624659,   0.72215664]))],\n",
       " 1: [(0, array([-16.48278542, -32.09110007])),\n",
       "  (1, array([-25.23154467, -16.44898768])),\n",
       "  (2, array([ -0.32095311, -19.63548129])),\n",
       "  (None, array([ 46.04455377, -51.54358858])),\n",
       "  (None, array([-86.89785765, -13.10000552]))],\n",
       " 2: [(1, array([-23.69142375, -18.64145581])),\n",
       "  (2, array([ -1.69548732, -18.79735952])),\n",
       "  (None, array([69.64453588, 18.79984933]))],\n",
       " 3: [(0, array([-15.16517033, -35.09959483])),\n",
       "  (2, array([ -2.71174974, -18.14471239])),\n",
       "  (None, array([ 9.56688051, 58.2882796 ])),\n",
       "  (None, array([77.12430668, 39.10643762])),\n",
       "  (None, array([ 57.43705921, -71.92289502]))],\n",
       " 4: [(0, array([-15.55783908, -35.07211806])),\n",
       "  (1, array([-28.85476478, -20.45705653])),\n",
       "  (2, array([ -3.25498858, -17.28610656])),\n",
       "  (3, array([22.24391609, 13.4518564 ])),\n",
       "  (None, array([-27.79719794,  94.16344775])),\n",
       "  (None, array([ 7.50123442, 38.35575182]))],\n",
       " 5: [(0, array([-13.71936388, -35.76324746])),\n",
       "  (1, array([-26.29281673, -22.94654071])),\n",
       "  (2, array([ -4.95271901, -16.80196285])),\n",
       "  (3, array([25.50516216, 12.84183656])),\n",
       "  (None, array([ -5.75134246, -20.57408227]))],\n",
       " 6: [(0, array([-12.12167185, -37.63561925])),\n",
       "  (1, array([-28.04422114, -22.53120754])),\n",
       "  (2, array([ -6.51512756, -18.62396209])),\n",
       "  (3, array([25.20751848, 15.18438163])),\n",
       "  (None, array([  2.11703438, -87.66445741])),\n",
       "  (None, array([ 60.26461747, -12.87198831])),\n",
       "  (None, array([-45.38923139, -84.55706559]))],\n",
       " 7: [(0, array([-14.53665415, -39.51252226])),\n",
       "  (1, array([-31.93431725, -25.10488727])),\n",
       "  (2, array([ -5.08811958, -16.60431859])),\n",
       "  (3, array([29.76295443, 15.20561329])),\n",
       "  (None, array([-48.14162308, -19.5377166 ])),\n",
       "  (None, array([ 24.21500412, -19.80229599])),\n",
       "  (None, array([-38.00904322,  90.38952827])),\n",
       "  (None, array([ 31.0763534 , -69.96207552]))],\n",
       " 8: [(1, array([-30.26894347, -25.85648737])),\n",
       "  (2, array([ -5.03213066, -16.36756145])),\n",
       "  (3, array([31.1611654 , 15.63271861])),\n",
       "  (None, array([91.23566379,  6.88399835])),\n",
       "  (None, array([ 93.24019063, -42.55257011])),\n",
       "  (None, array([64.65609496,  2.93656987])),\n",
       "  (None, array([ 36.36143512, -89.39385658]))],\n",
       " 9: [(0, array([-13.69166265, -43.68251334])),\n",
       "  (1, array([-30.89430182, -26.95120402])),\n",
       "  (3, array([33.8245356 , 14.17297646])),\n",
       "  (None, array([96.46046668, 77.45588857])),\n",
       "  (None, array([-59.53947903, -80.99534251])),\n",
       "  (None, array([-4.825376  , 75.89312811]))],\n",
       " 10: [(0, array([-15.38127318, -45.24127923])),\n",
       "  (1, array([-31.39861822, -29.54640052])),\n",
       "  (2, array([ -3.44042084, -16.58435931])),\n",
       "  (3, array([35.04631299, 16.18132397]))],\n",
       " 11: [(0, array([-19.54623788, -46.76067142])),\n",
       "  (1, array([-34.11904797, -31.47499027])),\n",
       "  (2, array([ -3.52708716, -13.83089261])),\n",
       "  (3, array([37.18925099, 13.17292012])),\n",
       "  (None, array([ 0.77577672, 77.8921351 ])),\n",
       "  (None, array([ 56.49465484, -93.20857543])),\n",
       "  (None, array([ 89.89054086, -22.52183165])),\n",
       "  (None, array([-46.50807638, -32.3716931 ]))],\n",
       " 12: [(0, array([-19.9019294 , -49.07699768])),\n",
       "  (1, array([-34.49319304, -35.06501917])),\n",
       "  (2, array([ -3.73104219, -13.47364884])),\n",
       "  (None, array([-99.98347996,  65.48133173])),\n",
       "  (None, array([-53.03250369, -39.87172012])),\n",
       "  (None, array([-19.23582671, -45.27217414]))],\n",
       " 13: [(0, array([-24.93608148, -50.61013092])),\n",
       "  (1, array([-34.16465088, -37.95737059])),\n",
       "  (2, array([ -3.50277342, -11.4230619 ])),\n",
       "  (3, array([43.76998497, 14.32957558])),\n",
       "  (None, array([-68.82762952, -99.66637837])),\n",
       "  (None, array([98.97339977, -0.8800095 ])),\n",
       "  (None, array([-58.37124776, -95.8730155 ])),\n",
       "  (None, array([-4.51929349, 98.05295926])),\n",
       "  (None, array([-15.86210412,  16.98101785]))],\n",
       " 14: [(0, array([-23.4449749 , -50.18358403])),\n",
       "  (1, array([-36.56172471, -42.47395379])),\n",
       "  (2, array([ -3.45738934, -10.53359553])),\n",
       "  (3, array([44.71605678, 15.34455844])),\n",
       "  (None, array([-44.71073529, -44.55958317])),\n",
       "  (None, array([73.23222993, 92.92620265])),\n",
       "  (None, array([43.74645315, 53.6632472 ])),\n",
       "  (None, array([-90.52747226, -20.62654408])),\n",
       "  (None, array([63.08719861, 16.35776428]))],\n",
       " 15: [(0, array([-25.38506544, -51.69035989])),\n",
       "  (1, array([-36.76572885, -45.417639  ])),\n",
       "  (2, array([-1.35398549, -9.41794714])),\n",
       "  (3, array([47.22572995, 14.79954954])),\n",
       "  (None, array([78.29633365, 89.19510202])),\n",
       "  (None, array([-36.66722566, -22.78823551])),\n",
       "  (None, array([-11.92256608,  33.19701343])),\n",
       "  (None, array([15.93568916, -3.30922486]))],\n",
       " 16: [(0, array([-24.23181024, -51.60390716])),\n",
       "  (1, array([-36.70038206, -50.44873771])),\n",
       "  (2, array([ -2.38898469, -10.87449769])),\n",
       "  (3, array([49.02304257, 15.10413374])),\n",
       "  (None, array([-89.91313163, -76.58560083])),\n",
       "  (None, array([ 63.50072657, -96.6457933 ])),\n",
       "  (None, array([ 70.12189189, -84.72190205])),\n",
       "  (None, array([-35.26299336, -64.81659696])),\n",
       "  (None, array([-78.31876542, -82.21392465]))],\n",
       " 17: [(0, array([-25.35075084, -53.04409118])),\n",
       "  (1, array([-38.40826041, -52.04296572])),\n",
       "  (2, array([ -1.6870517 , -11.73721471])),\n",
       "  (3, array([51.39634337, 12.91000784])),\n",
       "  (None, array([-7.07994855, 39.42466509])),\n",
       "  (None, array([ 89.36800748, -98.16150498]))],\n",
       " 18: [(0, array([-24.38475695, -55.52468877])),\n",
       "  (1, array([-39.86234615, -56.86538294])),\n",
       "  (2, array([ -1.77284983, -12.48443397])),\n",
       "  (3, array([55.3229754 , 12.26273619])),\n",
       "  (None, array([-51.74656584, -80.78085913])),\n",
       "  (None, array([-22.79990111, -29.48158732])),\n",
       "  (None, array([ 14.90006724, -45.30792007])),\n",
       "  (None, array([-82.79844053,  54.11679532])),\n",
       "  (None, array([ 8.46265932, 11.69166003])),\n",
       "  (None, array([-52.90989905, -50.26047579])),\n",
       "  (None, array([ 12.04716171, -78.62686559]))],\n",
       " 19: [(0, array([-22.33127562, -56.6824384 ])),\n",
       "  (1, array([-41.11665857, -60.36708712])),\n",
       "  (2, array([ -2.18531444, -11.52708924])),\n",
       "  (3, array([56.28728107,  9.14043888])),\n",
       "  (None, array([57.83190034, 85.94394103])),\n",
       "  (None, array([1.87778476, 0.93246006]))],\n",
       " 20: [(0, array([-23.93655691, -57.21444458])),\n",
       "  (1, array([-41.09703836, -65.88228958])),\n",
       "  (3, array([62.57247569,  5.95505471])),\n",
       "  (None, array([ 16.80429881, -94.15963565])),\n",
       "  (None, array([-47.271367  ,  26.56536174]))],\n",
       " 21: [(0, array([-19.79294882, -59.09154929])),\n",
       "  (1, array([-41.86913278, -70.28006551])),\n",
       "  (2, array([  1.50031754, -10.73869046])),\n",
       "  (3, array([65.01244166,  3.12781704]))],\n",
       " 22: [(0, array([-19.38690288, -60.57827865])),\n",
       "  (1, array([-43.81132742, -74.70767509])),\n",
       "  (2, array([ -0.0981967 , -14.64434132])),\n",
       "  (3, array([66.73560716,  2.948085  ])),\n",
       "  (None, array([-49.02891215, -58.45779932])),\n",
       "  (None, array([-71.97174097,  49.99806662]))],\n",
       " 23: [(1, array([-43.1777154 , -81.10727524])),\n",
       "  (2, array([  0.0753381 , -13.12544946])),\n",
       "  (3, array([70.45435144,  0.36241311])),\n",
       "  (None, array([-48.88288356,  52.75607815])),\n",
       "  (None, array([48.94019487, 95.82558673])),\n",
       "  (None, array([87.50523855, 78.32998325])),\n",
       "  (None, array([-48.71296586, -51.17932069]))],\n",
       " 24: [(0, array([-16.95639773, -64.55158097])),\n",
       "  (1, array([-43.53959351, -86.65928627])),\n",
       "  (2, array([ -0.22756991, -14.36507414])),\n",
       "  (3, array([74.34491664,  0.90849552])),\n",
       "  (None, array([-70.47228648,  -1.74230306])),\n",
       "  (None, array([ 6.6865428 , 36.06589005]))],\n",
       " 25: [(0, array([-15.79234263, -66.04335199])),\n",
       "  (1, array([-42.26619192, -94.30445561])),\n",
       "  (2, array([ -0.65984677, -14.202701  ])),\n",
       "  (3, array([76.2315437 , -3.01173372])),\n",
       "  (None, array([ 75.96012174, -91.32661512])),\n",
       "  (None, array([68.48826127, 35.19347011]))],\n",
       " 26: [(0, array([-15.33228463, -69.71371371])),\n",
       "  (1, array([ -39.5767246 , -101.01231264])),\n",
       "  (2, array([ -1.52764826, -17.38562424])),\n",
       "  (3, array([79.50347667, -7.97322301])),\n",
       "  (None, array([58.1905943 , 26.67475421])),\n",
       "  (None, array([-54.23056803, -31.206085  ]))],\n",
       " 27: [(0, array([-14.24441653, -70.57957554])),\n",
       "  (1, array([ -36.84708816, -105.77985571])),\n",
       "  (2, array([ -1.57746661, -14.33483041])),\n",
       "  (3, array([ 79.8166161 , -12.25878504])),\n",
       "  (None, array([55.93627815, 21.3746686 ])),\n",
       "  (None, array([-70.5955078,  67.8534946])),\n",
       "  (None, array([-76.93578348, -16.83576832])),\n",
       "  (None, array([98.20848917, 14.58869406])),\n",
       "  (None, array([54.15907482, 50.94088915]))],\n",
       " 28: [(0, array([-12.76896567, -71.43691126])),\n",
       "  (1, array([ -35.75838514, -111.96128306])),\n",
       "  (2, array([ -5.07956974, -15.9455988 ])),\n",
       "  (3, array([ 82.94549995, -16.07367264])),\n",
       "  (None, array([-81.6166136 ,  77.07243304])),\n",
       "  (None, array([-24.85869193,   6.21596563])),\n",
       "  (None, array([58.59278289, 38.0030394 ]))],\n",
       " 29: [(2, array([ -3.01390148, -17.47536668])),\n",
       "  (3, array([ 85.97416119, -22.51633048])),\n",
       "  (None, array([9.87802383, 2.17490285]))]}"
      ]
     },
     "execution_count": 18,
     "metadata": {},
     "output_type": "execute_result"
    }
   ],
   "source": [
    "# measurements\n",
    "all_measurements"
   ]
  },
  {
   "cell_type": "markdown",
   "metadata": {},
   "source": [
    "## PHD Filter"
   ]
  },
  {
   "cell_type": "markdown",
   "metadata": {},
   "source": [
    "The PHD filter propagates the first-order stastical moment (mean) of the posterior multiple-target state. \n",
    "\n",
    "Suppose, for a multi-target scenario, that the target states at time $k - 1$ are $x_{k-1,1},...,x_{k-1,M(k-1)} \\in \\mathcal{X}$. For a random finite set (RFS) $X$ on $\\mathcal{X}$ with probality distribution $P$, its mean is a nonnegative function $v$ on $\\mathcal{X}$ (the intensity) such that\n",
    "$$\n",
    "\\int |X \\cap S| P(dX) = \\int_S v(x)dx.\n",
    "$$\n",
    "\n",
    "In other words, the integral of $v$ over $S$ is the expected number of elements of $X$ in $S$."
   ]
  },
  {
   "cell_type": "markdown",
   "metadata": {},
   "source": [
    "## GM-PHD Filter"
   ]
  },
  {
   "cell_type": "markdown",
   "metadata": {},
   "source": [
    "The GM-PHD filter approximates the PHD function using Gaussian mixtures. Each target is assumed to follow a linear Gaussian model. The predicted PHD (intensity) at time $k$ is then defined as $$v_{k|k-1}(x) = \\sum_{i=1}^{J_{k|k-1}}{w^{i}_{k|k-1}\\mathcal{N}(x, m^{i}_{k|k-1},P^{i}_{k|k-1})},$$ where \n",
    "\\begin{gather*}\n",
    "    \\text{$J_{k|k-1}$: number of components} \\\\\n",
    "    \\text{$w^{i}_{k|k-1}$: weight of component $i$} \\\\\n",
    "    \\text{$m^{i}_{k|k-1}$: mean (state vector) of component $i$} \\\\\n",
    "    \\text{$P^{i}_{k|k-1}$: covariance of component $i$.}\\\\\n",
    "\\end{gather*}"
   ]
  },
  {
   "cell_type": "markdown",
   "metadata": {},
   "source": [
    "Assume the targets are linear Gaussian. The birth and spawn RFSs of each component are Gaussian mixtures."
   ]
  },
  {
   "cell_type": "code",
   "execution_count": 44,
   "metadata": {},
   "outputs": [
    {
     "name": "stdout",
     "output_type": "stream",
     "text": [
      "weights [0.1, 0.1, 0.1]\n",
      "positions [[ 56.2469882    0.         -10.90609966   0.        ]\n",
      " [ 22.30904202   0.          -4.10131286   0.        ]\n",
      " [-56.90740288   0.         -89.16461034   0.        ]]\n",
      "covariance [[100   0   0   0]\n",
      " [  0  25   0   0]\n",
      " [  0   0 100   0]\n",
      " [  0   0   0  25]]\n"
     ]
    },
    {
     "data": {
      "text/plain": [
       "'\\nw = weights\\nm = measurements \\nP = covariance \\nnum_components = number of components\\n'"
      ]
     },
     "execution_count": 44,
     "metadata": {},
     "output_type": "execute_result"
    }
   ],
   "source": [
    "# assume 3 components\n",
    "num_components = 3\n",
    "\n",
    "# assume each component has the same weight\n",
    "component_weight = 0.1\n",
    "\n",
    "# the variance of pos and vel\n",
    "pos_var = 100\n",
    "vel_var = 25\n",
    "\n",
    "# each component assumed to start at a random (x, y) ~ U([-100, 100] x [-100, 100])\n",
    "start_bounds = (-100, 100)\n",
    "\n",
    "w = [component_weight] * num_components\n",
    "m = []\n",
    "for _ in range(3):\n",
    "    m.append([np.random.uniform(start_bounds[0], start_bounds[1]), 0, np.random.uniform(start_bounds[0], start_bounds[1]), 0])\n",
    "m = np.array(m)\n",
    "P = np.diag([pos_var, pos_var, vel_var, vel_var])\n",
    "\n",
    "# print(\"weights\",w)\n",
    "# print()\n",
    "# print(\"positions\",m)\n",
    "# print()\n",
    "# print(\"covariance\",P)\n",
    "\n",
    "# \"\"\"\n",
    "# w = weights\n",
    "# m = measurements \n",
    "# P = covariance \n",
    "# num_components = number of components\n",
    "# \"\"\""
   ]
  },
  {
   "cell_type": "code",
   "execution_count": null,
   "metadata": {},
   "outputs": [],
   "source": [
    "from gmphd import mtt_phd\n",
    "\n",
    "# initialize the filter\n",
    "filter = mtt_phd(\n",
    "    weights=w,\n",
    "    position=m,\n",
    "    p_cov=P,\n",
    "    num_components=num_components,\n",
    "    state_transition_matrix=F,\n",
    "    process_noise_matrix=Q,\n",
    "    measurement_matrix=H,\n",
    "    measurement_noise=R,\n",
    "    num_steps=len(all_measurements)\n",
    ")"
   ]
  },
  {
   "cell_type": "code",
   "execution_count": null,
   "metadata": {},
   "outputs": [],
   "source": []
  }
 ],
 "metadata": {
  "kernelspec": {
   "display_name": "Python 3",
   "language": "python",
   "name": "python3"
  },
  "language_info": {
   "codemirror_mode": {
    "name": "ipython",
    "version": 3
   },
   "file_extension": ".py",
   "mimetype": "text/x-python",
   "name": "python",
   "nbconvert_exporter": "python",
   "pygments_lexer": "ipython3",
   "version": "3.12.1"
  }
 },
 "nbformat": 4,
 "nbformat_minor": 2
}
