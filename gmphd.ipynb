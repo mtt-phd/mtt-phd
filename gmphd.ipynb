{
 "cells": [
  {
   "cell_type": "code",
   "execution_count": 2,
   "metadata": {},
   "outputs": [],
   "source": [
    "import numpy as np\n",
    "import scipy.stats as sc\n",
    "import matplotlib.pyplot as plt\n",
    "from time import time"
   ]
  },
  {
   "cell_type": "code",
   "execution_count": 3,
   "metadata": {},
   "outputs": [
    {
     "data": {
      "text/plain": [
       "array([[[ -8.07218076,  -4.49125581,  -0.91033086,   2.67059409,\n",
       "           6.25151904,   9.83244399,  13.41336894,  16.99429389,\n",
       "          20.57521884,  24.15614379],\n",
       "        [ -0.8844742 ,  -2.77044353,  -4.65641285,  -6.54238217,\n",
       "          -8.4283515 , -10.31432082, -12.20029014, -14.08625947,\n",
       "         -15.97222879, -17.85819811],\n",
       "        [ -3.88086752,  -2.92152956,  -1.96219159,  -1.00285363,\n",
       "          -0.04351567,   0.91582229,   1.87516025,   2.83449821,\n",
       "           3.79383618,   4.75317414]],\n",
       "\n",
       "       [[ -6.46454434,  -3.36883308,  -0.27312181,   2.82258945,\n",
       "           5.91830072,   9.01401198,  12.10972325,  15.20543452,\n",
       "          18.30114578,  21.39685705],\n",
       "        [  5.1703906 ,   6.05898913,   6.94758765,   7.83618618,\n",
       "           8.72478471,   9.61338324,  10.50198177,  11.3905803 ,\n",
       "          12.27917883,  13.16777736],\n",
       "        [ -1.3581392 ,  -0.35850924,   0.64112072,   1.64075068,\n",
       "           2.64038064,   3.6400106 ,   4.63964056,   5.63927052,\n",
       "           6.63890048,   7.63853044]],\n",
       "\n",
       "       [[  1.68195938,   2.49405235,   3.30614531,   4.11823828,\n",
       "           4.93033125,   5.74242422,   6.55451719,   7.36661016,\n",
       "           8.17870312,   8.99079609],\n",
       "        [ -8.31111358,  -7.9489405 ,  -7.58676742,  -7.22459434,\n",
       "          -6.86242126,  -6.50024818,  -6.13807511,  -5.77590203,\n",
       "          -5.41372895,  -5.05155587],\n",
       "        [ -9.16771652,  -8.18914256,  -7.21056859,  -6.23199463,\n",
       "          -5.25342067,  -4.2748467 ,  -3.29627274,  -2.31769877,\n",
       "          -1.33912481,  -0.36055085]]])"
      ]
     },
     "execution_count": 3,
     "metadata": {},
     "output_type": "execute_result"
    }
   ],
   "source": [
    "# ground truth data\n",
    "ground_truths = np.load('mt_trajectories.npy')\n",
    "ground_truths"
   ]
  },
  {
   "cell_type": "markdown",
   "metadata": {},
   "source": [
    "## Background"
   ]
  },
  {
   "cell_type": "code",
   "execution_count": 21,
   "metadata": {},
   "outputs": [],
   "source": [
    "# # utility functions\n",
    "def create_state_matrix(dt:float = 1.0, dim:int = 2):\n",
    "    mat = []\n",
    "    for i in range(dim):\n",
    "        row = []\n",
    "        for j in range(dim):\n",
    "            if i == j:\n",
    "                row.append(np.array([[1, dt], [0, 1]]))\n",
    "            else:\n",
    "                row.append(np.zeros((2, 2)))\n",
    "        mat.append(row)\n",
    "    return np.block(mat)\n",
    "\n",
    "def create_measurement_matrix(dim:int = 2):\n",
    "    mat = []\n",
    "    for i in range(dim):\n",
    "        row = []\n",
    "        for j in range(dim):\n",
    "            if i == j:\n",
    "                row.append(np.array([1, 0]))\n",
    "            else:\n",
    "                row.append(np.zeros(2))\n",
    "        mat.append(row)\n",
    "    return np.block(mat)"
   ]
  },
  {
   "cell_type": "markdown",
   "metadata": {},
   "source": [
    "The motion model describes how objects of a system move. Define the motion model as $$x_{k+1} = F \\times x_{k} + w_{k}$$ where\n",
    "\\begin{gather*}\n",
    "    \\text{$x_{k+1}$: next state} \\\\\n",
    "    \\text{$F$: state transition matrix} \\\\\n",
    "    \\text{$x_{k}$: current state} \\\\\n",
    "    \\text{$w_{k}$: process noise.} \\\\\n",
    "\\end{gather*}\n",
    "\n",
    "Assume motion is constant velocity in 2 dimensions, where state is represented by $[x, v_{x}, y, v_{y}]$ (i.e., x-pos, x-vel, y-pos, y-vel). Then, $F$ is defined by\n",
    "$$ F = \\begin{bmatrix}\n",
    "    1 & dt & 0 & 0 \\\\\n",
    "    0 & 1 & 0 & 0 \\\\\n",
    "    0 & 0 & 1 & dt \\\\\n",
    "    0 & 0 & 0 & 1 \\\\\n",
    "\\end{bmatrix}.$$"
   ]
  },
  {
   "cell_type": "code",
   "execution_count": 33,
   "metadata": {},
   "outputs": [
    {
     "data": {
      "text/plain": [
       "array([[1., 1., 0., 0.],\n",
       "       [0., 1., 0., 0.],\n",
       "       [0., 0., 1., 1.],\n",
       "       [0., 0., 0., 1.]])"
      ]
     },
     "execution_count": 33,
     "metadata": {},
     "output_type": "execute_result"
    }
   ],
   "source": [
    "# dimensions\n",
    "dim = 2\n",
    "# timestep (1s)\n",
    "dt = 1.0\n",
    "# state transition matrix\n",
    "F = create_state_matrix(dt, dim)\n",
    "F"
   ]
  },
  {
   "cell_type": "markdown",
   "metadata": {},
   "source": [
    "Assume $w_{k}$ has 0 mean and 0.25 variance. Sampled from a multivariate Gaussian, its covariance $Q$ is defined by\n",
    "$$ Q = \\begin{bmatrix}\n",
    "    0.25 & 0 & 0 & 0 \\\\\n",
    "    0 & 0.25 & 0 & 0 \\\\\n",
    "    0 & 0 & 0.25 & 0 \\\\\n",
    "    0 & 0 & 0 & 0.25 \\\\\n",
    "\\end{bmatrix}.$$"
   ]
  },
  {
   "cell_type": "code",
   "execution_count": 35,
   "metadata": {},
   "outputs": [
    {
     "data": {
      "text/plain": [
       "array([[0.25, 0.  , 0.  , 0.  ],\n",
       "       [0.  , 0.25, 0.  , 0.  ],\n",
       "       [0.  , 0.  , 0.25, 0.  ],\n",
       "       [0.  , 0.  , 0.  , 0.25]])"
      ]
     },
     "execution_count": 35,
     "metadata": {},
     "output_type": "execute_result"
    }
   ],
   "source": [
    "# process noise covariance\n",
    "Q = np.identity(F.shape[0]) * 0.25\n",
    "Q"
   ]
  },
  {
   "cell_type": "markdown",
   "metadata": {},
   "source": [
    "The measurement model describes what the sensor sees. Define the measurement model as $$ z_{k} = Hx_{k} + v_{k}$$ where\n",
    "\\begin{gather*}\n",
    "    \\text{$z_{k}$: observed measurement} \\\\\n",
    "    \\text{$H$: measurement matrix} \\\\\n",
    "    \\text{$v_{k}$: measurement noise.} \\\\\n",
    "\\end{gather*}\n",
    "\n",
    "Assume a sensor only measures position. Then, $H$ is defined by\n",
    "$$ H = \\begin{bmatrix}\n",
    "    1 & 0 & 0 & 0 \\\\\n",
    "    0 & 0 & 1 & 0 \\\\\n",
    "\\end{bmatrix}.$$\n"
   ]
  },
  {
   "cell_type": "code",
   "execution_count": 22,
   "metadata": {},
   "outputs": [
    {
     "data": {
      "text/plain": [
       "array([[1., 0., 0., 0.],\n",
       "       [0., 0., 1., 0.]])"
      ]
     },
     "execution_count": 22,
     "metadata": {},
     "output_type": "execute_result"
    }
   ],
   "source": [
    "# measurement matrix\n",
    "H = create_measurement_matrix(dim)\n",
    "H"
   ]
  },
  {
   "cell_type": "markdown",
   "metadata": {},
   "source": [
    "Assume $v_{k}$ has 0 mean and 1 variance. Its covariance R is defined by\n",
    "$$ R = \\begin{bmatrix}\n",
    "    1 & 0 \\\\\n",
    "    0 & 1 \\\\\n",
    "\\end{bmatrix}.$$"
   ]
  },
  {
   "cell_type": "code",
   "execution_count": 36,
   "metadata": {},
   "outputs": [
    {
     "data": {
      "text/plain": [
       "array([[1., 0.],\n",
       "       [0., 1.]])"
      ]
     },
     "execution_count": 36,
     "metadata": {},
     "output_type": "execute_result"
    }
   ],
   "source": [
    "# measurement noise covariance\n",
    "R = np.identity(H.shape[0]) * 1\n",
    "R"
   ]
  },
  {
   "cell_type": "markdown",
   "metadata": {},
   "source": [
    "## GM-PHD Filter"
   ]
  },
  {
   "cell_type": "markdown",
   "metadata": {},
   "source": [
    "The GM-PHD filter approximates the PHD function with a Gaussian mixture. Each target is treated as a Gaussian component. The PHD is then defined as $$D_{k|k}(x) = \\sum_{i=1}^{J_{k|k}}{w^{i}_{k|k}\\mathcal{N}(x, m^{i}_{k|k},P^{i}_{k|k})},$$ where \n",
    "\\begin{gather*}\n",
    "    \\text{$J_{k|k}$: number of components} \\\\\n",
    "    \\text{$w^{i}_{k|k}$: weight of component $i$} \\\\\n",
    "    \\text{$m^{i}_{k|k}$: mean of component $i$} \\\\\n",
    "    \\text{$P^{i}_{k|k}$: covariance of component $i$.}\\\\\n",
    "\\end{gather*}"
   ]
  },
  {
   "cell_type": "code",
   "execution_count": null,
   "metadata": {},
   "outputs": [],
   "source": [
    "# number of components\n",
    "num_components = 3\n"
   ]
  }
 ],
 "metadata": {
  "kernelspec": {
   "display_name": "Python 3",
   "language": "python",
   "name": "python3"
  },
  "language_info": {
   "codemirror_mode": {
    "name": "ipython",
    "version": 3
   },
   "file_extension": ".py",
   "mimetype": "text/x-python",
   "name": "python",
   "nbconvert_exporter": "python",
   "pygments_lexer": "ipython3",
   "version": "3.12.1"
  }
 },
 "nbformat": 4,
 "nbformat_minor": 2
}
